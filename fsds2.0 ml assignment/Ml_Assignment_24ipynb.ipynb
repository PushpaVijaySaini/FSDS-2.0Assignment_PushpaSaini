{
  "nbformat": 4,
  "nbformat_minor": 0,
  "metadata": {
    "colab": {
      "provenance": []
    },
    "kernelspec": {
      "name": "python3",
      "display_name": "Python 3"
    },
    "language_info": {
      "name": "python"
    }
  },
  "cells": [
    {
      "cell_type": "markdown",
      "source": [
        "1. What is your definition of clustering? What are a few clustering algorithms you might think of?"
      ],
      "metadata": {
        "id": "Mmpwi7N0BC-2"
      }
    },
    {
      "cell_type": "markdown",
      "source": [
        "Clustering or cluster analysis is a machine learning technique, which groups the unlabelled dataset. It can be defined as \"A way of grouping the data points into different clusters, consisting of similar data points.\n",
        "\n",
        "There are two different types of clustering, which are hierarchical and non-hierarchical methods.\n",
        "\n",
        " Non-hierarchical Clustering In this method, the dataset containing N objects is divided into M clusters.\n",
        "\n",
        " Hierarchical Clustering In this method, a set of nested clusters are produced. In these nested clusters, every pair of objects is further nested to form a large cluster until only one cluster remains in the end.\n"
      ],
      "metadata": {
        "id": "2ExDG2FgBC7X"
      }
    },
    {
      "cell_type": "markdown",
      "source": [
        "2. What are some of the most popular clustering algorithm applications?"
      ],
      "metadata": {
        "id": "BC-jTadfBC3d"
      }
    },
    {
      "cell_type": "markdown",
      "source": [
        " Clustering Algorithms:\n",
        "\n",
        "Affinity Propagation\n",
        "\n",
        "Agglomerative Hierarchical Clustering\n",
        "\n",
        "BIRCH (Balanced Iterative Reducing and Clustering using Hierarchies)\n",
        "\n",
        "DBSCAN (Density-Based Spatial Clustering of Applications with Noise)\n",
        "\n",
        "Gaussian Mixture Models (GMM)\n",
        "\n",
        "K-Means\n",
        "\n",
        "Mean Shift Clustering\n",
        "\n",
        "Mini-Batch K-Means\n",
        "\n",
        "OPTICS\n",
        "\n",
        "Spectral Clustering\n",
        "\n",
        "Some common applications for clustering include the following:\n",
        "market segmentation.\n",
        "social network analysis.\n",
        "search result grouping.\n",
        "medical imaging.\n",
        "image segmentation.\n",
        "anomaly detection.\n",
        "\n"
      ],
      "metadata": {
        "id": "MDuhdyJCBCzk"
      }
    },
    {
      "cell_type": "markdown",
      "source": [
        "3. When using K-Means, describe two strategies for selecting the appropriate number of clusters."
      ],
      "metadata": {
        "id": "fxutFOsNBCqx"
      }
    },
    {
      "cell_type": "markdown",
      "source": [
        "K-means clustering algorithm can be significantly improved by using a better initialization technique, and by repeating (re-starting) the algorithm. When the data has overlapping clusters, k-means can improve the results of the initialization technique."
      ],
      "metadata": {
        "id": "LNlxsgA1BCd8"
      }
    },
    {
      "cell_type": "markdown",
      "source": [
        "4. What is mark propagation and how does it work? Why would you do it, and how would you do it?"
      ],
      "metadata": {
        "id": "uW4wO-IhDvRi"
      }
    },
    {
      "cell_type": "markdown",
      "source": [
        "Backpropagation (backward propagation) is an important mathematical tool for improving the accuracy of predictions in data mining and machine learning. Essentially, backpropagation is an algorithm used to calculate derivatives quickly.\n",
        "\n",
        "The backpropagation algorithm works by computing the gradient of the loss function with respect to each weight by the chain rule, computing the gradient one layer at a time, iterating backward from the last layer to avoid redundant calculations of intermediate terms in the chain rule."
      ],
      "metadata": {
        "id": "neMhuuzqDvFY"
      }
    },
    {
      "cell_type": "markdown",
      "source": [
        "5. Provide two examples of clustering algorithms that can handle large datasets. And two that look\n",
        "for high-density areas?"
      ],
      "metadata": {
        "id": "BKhhIBRhDvBd"
      }
    },
    {
      "cell_type": "markdown",
      "source": [
        " The most commonly used algorithm in clustering are partitioning, hierarchical, grid based, density based, and model based algorithms. A review of clustering and its different techniques in data mining is done considering the criteria's for big data."
      ],
      "metadata": {
        "id": "o_yF8RkxDu_E"
      }
    },
    {
      "cell_type": "markdown",
      "source": [
        "6. Can you think of a scenario in which constructive learning will be advantageous? How can you go\n",
        "about putting it into action?"
      ],
      "metadata": {
        "id": "FFB-AP0QDu8C"
      }
    },
    {
      "cell_type": "markdown",
      "source": [
        "In Constructivist learning, the traditional classroom learning procedure is flipped. Instead of a teacher informing a child about a subject and constructing a meaning for them, in constructivist learning, children construct their own meanings. Now, this may not be the best approach for every learning environment, but it can be tremendously helpful at home.\n",
        "\n",
        "The home environment is where children primarily develop a sense of self and is the perfect setting for children to practice taking initiative in their learning via a Constructivist approach."
      ],
      "metadata": {
        "id": "a0OyRo5fDu4z"
      }
    },
    {
      "cell_type": "markdown",
      "source": [
        "7. How do you tell the difference between anomaly and novelty detection?"
      ],
      "metadata": {
        "id": "RfQC-1wdEpQ8"
      }
    },
    {
      "cell_type": "markdown",
      "source": [
        " we can think of anomalies as unusual or unexpected data instances within a dataset. The term is often used interchangeably with outliers. Similarly, novelties are also anomalies in data, but they only exist in new instances. They don't reside in the original dataset."
      ],
      "metadata": {
        "id": "aDAFBKqXEpNl"
      }
    },
    {
      "cell_type": "markdown",
      "source": [
        "8. What is a Gaussian mixture, and how does it work? What are some of the things you can do about\n",
        "it?"
      ],
      "metadata": {
        "id": "USa1jGNjEpKv"
      }
    },
    {
      "cell_type": "markdown",
      "source": [
        "A Gaussian Mixture is a function that is comprised of several Gaussians, each identified by k ∈ {1,…, K}, where K is the number of clusters of our dataset. Each Gaussian k in the mixture is comprised of the following parameters: A mean μ that defines its centre. A covariance Σ that defines its width.\n",
        "\n"
      ],
      "metadata": {
        "id": "ZfSWfwVvE6d6"
      }
    },
    {
      "cell_type": "markdown",
      "source": [
        "\n",
        "\n",
        "9. When using a Gaussian mixture model, can you name two techniques for determining the correct\n",
        "number of clusters?"
      ],
      "metadata": {
        "id": "mkcfpPP5EojJ"
      }
    },
    {
      "cell_type": "markdown",
      "source": [
        "Gaussian mixture models (GMMs) are often used for data clustering. You can use GMMs to perform either hard clustering or soft clustering on query data. To perform hard clustering, the GMM assigns query data points to the multivariate normal components that maximize the component posterior probability, given the data.\n",
        "\n"
      ],
      "metadata": {
        "id": "6YdpV51IFSvx"
      }
    },
    {
      "cell_type": "code",
      "execution_count": null,
      "metadata": {
        "id": "NL17tk7SAv7f"
      },
      "outputs": [],
      "source": []
    }
  ]
}