{
  "nbformat": 4,
  "nbformat_minor": 0,
  "metadata": {
    "colab": {
      "provenance": []
    },
    "kernelspec": {
      "name": "python3",
      "display_name": "Python 3"
    },
    "language_info": {
      "name": "python"
    }
  },
  "cells": [
    {
      "cell_type": "markdown",
      "source": [
        "1. Is there any way to combine five different models that have all been trained on the same training\n",
        "data and have all achieved 95 percent precision? If so, how can you go about doing it? If not, what is\n",
        "the reason?"
      ],
      "metadata": {
        "id": "XM9qXh7R4yWT"
      }
    },
    {
      "cell_type": "markdown",
      "source": [
        "Hybrid Model: A technique that combines two or more different machine learning models in some way. But we can't get 95 percent precision as all other models give different precision rate accuracy is differed"
      ],
      "metadata": {
        "id": "0hgObClN6GZL"
      }
    },
    {
      "cell_type": "markdown",
      "source": [
        "2. What's the difference between hard voting classifiers and soft voting classifiers ?"
      ],
      "metadata": {
        "id": "VuRwGGs66GVz"
      }
    },
    {
      "cell_type": "markdown",
      "source": [
        "In classification problems, there are two types of voting: hard voting and soft voting. Hard voting entails picking the prediction with the highest number of votes, whereas soft voting entails combining the probabilities of each prediction in each model and picking the prediction with the highest total probability."
      ],
      "metadata": {
        "id": "-jZFk5l86GJy"
      }
    },
    {
      "cell_type": "markdown",
      "source": [
        "3. Is it possible to distribute a bagging ensemble&#39;s training through several servers to speed up the\n",
        "process? Pasting ensembles, boosting ensembles, Random Forests, and stacking ensembles are all\n",
        "options."
      ],
      "metadata": {
        "id": "oJMgMiYV6chL"
      }
    },
    {
      "cell_type": "markdown",
      "source": [
        "Yes ,It is opossible to speed up training of a bagging ensemble by distributing it across multiple servers, since each predictor in the ensemble is independent of the others. The same goes for pasting ensembles and Random Forests, for the same reason."
      ],
      "metadata": {
        "id": "mqesqost7CDc"
      }
    },
    {
      "cell_type": "markdown",
      "source": [
        "4. What is the advantage of evaluating out of the bag?"
      ],
      "metadata": {
        "id": "ztjyF0jo7Hg9"
      }
    },
    {
      "cell_type": "markdown",
      "source": [
        "OOB evaluation is effective to compute permutation variable importance for random forest models."
      ],
      "metadata": {
        "id": "YxrL0KPG7HdV"
      }
    },
    {
      "cell_type": "markdown",
      "source": [
        "5. What distinguishes Extra-Trees from ordinary Random Forests? What good would this extra\n",
        "randomness do? Is it true that Extra-Tree Random Forests are slower or faster than normal Random\n",
        "Forests?"
      ],
      "metadata": {
        "id": "r7z-9bjF7HaS"
      }
    },
    {
      "cell_type": "markdown",
      "source": [
        "The main two differences are the following:\n",
        "\n",
        "Random forest uses bootstrap replicas, that is to say, it subsamples the input data with replacement, whereas Extra Trees use the whole original sample. In the Extra Trees sklearn implementation there is an optional parameter that allows users to bootstrap replicas, but by default, it uses the entire input sample. This may increase variance because bootstrapping makes it more diversified.\n",
        "\n",
        "Another difference is the selection of cut points in order to split nodes. Random Forest chooses the optimum split while Extra Trees chooses it randomly. However, once the split points are selected, the two algorithms choose the best one between all the subset of features. Therefore, Extra Trees adds randomization but still has optimization.\n",
        "\n",
        "In terms of computational cost, and therefore execution time, the Extra Trees algorithm is faster. This algorithm saves time because the whole procedure is the same, but it randomly chooses the split point and does not calculate the optimal one."
      ],
      "metadata": {
        "id": "YNTNa_YW8P9i"
      }
    },
    {
      "cell_type": "markdown",
      "source": [
        "6. Which hyperparameters and how do you tweak if your AdaBoost ensemble underfits the training\n",
        "data?"
      ],
      "metadata": {
        "id": "hLElfM8b83cS"
      }
    },
    {
      "cell_type": "markdown",
      "source": [
        "If AdaBoost ensemble underfits the training data, we can try increasing the number of estimators or reducing the regularization hyperparameters of the base estimator. We may also try slightly increasing the learning rate."
      ],
      "metadata": {
        "id": "GYMqcca28-Y7"
      }
    },
    {
      "cell_type": "markdown",
      "source": [
        "7. Should you raise or decrease the learning rate if your Gradient Boosting ensemble overfits the\n",
        "training set?"
      ],
      "metadata": {
        "id": "GO_hozCa8-VK"
      }
    },
    {
      "cell_type": "markdown",
      "source": [
        "If Gradient Boosting ensemble overfits the training set, we should try decreasing the learning rate. We could also use early stopping to find the right number of predictors."
      ],
      "metadata": {
        "id": "1w04Fhlj9ajY"
      }
    },
    {
      "cell_type": "code",
      "execution_count": null,
      "metadata": {
        "id": "sok1BOVC3fb2"
      },
      "outputs": [],
      "source": []
    }
  ]
}