{
  "nbformat": 4,
  "nbformat_minor": 0,
  "metadata": {
    "colab": {
      "provenance": []
    },
    "kernelspec": {
      "name": "python3",
      "display_name": "Python 3"
    },
    "language_info": {
      "name": "python"
    }
  },
  "cells": [
    {
      "cell_type": "markdown",
      "source": [
        "Q1. Which two operator overloading methods can you use in your classes to support iteration?\n",
        "\n",
        "Ans: __iter__ and __next__ are the operator overloading methods in python that support iteration and are collectively called iterator protocol.\n",
        "\n",
        "__iter__ returns the iterator object and is called at the start of loop in our respective class.\n",
        "__next__ is called at each loop increment, it returns the incremented value. Also Stopiteration is raised when there is no value to return."
      ],
      "metadata": {
        "id": "1E-0fMuGhrC1"
      }
    },
    {
      "cell_type": "markdown",
      "source": [
        "Q2. In what contexts do the two operator overloading methods manage printing?\n",
        "\n",
        "Ans: __str__ and __repr__ are two operator overloading methods that manage printing.\n",
        "\n",
        "In Short, the difference between both these operators is the goal of __repr__ is to be unambiguous and __str__ is to be readable.\n",
        "Whenever we are printing any object reference internally __str__ method will be called by default.\n",
        "The main purpose of __str__ is for readability. it prints the informal string representation of an object, one that is useful for printing the object. it may not be possible to convert result string to original object.\n",
        "__repr__ is used to print official string representation of an object, so it includes all information and development."
      ],
      "metadata": {
        "id": "xhEecFBXhq_u"
      }
    },
    {
      "cell_type": "markdown",
      "source": [
        "Q3. In a class, how do you intercept slice operations?\n",
        "\n",
        "Ans: In a class use of slice() in __getitem__ method is used for intercept slice operation. This slice method is provided with start integer number, stop integer number and step integer number.\n",
        "\n",
        "Example: __getitem__(slice(start,stop,step))"
      ],
      "metadata": {
        "id": "tzMGH1fZhq9L"
      }
    },
    {
      "cell_type": "markdown",
      "source": [
        "Q4. In a class, how do you capture in-place addition?\n",
        "\n",
        "Ans: a+b is normal addition. Whereas a+=b is inplace addition operation. In this in-place addition a itself will store the value of addition. In a class __iadd__ method is used for this in-place operation"
      ],
      "metadata": {
        "id": "_M045XiDhq6x"
      }
    },
    {
      "cell_type": "markdown",
      "source": [
        "Q5. When is it appropriate to use operator overloading?\n",
        "\n",
        "Ans: Operator overloading is used when we want to use an operator other than its normal operation to have different meaning according to the context required in user defined function."
      ],
      "metadata": {
        "id": "dm_RQTGPhq4G"
      }
    },
    {
      "cell_type": "markdown",
      "source": [],
      "metadata": {
        "id": "0bkvYBUhhq1D"
      }
    },
    {
      "cell_type": "markdown",
      "source": [],
      "metadata": {
        "id": "vain_XkRhqyT"
      }
    },
    {
      "cell_type": "markdown",
      "source": [],
      "metadata": {
        "id": "9jR9lKPVhqv4"
      }
    },
    {
      "cell_type": "markdown",
      "source": [],
      "metadata": {
        "id": "DBy_K8qDhqtA"
      }
    },
    {
      "cell_type": "code",
      "execution_count": null,
      "metadata": {
        "id": "EgusCReYhbeK"
      },
      "outputs": [],
      "source": []
    }
  ]
}