{
  "nbformat": 4,
  "nbformat_minor": 0,
  "metadata": {
    "colab": {
      "provenance": []
    },
    "kernelspec": {
      "name": "python3",
      "display_name": "Python 3"
    },
    "language_info": {
      "name": "python"
    }
  },
  "cells": [
    {
      "cell_type": "markdown",
      "source": [
        "Q1. Does assigning a value to a string's indexed character violate Python's string immutability ?\n",
        "\n",
        "Ans: String’s indexed character cannot to be assigned a New value , as Strings are immutable.\n",
        "\n",
        "Example:\n",
        "name = \"Reinforcement\"\n",
        "\n",
        "print(id(name)) #73472\n",
        "\n",
        "name[0] = \"V\" # Raises TypeError\n",
        "\n",
        "Q2. Does using the += operator to concatenate strings violate Python's string immutability? Why or why not ?\n",
        "\n",
        "Ans: += operator is used to concatenate strings, it does not violate Python’s string immutability Property. Because doing so new creates a new association with data and variable. E.g. str_1=\"a\" and str_1+=\"b. effect of this statements to create string ab and reassign it to variable str_1, any string data is not actually modified."
      ],
      "metadata": {
        "id": "RWndSXilm3fK"
      }
    },
    {
      "cell_type": "markdown",
      "source": [
        "Q3. In Python, how many different ways are there to index a character?\n",
        "\n",
        "Ans: A Character in string can be indexed using string name followed by index number of character in square bracket. Positive Indexing i.e. first index is 0 an so on, or Negative Indexing i.e. last letter is -1 and so on can be used to index a character"
      ],
      "metadata": {
        "id": "4DfOmqLYm3Nc"
      }
    },
    {
      "cell_type": "markdown",
      "source": [
        "Q4. What is the relationship between indexing and slicing?\n",
        "\n",
        "Ans: We can access elements of sequence datatypes by using slicing and indexing. Indexing is used to obtaining individual element while slicing for sequence of elements."
      ],
      "metadata": {
        "id": "cHvMXxAmnEGC"
      }
    },
    {
      "cell_type": "markdown",
      "source": [
        "Q5. What is an indexed character's exact data type? What is the data form of a slicing-generated substring?\n",
        "\n",
        "Ans: Indexed characters and sliced substrings have datatype String."
      ],
      "metadata": {
        "id": "f2-WzRvonKT_"
      }
    },
    {
      "cell_type": "markdown",
      "source": [
        "Q6. What is the relationship between string and character \"types\" in Python?\n",
        "\n",
        "Ans: Object that contains sequence of character datatypes are called String.\n",
        "\n",
        "Q7. Identify at least two operators & one method that allow you to combine one or more smaller strings to create a larger string ?\n",
        "\n",
        "Ans: +, += and * allow to combine one or more smaller strings to create a larger string. <string>.join(<sep>) method joins element of iterable type like list and tuple to get a combined string."
      ],
      "metadata": {
        "id": "6cEoDjKAnKDu"
      }
    },
    {
      "cell_type": "markdown",
      "source": [
        "Q8. What is the benefit of first checking the target string with in or not in before using the index method to find a substring ?\n",
        "\n",
        "Ans: Checking the target string with in or not Operators before using the index method to find a substring just helps confirming availability of substring and thus avoid raising of ValueError.\n",
        "\n",
        "Example:\n",
        "\n",
        "in_string = \"ineuron\"\n",
        "\n",
        "in_string.index('x') # Raises ValueError\n",
        "\n",
        "in_string.index('u') # 3\n",
        "\n",
        "Q9. Which operators and built-in string methods produce simple Boolean (true/false) results?\n",
        "\n",
        "Ans: The String Operators and built-in methods to Produce Simple Boolean (True/False) Results are:\n",
        "\n",
        "in\n",
        "\n",
        "not\n",
        "\n",
        "<string>.isalpha()\n",
        "\n",
        "<string>.isalnum()\n",
        "\n",
        "<string>.isdecimal()\n",
        "\n",
        "<string>.isdigit()\n",
        "\n",
        "<string>.islower()\n",
        "\n",
        "<string>.isnumeric()\n",
        "\n",
        "<string>.isprintable()\n",
        "\n",
        "<string>.isspace()\n",
        "\n",
        "<string>.istitle()"
      ],
      "metadata": {
        "id": "Fq8tVZ6XnUOY"
      }
    },
    {
      "cell_type": "code",
      "execution_count": null,
      "metadata": {
        "id": "ud1UEv-rms2E"
      },
      "outputs": [],
      "source": []
    }
  ]
}