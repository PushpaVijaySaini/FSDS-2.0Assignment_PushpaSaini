{
  "nbformat": 4,
  "nbformat_minor": 0,
  "metadata": {
    "colab": {
      "provenance": []
    },
    "kernelspec": {
      "name": "python3",
      "display_name": "Python 3"
    },
    "language_info": {
      "name": "python"
    }
  },
  "cells": [
    {
      "cell_type": "markdown",
      "source": [
        "1. Create a list called years_list, starting with the year of your birth, and each year thereafter until\n",
        "the year of your fifth birthday. For example, if you were born in 1980. the list would be years_list =\n",
        "[1980, 1981, 1982, 1983, 1984, 1985]."
      ],
      "metadata": {
        "id": "Jx9VIDzlNnuv"
      }
    },
    {
      "cell_type": "code",
      "execution_count": null,
      "metadata": {
        "colab": {
          "base_uri": "https://localhost:8080/"
        },
        "id": "45UGuVBPNTsi",
        "outputId": "60cae460-744c-403e-aa79-02d42ea1a9cd"
      },
      "outputs": [
        {
          "output_type": "stream",
          "name": "stdout",
          "text": [
            "[1987, 1988, 1989, 1990, 1991, 1992]\n"
          ]
        }
      ],
      "source": [
        "years_list = [ele for ele in range(1987,1987+6)]\n",
        "print(years_list)"
      ]
    },
    {
      "cell_type": "markdown",
      "source": [
        "2. In which year in years_list was your third birthday? Remember, you were 0 years of age for your first year."
      ],
      "metadata": {
        "id": "EGKrnmbPN483"
      }
    },
    {
      "cell_type": "code",
      "source": [
        "print(years_list[3])"
      ],
      "metadata": {
        "colab": {
          "base_uri": "https://localhost:8080/"
        },
        "id": "o_tELyXQNzOc",
        "outputId": "7d130e33-160d-4d61-f3a2-4963545b4a1b"
      },
      "execution_count": null,
      "outputs": [
        {
          "output_type": "stream",
          "name": "stdout",
          "text": [
            "1990\n"
          ]
        }
      ]
    },
    {
      "cell_type": "markdown",
      "source": [
        "3.In the years list, which year were you the oldest?"
      ],
      "metadata": {
        "id": "OhZF_jNIOBFb"
      }
    },
    {
      "cell_type": "code",
      "source": [
        "print(years_list[-1])"
      ],
      "metadata": {
        "colab": {
          "base_uri": "https://localhost:8080/"
        },
        "id": "6vhsb_kQN7Qe",
        "outputId": "ed263233-3aae-4816-c623-70f6e74b1f0d"
      },
      "execution_count": null,
      "outputs": [
        {
          "output_type": "stream",
          "name": "stdout",
          "text": [
            "1992\n"
          ]
        }
      ]
    },
    {
      "cell_type": "markdown",
      "source": [
        "4. Make a list called things with these three strings as elements: \"mozzarella\", \"cinderella\", \"salmonella\""
      ],
      "metadata": {
        "id": "3CTbhwgROKhy"
      }
    },
    {
      "cell_type": "code",
      "source": [
        "things = [ele+'ella' for ele in ['mozzar','cinder','salmon']]\n",
        "print(things)"
      ],
      "metadata": {
        "colab": {
          "base_uri": "https://localhost:8080/"
        },
        "id": "LgTgIIpVOEf7",
        "outputId": "4e5cad1b-39b1-425f-9e0b-5babd691c853"
      },
      "execution_count": null,
      "outputs": [
        {
          "output_type": "stream",
          "name": "stdout",
          "text": [
            "['mozzarella', 'cinderella', 'salmonella']\n"
          ]
        }
      ]
    },
    {
      "cell_type": "markdown",
      "source": [
        "5. Capitalize the element in things that refers to a person and then print the list. Did it change the element in the list?"
      ],
      "metadata": {
        "id": "UZlXsqhxOc4A"
      }
    },
    {
      "cell_type": "code",
      "source": [
        "for ele in range(len(things)):\n",
        "    if things[ele] == 'cinderella':\n",
        "        things[ele] = things[ele].capitalize()\n",
        "print(things)"
      ],
      "metadata": {
        "colab": {
          "base_uri": "https://localhost:8080/"
        },
        "id": "OkF9lgxZORbJ",
        "outputId": "a32c31c4-3bd0-44c9-c416-fa9a57962b89"
      },
      "execution_count": null,
      "outputs": [
        {
          "output_type": "stream",
          "name": "stdout",
          "text": [
            "['mozzarella', 'Cinderella', 'salmonella']\n"
          ]
        }
      ]
    },
    {
      "cell_type": "markdown",
      "source": [
        "6. Make a surprise list with the elements \"Groucho,\" \"Chico,\" and \"Harpo.\""
      ],
      "metadata": {
        "id": "8DyPvVZ1Oo-v"
      }
    },
    {
      "cell_type": "code",
      "source": [
        "suprise_list = ['Groucho','Chico','Harpo']\n",
        "print(suprise_list)"
      ],
      "metadata": {
        "colab": {
          "base_uri": "https://localhost:8080/"
        },
        "id": "gzDTo8jwOl6x",
        "outputId": "6705e30f-00a3-48c5-dd85-ae2d3f72a7a1"
      },
      "execution_count": null,
      "outputs": [
        {
          "output_type": "stream",
          "name": "stdout",
          "text": [
            "['Groucho', 'Chico', 'Harpo']\n"
          ]
        }
      ]
    },
    {
      "cell_type": "markdown",
      "source": [
        "7. Lowercase the last element of the surprise list, reverse it, and then capitalize it."
      ],
      "metadata": {
        "id": "R6kQS87gO3dG"
      }
    },
    {
      "cell_type": "code",
      "source": [
        "print(suprise_list[-1].lower()[::-1].capitalize())"
      ],
      "metadata": {
        "colab": {
          "base_uri": "https://localhost:8080/"
        },
        "id": "4H29_4v9O0QJ",
        "outputId": "a0fe4557-a325-409e-9c09-8e9f8c96dd16"
      },
      "execution_count": null,
      "outputs": [
        {
          "output_type": "stream",
          "name": "stdout",
          "text": [
            "Oprah\n"
          ]
        }
      ]
    },
    {
      "cell_type": "markdown",
      "source": [
        "8. Make an English-to-French dictionary called e2f and print it. Here are your starter words: dog is chien, cat is chat, and walrus is morse."
      ],
      "metadata": {
        "id": "Hdt7x8xUPAEt"
      }
    },
    {
      "cell_type": "code",
      "source": [
        "e2f = {'dog':'chien','cat':'chat','walrus':'morse'}\n",
        "print(e2f)"
      ],
      "metadata": {
        "colab": {
          "base_uri": "https://localhost:8080/"
        },
        "id": "NkXUtQdpO9NV",
        "outputId": "2000c52f-aa93-4e14-f882-65d61864e351"
      },
      "execution_count": null,
      "outputs": [
        {
          "output_type": "stream",
          "name": "stdout",
          "text": [
            "{'dog': 'chien', 'cat': 'chat', 'walrus': 'morse'}\n"
          ]
        }
      ]
    },
    {
      "cell_type": "markdown",
      "source": [
        "9. Write the French word for walrus in your three-word dictionary e2f."
      ],
      "metadata": {
        "id": "bMJqWUtwPJAm"
      }
    },
    {
      "cell_type": "code",
      "source": [
        "print(e2f.get('walrus'))"
      ],
      "metadata": {
        "colab": {
          "base_uri": "https://localhost:8080/"
        },
        "id": "ZehKwVylPEw7",
        "outputId": "e4e152c7-fc9e-464c-c8a1-203ba8320e3d"
      },
      "execution_count": null,
      "outputs": [
        {
          "output_type": "stream",
          "name": "stdout",
          "text": [
            "morse\n"
          ]
        }
      ]
    },
    {
      "cell_type": "markdown",
      "source": [
        "10. Make a French-to-English dictionary called f2e from e2f. Use the items method."
      ],
      "metadata": {
        "id": "MLnZFP3FPWZf"
      }
    },
    {
      "cell_type": "code",
      "source": [
        "f2e = dict([ele[::-1] for ele in e2f.items()])\n",
        "print(f2e)"
      ],
      "metadata": {
        "colab": {
          "base_uri": "https://localhost:8080/"
        },
        "id": "uzEWchywPXLm",
        "outputId": "a338565a-e65d-4edd-f386-d61364f12e37"
      },
      "execution_count": null,
      "outputs": [
        {
          "output_type": "stream",
          "name": "stdout",
          "text": [
            "{'chien': 'dog', 'chat': 'cat', 'morse': 'walrus'}\n"
          ]
        }
      ]
    },
    {
      "cell_type": "markdown",
      "source": [
        "11. Print the English version of the French word chien using f2e."
      ],
      "metadata": {
        "id": "SNgKgGbLPbP3"
      }
    },
    {
      "cell_type": "code",
      "source": [
        "print(f2e.get('chien'))"
      ],
      "metadata": {
        "colab": {
          "base_uri": "https://localhost:8080/"
        },
        "id": "L4idTFkOPZWR",
        "outputId": "f4d21db1-57fe-4213-8728-69f6ba12a7d9"
      },
      "execution_count": null,
      "outputs": [
        {
          "output_type": "stream",
          "name": "stdout",
          "text": [
            "dog\n"
          ]
        }
      ]
    },
    {
      "cell_type": "markdown",
      "source": [
        "12. Make and print a set of English words from the keys in e2f."
      ],
      "metadata": {
        "id": "4mHm_iXYPp8X"
      }
    },
    {
      "cell_type": "code",
      "source": [
        "print(list(e2f.keys()))"
      ],
      "metadata": {
        "colab": {
          "base_uri": "https://localhost:8080/"
        },
        "id": "2-xnkERSPpIx",
        "outputId": "8ff76ee9-66e1-4984-c327-cdfe74b4546e"
      },
      "execution_count": null,
      "outputs": [
        {
          "output_type": "stream",
          "name": "stdout",
          "text": [
            "['dog', 'cat', 'walrus']\n"
          ]
        }
      ]
    },
    {
      "cell_type": "markdown",
      "source": [
        "13. Make a multilevel dictionary called life. Use these strings for the topmost keys: 'animals', 'plants', and 'other'. Make the 'animals' key refer to another dictionary with the keys 'cats', 'octopi', and 'emus'. Make the 'cats' key refer to a list of strings with the values 'Henri', 'Grumpy', and 'Lucy'. Make all the other keys refer to empty dictionaries."
      ],
      "metadata": {
        "id": "z8aDhKHhPvmW"
      }
    },
    {
      "cell_type": "code",
      "source": [
        "life = {\n",
        "    'animals':{\n",
        "        'cats':['Henri','Grumpy','Lucy'],\n",
        "        'octopi':{},\n",
        "        'emus':{}\n",
        "    },\n",
        "    'plants':{},\n",
        "    'other':{}\n",
        "}\n",
        "print(life)"
      ],
      "metadata": {
        "colab": {
          "base_uri": "https://localhost:8080/"
        },
        "id": "lzKmHliEPu1W",
        "outputId": "b6b95e65-b172-4815-849d-ef0dcb21b706"
      },
      "execution_count": null,
      "outputs": [
        {
          "output_type": "stream",
          "name": "stdout",
          "text": [
            "{'animals': {'cats': ['Henri', 'Grumpy', 'Lucy'], 'octopi': {}, 'emus': {}}, 'plants': {}, 'other': {}}\n"
          ]
        }
      ]
    },
    {
      "cell_type": "markdown",
      "source": [
        "14. Print the top-level keys of life."
      ],
      "metadata": {
        "id": "GOG3xVd9QMSF"
      }
    },
    {
      "cell_type": "code",
      "source": [
        "print(list(life.keys()))"
      ],
      "metadata": {
        "colab": {
          "base_uri": "https://localhost:8080/"
        },
        "id": "m-auLBUdQHoM",
        "outputId": "a6ac7dbb-e652-443a-9001-af0cc8dc2cda"
      },
      "execution_count": null,
      "outputs": [
        {
          "output_type": "stream",
          "name": "stdout",
          "text": [
            "['animals', 'plants', 'other']\n"
          ]
        }
      ]
    },
    {
      "cell_type": "markdown",
      "source": [
        "15. Print the keys for life['animals']."
      ],
      "metadata": {
        "id": "fOWP8WJsQZFM"
      }
    },
    {
      "cell_type": "code",
      "source": [
        "print(list(life['animals'].keys()))"
      ],
      "metadata": {
        "colab": {
          "base_uri": "https://localhost:8080/"
        },
        "id": "-Qr9ps5wQYIA",
        "outputId": "55df72e5-4fbc-4b03-957c-2c2de0a2381c"
      },
      "execution_count": null,
      "outputs": [
        {
          "output_type": "stream",
          "name": "stdout",
          "text": [
            "['cats', 'octopi', 'emus']\n"
          ]
        }
      ]
    },
    {
      "cell_type": "markdown",
      "source": [
        "16. Print the values for life['animals']['cats']"
      ],
      "metadata": {
        "id": "FGanmHIaQpZD"
      }
    },
    {
      "cell_type": "code",
      "source": [
        "print(life['animals']['cats'])"
      ],
      "metadata": {
        "colab": {
          "base_uri": "https://localhost:8080/"
        },
        "id": "YjXdx4rtQgTn",
        "outputId": "c17ef43d-7164-49ea-9f51-87f4b9b13c72"
      },
      "execution_count": null,
      "outputs": [
        {
          "output_type": "stream",
          "name": "stdout",
          "text": [
            "['Henri', 'Grumpy', 'Lucy']\n"
          ]
        }
      ]
    },
    {
      "cell_type": "code",
      "source": [],
      "metadata": {
        "id": "aTibfj8yQ0MJ"
      },
      "execution_count": null,
      "outputs": []
    }
  ]
}