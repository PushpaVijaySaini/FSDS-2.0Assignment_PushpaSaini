{
  "nbformat": 4,
  "nbformat_minor": 0,
  "metadata": {
    "colab": {
      "provenance": []
    },
    "kernelspec": {
      "name": "python3",
      "display_name": "Python 3"
    },
    "language_info": {
      "name": "python"
    }
  },
  "cells": [
    {
      "cell_type": "markdown",
      "source": [
        "1. What advantages do Excel spreadsheets have over CSV spreadsheets?\n",
        "\n",
        "Ans: The Advantages of Excel over CSV are:\n",
        "\n",
        "Excel (XLS and XLSX) file formats are better for storing and analysing complex data.\n",
        "\n",
        "An Excel not only stores data but can also do operations on the data using macros, formulas etc\n",
        "\n",
        "CSV files are plain-text files, Does not contain formatting, formulas, macros, etc. It is also known as flat files"
      ],
      "metadata": {
        "id": "SkDep7FthnmR"
      }
    },
    {
      "cell_type": "markdown",
      "source": [
        "2.What do you pass to csv.reader() and csv.writer() to create reader and writer objects?\n",
        "\n",
        "import csv\n",
        "\n",
        "with open('text.csv','r') as file:\n",
        "\n",
        "    csv_file = csv.reader(file,delimiter=',')\n",
        "\n",
        "    for ele in csv_file:\n",
        "\n",
        "        print(ele)"
      ],
      "metadata": {
        "id": "0sMX2ZiDjDQ5"
      }
    },
    {
      "cell_type": "markdown",
      "source": [
        "3. What modes do File objects for reader and writer objects need to be opened in?\n",
        "\n",
        "Ans: For csv.reader(iterable_file_object), the file objects needed to be opened in read mode mode='r' Whereas for csv.writer(iterable_file_object) the file objects needed to be opened in write mode mode='w'\n",
        "\n"
      ],
      "metadata": {
        "id": "sgTZadWHjZM0"
      }
    },
    {
      "cell_type": "markdown",
      "source": [
        "4. What method takes a list argument and writes it to a CSV file?\n",
        "\n",
        "Ans: csv.writer class provides two methods for writing to CSV. They are writerow() and writerows(). writerow() method writes a single row at a time. Whereas writerows() method is used to write multiple rows at a time."
      ],
      "metadata": {
        "id": "499Ecmx1jtIv"
      }
    },
    {
      "cell_type": "markdown",
      "source": [
        "5. What do the keyword arguments delimiter and line terminator do?\n",
        "Ans: Lets take the example of a csv file:\n",
        "\n",
        "First Name, Last Name, Age\n",
        "\n",
        "Mano, Vishnu, 24\n",
        "\n",
        "Vishnu, Vardhan, 21\n",
        "\n",
        "Here ',' is Delimiter. We can use any Character as per our needs if required. Similarly Line Terminator comes at end of line by default it is newline and can be changed accourding to Requirement."
      ],
      "metadata": {
        "id": "sh-ZLn_AkE8w"
      }
    },
    {
      "cell_type": "markdown",
      "source": [
        "6. What function takes a string of JSON data and returns a Python data structure?\n",
        "\n",
        "Ans: loads() method takes a string of JSON data and returns a Python data structure"
      ],
      "metadata": {
        "id": "o7z7S-abkdfS"
      }
    },
    {
      "cell_type": "markdown",
      "source": [
        "7. What function takes a Python data structure and returns a string of JSON data?\n",
        "\n",
        "Ans: dumps() method takes a python data structure and returns a string of JSON data"
      ],
      "metadata": {
        "id": "mQTDJhJwmvUv"
      }
    },
    {
      "cell_type": "markdown",
      "source": [],
      "metadata": {
        "id": "1t2PEOB_m0HM"
      }
    },
    {
      "cell_type": "code",
      "source": [],
      "metadata": {
        "id": "exONgBUwjYEf"
      },
      "execution_count": null,
      "outputs": []
    }
  ]
}