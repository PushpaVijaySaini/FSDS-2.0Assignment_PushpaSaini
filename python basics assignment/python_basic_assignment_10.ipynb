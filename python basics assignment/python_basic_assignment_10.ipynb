{
  "nbformat": 4,
  "nbformat_minor": 0,
  "metadata": {
    "colab": {
      "provenance": []
    },
    "kernelspec": {
      "name": "python3",
      "display_name": "Python 3"
    },
    "language_info": {
      "name": "python"
    }
  },
  "cells": [
    {
      "cell_type": "markdown",
      "source": [
        "1. How do you distinguish between shutil.copy() and shutil.copytree()?"
      ],
      "metadata": {
        "id": "MT_zb8RnMYZj"
      }
    },
    {
      "cell_type": "markdown",
      "source": [
        "shutil.copy() will copy a single file and shutil.copytree() will copy an entire folder and every folder and file contained in it."
      ],
      "metadata": {
        "id": "OSz_A3_dMmYL"
      }
    },
    {
      "cell_type": "markdown",
      "source": [
        "2. What function is used to rename files??"
      ],
      "metadata": {
        "id": "KaeNJ35NMnmF"
      }
    },
    {
      "cell_type": "markdown",
      "source": [
        "os.rename() function is used to rename files or directories using a python program"
      ],
      "metadata": {
        "id": "HSqe1ItAMroM"
      }
    },
    {
      "cell_type": "markdown",
      "source": [
        "3. What is the difference between the delete functions in the send2trash and shutil modules?"
      ],
      "metadata": {
        "id": "bVLv3ENuMyPk"
      }
    },
    {
      "cell_type": "markdown",
      "source": [
        "send2trash function move a file or folder to the recycle bin, while shutil function permanently delete file or folder."
      ],
      "metadata": {
        "id": "PasvwFYZM00k"
      }
    },
    {
      "cell_type": "markdown",
      "source": [
        "4.ZipFile objects have a close() method just like File objects’ close() method. What ZipFile method is\n",
        "equivalent to File objects’ open() method?"
      ],
      "metadata": {
        "id": "5rVamO3MNEZl"
      }
    },
    {
      "cell_type": "markdown",
      "source": [
        " ZipFile Module provides a method called as zipfile.ZipFile() to read and write to zipFiles. it takes arugments lile filename and mode etc zipfile.ZipFile('filename', mode = 'r')"
      ],
      "metadata": {
        "id": "TdSYElukM7WC"
      }
    },
    {
      "cell_type": "markdown",
      "source": [
        "5. Create a programme that searches a folder tree for files with a certain file extension (such as .pdf\n",
        "or .jpg). Copy these files from whatever location they are in to a new folder."
      ],
      "metadata": {
        "id": "hVIAtJl9NHyf"
      }
    },
    {
      "cell_type": "code",
      "execution_count": 14,
      "metadata": {
        "id": "-Ry-7Zb7MTBn"
      },
      "outputs": [],
      "source": []
    },
    {
      "cell_type": "code",
      "source": [
        "import os, shutil\n",
        "\n",
        "def selectiveCopy(folder, extensions, destFolder):\n",
        "\tfolder = os.path.abspath(folder)\n",
        "\tdestFolder = os.path.abspath(destFolder)\n",
        "\tprint('Looking in', folder, 'for files with extensions of', ', '.join(extensions))\n",
        "\tfor foldername, subfolders, filenames in os.walk(folder):\n",
        "\t\tfor filename in filenames:\n",
        "\t\t\tname, extension = os.path.splitext(filename)\n",
        "\t\t\tif extension in extensions:\n",
        "\t\t\t\tfileAbsPath = foldername + os.path.sep + filename\n",
        "\t\t\t\tprint('Coping', fileAbsPath, 'to', destFolder)\n",
        "\t\t\t\tshutil.copy(fileAbsPath, destFolder)\n",
        "\n",
        "extensions = ['.jpg']\n",
        "folder = r\"E:\\Data Science\"\n",
        "destFolder = r\"E:\\Data Science\\New folder\"\n",
        "selectiveCopy(folder, extensions, destFolder)"
      ],
      "metadata": {
        "colab": {
          "base_uri": "https://localhost:8080/"
        },
        "id": "IE_8sYbCNkFn",
        "outputId": "f8f61f6c-9d9c-4ece-8033-73c7de9b28b8"
      },
      "execution_count": 3,
      "outputs": [
        {
          "output_type": "stream",
          "name": "stdout",
          "text": [
            "Looking in /content/E:\\Data Science for files with extensions of .jpg\n"
          ]
        }
      ]
    },
    {
      "cell_type": "code",
      "source": [
        "\n",
        "\n",
        "\n"
      ],
      "metadata": {
        "id": "l9n7s8FYTBnG"
      },
      "execution_count": null,
      "outputs": []
    }
  ]
}