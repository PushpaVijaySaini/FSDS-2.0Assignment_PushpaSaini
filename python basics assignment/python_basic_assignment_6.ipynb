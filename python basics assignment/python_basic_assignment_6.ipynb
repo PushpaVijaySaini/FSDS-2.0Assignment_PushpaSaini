{
  "nbformat": 4,
  "nbformat_minor": 0,
  "metadata": {
    "colab": {
      "provenance": []
    },
    "kernelspec": {
      "name": "python3",
      "display_name": "Python 3"
    },
    "language_info": {
      "name": "python"
    }
  },
  "cells": [
    {
      "cell_type": "markdown",
      "source": [
        "1. What are escape characters, and how do you use them?"
      ],
      "metadata": {
        "id": "QAq90Ru2mEX4"
      }
    },
    {
      "cell_type": "markdown",
      "source": [
        "In Python strings, the backslash(\\) is a special character, also called the \"escape\" character. It is used in representing certain whitespace characters: \"\\t\" is a tab, \"\\n\" is a newline, and \"\\r\" is a carriage return\n",
        "\n",
        "Prefixing a special character with() turns it into an ordinary character. This is called \"escaping\". For example, \" \\' \" is the single quote character. 'It's Sunday' therefore is a valid string and equivalent to \"It's Sunday\"."
      ],
      "metadata": {
        "id": "oySm457YmKyp"
      }
    },
    {
      "cell_type": "markdown",
      "source": [
        "2. What do the escape characters n and t stand for?"
      ],
      "metadata": {
        "id": "4btKxsesqyak"
      }
    },
    {
      "cell_type": "markdown",
      "source": [
        "\"\\t\" is for tab space, \"\\n\" is for a newline"
      ],
      "metadata": {
        "id": "GNgB6Hkrq1o5"
      }
    },
    {
      "cell_type": "markdown",
      "source": [
        "3. What is the way to include backslash characters in a string?"
      ],
      "metadata": {
        "id": "_3r3jENFq-1u"
      }
    },
    {
      "cell_type": "markdown",
      "source": [
        "You need to append backslash with another backslash to include the backslash in your strings\n",
        "\n"
      ],
      "metadata": {
        "id": "_71UVEuUrErZ"
      }
    },
    {
      "cell_type": "code",
      "source": [
        "#example\n",
        "print(\"it's a back slash \\ in a sentence\")"
      ],
      "metadata": {
        "colab": {
          "base_uri": "https://localhost:8080/"
        },
        "id": "vQ7PTrKrq1Lx",
        "outputId": "9db98f21-e5c7-427d-804a-7943c7b07d03"
      },
      "execution_count": 1,
      "outputs": [
        {
          "output_type": "stream",
          "name": "stdout",
          "text": [
            "it's a back slash \\ in a sentence\n"
          ]
        }
      ]
    },
    {
      "cell_type": "code",
      "source": [
        "print(\"it's a back slash \\\\ in a sentence\")"
      ],
      "metadata": {
        "colab": {
          "base_uri": "https://localhost:8080/"
        },
        "id": "kZGz_LyfrSDl",
        "outputId": "4c89f22e-a0cb-429b-da45-24ee60ca78c1"
      },
      "execution_count": 2,
      "outputs": [
        {
          "output_type": "stream",
          "name": "stdout",
          "text": [
            "it's a back slash \\ in a sentence\n"
          ]
        }
      ]
    },
    {
      "cell_type": "markdown",
      "source": [
        "4. The string \"Howl's Moving Castle\" is a correct value. Why isn't the single quote character in the word Howl's not escaped a problem?"
      ],
      "metadata": {
        "id": "OahOHXMirfH8"
      }
    },
    {
      "cell_type": "markdown",
      "source": [
        "The single quote in Howl's is fine because we've used double quotes to mark the beginning and end of the string."
      ],
      "metadata": {
        "id": "iqmzCIDer6gR"
      }
    },
    {
      "cell_type": "markdown",
      "source": [
        "5. How do you write a string of newlines if you don't want to use the n character?"
      ],
      "metadata": {
        "id": "JRULQGjHr_ME"
      }
    },
    {
      "cell_type": "markdown",
      "source": [
        "We can print strings without adding a new line with end = <character> , which <character> is the character that will be used to separate the lines."
      ],
      "metadata": {
        "id": "U8iV2d8asuQz"
      }
    },
    {
      "cell_type": "markdown",
      "source": [
        "\n",
        "6. What are the values of the given expressions?\n",
        "'Hello, world!'[1] 'e'\n",
        "'Hello, world!'[0:5] 'Hello'\n",
        "'Hello, world!'[:5] 'Hello'\n",
        "'Hello, world!'[3:] 'lo, world!'"
      ],
      "metadata": {
        "id": "16t6HTyos1zV"
      }
    },
    {
      "cell_type": "code",
      "source": [
        "'Hello, world!'[1]"
      ],
      "metadata": {
        "colab": {
          "base_uri": "https://localhost:8080/",
          "height": 35
        },
        "id": "xgxI21Gprcr-",
        "outputId": "807a5dc7-00b5-466b-aca1-1275c18ca9d7"
      },
      "execution_count": 3,
      "outputs": [
        {
          "output_type": "execute_result",
          "data": {
            "text/plain": [
              "'e'"
            ],
            "application/vnd.google.colaboratory.intrinsic+json": {
              "type": "string"
            }
          },
          "metadata": {},
          "execution_count": 3
        }
      ]
    },
    {
      "cell_type": "code",
      "source": [
        "'Hello, world!'[0:5]"
      ],
      "metadata": {
        "colab": {
          "base_uri": "https://localhost:8080/",
          "height": 35
        },
        "id": "ODBuBV2ss8Y-",
        "outputId": "b525242d-1c91-4dee-e424-cdd58da4aa67"
      },
      "execution_count": 4,
      "outputs": [
        {
          "output_type": "execute_result",
          "data": {
            "text/plain": [
              "'Hello'"
            ],
            "application/vnd.google.colaboratory.intrinsic+json": {
              "type": "string"
            }
          },
          "metadata": {},
          "execution_count": 4
        }
      ]
    },
    {
      "cell_type": "code",
      "source": [
        "'Hello, world!'[:5]"
      ],
      "metadata": {
        "colab": {
          "base_uri": "https://localhost:8080/",
          "height": 35
        },
        "id": "VfXtM9-Ys_3D",
        "outputId": "7ae9f693-41ca-402b-fd2f-184fc6c27697"
      },
      "execution_count": 5,
      "outputs": [
        {
          "output_type": "execute_result",
          "data": {
            "text/plain": [
              "'Hello'"
            ],
            "application/vnd.google.colaboratory.intrinsic+json": {
              "type": "string"
            }
          },
          "metadata": {},
          "execution_count": 5
        }
      ]
    },
    {
      "cell_type": "code",
      "source": [
        "'Hello, world!'[3:]"
      ],
      "metadata": {
        "colab": {
          "base_uri": "https://localhost:8080/",
          "height": 35
        },
        "id": "Ect7jjVztDQF",
        "outputId": "3b6af997-b69d-4a84-9cb4-dfd59d1a8734"
      },
      "execution_count": 6,
      "outputs": [
        {
          "output_type": "execute_result",
          "data": {
            "text/plain": [
              "'lo, world!'"
            ],
            "application/vnd.google.colaboratory.intrinsic+json": {
              "type": "string"
            }
          },
          "metadata": {},
          "execution_count": 6
        }
      ]
    },
    {
      "cell_type": "markdown",
      "source": [
        "7. What are the values of the following expressions?\n",
        "'Hello'.upper() -> 'HELLO'\n",
        "'Hello'.upper().isupper() -> True\n",
        "'Hello'.upper().lower() -> 'hello'"
      ],
      "metadata": {
        "id": "IDx89bRVtJ2j"
      }
    },
    {
      "cell_type": "code",
      "source": [
        "'Hello'.upper()"
      ],
      "metadata": {
        "colab": {
          "base_uri": "https://localhost:8080/",
          "height": 35
        },
        "id": "VK-p6Zn2tGB7",
        "outputId": "41484118-cb8e-4aec-901e-e1f0dcd7ae72"
      },
      "execution_count": 7,
      "outputs": [
        {
          "output_type": "execute_result",
          "data": {
            "text/plain": [
              "'HELLO'"
            ],
            "application/vnd.google.colaboratory.intrinsic+json": {
              "type": "string"
            }
          },
          "metadata": {},
          "execution_count": 7
        }
      ]
    },
    {
      "cell_type": "code",
      "source": [
        "'Hello'.upper().isupper()"
      ],
      "metadata": {
        "colab": {
          "base_uri": "https://localhost:8080/"
        },
        "id": "a08012fGtPb4",
        "outputId": "c24a5e99-25d8-4e94-c50e-6827d06c2e1b"
      },
      "execution_count": 8,
      "outputs": [
        {
          "output_type": "execute_result",
          "data": {
            "text/plain": [
              "True"
            ]
          },
          "metadata": {},
          "execution_count": 8
        }
      ]
    },
    {
      "cell_type": "code",
      "source": [
        "'Hello'.upper().lower()"
      ],
      "metadata": {
        "colab": {
          "base_uri": "https://localhost:8080/",
          "height": 35
        },
        "id": "TtQsVJNDtSGO",
        "outputId": "f79b6da7-d866-485c-ae0b-23d0d92492b6"
      },
      "execution_count": 9,
      "outputs": [
        {
          "output_type": "execute_result",
          "data": {
            "text/plain": [
              "'hello'"
            ],
            "application/vnd.google.colaboratory.intrinsic+json": {
              "type": "string"
            }
          },
          "metadata": {},
          "execution_count": 9
        }
      ]
    },
    {
      "cell_type": "markdown",
      "source": [
        "\n",
        "8. What are the values of the following expressions?\n",
        "'Remember, remember, the fifth of July.'.split() -> ['Remember,', 'remember,', 'the', 'fifth', 'of', 'July.']\n",
        "\n",
        "'-'.join('There can only one.'.split()) -> 'There-can-only-one.'"
      ],
      "metadata": {
        "id": "wF4EPG52tZDR"
      }
    },
    {
      "cell_type": "code",
      "source": [
        "'Remember, remember, the fifth of July.'.split()"
      ],
      "metadata": {
        "colab": {
          "base_uri": "https://localhost:8080/"
        },
        "id": "KNy0fhmGtVqE",
        "outputId": "a28935d8-d7da-4709-83f9-033c6377c220"
      },
      "execution_count": 10,
      "outputs": [
        {
          "output_type": "execute_result",
          "data": {
            "text/plain": [
              "['Remember,', 'remember,', 'the', 'fifth', 'of', 'July.']"
            ]
          },
          "metadata": {},
          "execution_count": 10
        }
      ]
    },
    {
      "cell_type": "code",
      "source": [
        "'-'.join('There can only one.'.split())"
      ],
      "metadata": {
        "colab": {
          "base_uri": "https://localhost:8080/",
          "height": 35
        },
        "id": "wccajct6tf16",
        "outputId": "d838721d-8176-46ff-90d5-5817ecbe0e8a"
      },
      "execution_count": 11,
      "outputs": [
        {
          "output_type": "execute_result",
          "data": {
            "text/plain": [
              "'There-can-only-one.'"
            ],
            "application/vnd.google.colaboratory.intrinsic+json": {
              "type": "string"
            }
          },
          "metadata": {},
          "execution_count": 11
        }
      ]
    },
    {
      "cell_type": "markdown",
      "source": [
        "9. What are the methods for right-justifying, left-justifying, and centering a string?"
      ],
      "metadata": {
        "id": "SD_NfFsztqN8"
      }
    },
    {
      "cell_type": "code",
      "source": [
        "# left justified\n",
        "str1 =\"Data Scientist\"\n",
        "str1.ljust(19,\";\")"
      ],
      "metadata": {
        "colab": {
          "base_uri": "https://localhost:8080/",
          "height": 35
        },
        "id": "BUylnQ4EtmMY",
        "outputId": "9a84fbb0-241b-454a-80b5-3016eff91f4f"
      },
      "execution_count": 12,
      "outputs": [
        {
          "output_type": "execute_result",
          "data": {
            "text/plain": [
              "'Data Scientist;;;;;'"
            ],
            "application/vnd.google.colaboratory.intrinsic+json": {
              "type": "string"
            }
          },
          "metadata": {},
          "execution_count": 12
        }
      ]
    },
    {
      "cell_type": "code",
      "source": [
        "# right justified\n",
        "str1 =\"Data Scientist\"\n",
        "str1.rjust(22,\"-\")"
      ],
      "metadata": {
        "colab": {
          "base_uri": "https://localhost:8080/",
          "height": 35
        },
        "id": "AQB9CglTt1N8",
        "outputId": "9c5c0ffc-9e84-409d-90c8-ea8407519bcb"
      },
      "execution_count": 13,
      "outputs": [
        {
          "output_type": "execute_result",
          "data": {
            "text/plain": [
              "'--------Data Scientist'"
            ],
            "application/vnd.google.colaboratory.intrinsic+json": {
              "type": "string"
            }
          },
          "metadata": {},
          "execution_count": 13
        }
      ]
    },
    {
      "cell_type": "code",
      "source": [
        "# center justified\n",
        "str1 =\"Center\"\n",
        "str1.center(40,'*')"
      ],
      "metadata": {
        "colab": {
          "base_uri": "https://localhost:8080/",
          "height": 35
        },
        "id": "xFVtBg_ut5Jw",
        "outputId": "abffa9c6-fa1f-4099-8584-241c1645ba6a"
      },
      "execution_count": 14,
      "outputs": [
        {
          "output_type": "execute_result",
          "data": {
            "text/plain": [
              "'*****************Center*****************'"
            ],
            "application/vnd.google.colaboratory.intrinsic+json": {
              "type": "string"
            }
          },
          "metadata": {},
          "execution_count": 14
        }
      ]
    },
    {
      "cell_type": "markdown",
      "source": [
        "\n",
        "10. What is the best way to remove whitespace characters from the start or end?\n",
        "We can use:\n",
        "\n",
        "lstrip() -> removes white spaces from left of the string\n",
        "\n",
        "rstrip() -> removes whitespaces from right of the string"
      ],
      "metadata": {
        "id": "oaAVRPbcuAma"
      }
    },
    {
      "cell_type": "code",
      "source": [
        "str1 = \"                    hello         \"\n",
        "print(str1)\n",
        "print(str1.lstrip())"
      ],
      "metadata": {
        "colab": {
          "base_uri": "https://localhost:8080/"
        },
        "id": "wMV_5bB3t81U",
        "outputId": "da902e3c-f7da-4746-aa68-958513e1e718"
      },
      "execution_count": 15,
      "outputs": [
        {
          "output_type": "stream",
          "name": "stdout",
          "text": [
            "                    hello         \n",
            "hello         \n"
          ]
        }
      ]
    },
    {
      "cell_type": "code",
      "source": [
        "str1 = \"hello                \"\n",
        "print(str1)\n",
        "print(str1.rstrip())"
      ],
      "metadata": {
        "colab": {
          "base_uri": "https://localhost:8080/"
        },
        "id": "shN2DgkiuHhi",
        "outputId": "885ed7f2-f50a-4c17-e845-457dedc834cf"
      },
      "execution_count": 16,
      "outputs": [
        {
          "output_type": "stream",
          "name": "stdout",
          "text": [
            "hello                \n",
            "hello\n"
          ]
        }
      ]
    },
    {
      "cell_type": "code",
      "source": [],
      "metadata": {
        "id": "a9KqPlEAuLK7"
      },
      "execution_count": null,
      "outputs": []
    }
  ]
}