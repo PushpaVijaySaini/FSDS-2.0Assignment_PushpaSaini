{
  "nbformat": 4,
  "nbformat_minor": 0,
  "metadata": {
    "colab": {
      "provenance": []
    },
    "kernelspec": {
      "name": "python3",
      "display_name": "Python 3"
    },
    "language_info": {
      "name": "python"
    }
  },
  "cells": [
    {
      "cell_type": "markdown",
      "source": [
        "1. Why are functions advantageous to have in your programs?"
      ],
      "metadata": {
        "id": "SQ8LiT6ORg3Y"
      }
    },
    {
      "cell_type": "markdown",
      "source": [
        "Advantages:\n",
        "\n",
        "Increase modularity\n",
        "\n",
        "Increase code reusibility\n",
        "\n",
        "Reduce amount of code"
      ],
      "metadata": {
        "id": "AiMMINi9R3gD"
      }
    },
    {
      "cell_type": "markdown",
      "source": [
        "\n",
        "2. When does the code in a function run: when it's specified or when it's called?"
      ],
      "metadata": {
        "id": "Kfc0mKw5SB08"
      }
    },
    {
      "cell_type": "markdown",
      "source": [
        "The function run(or execute) when it is called. When function is called the control flow which go to first line of code present inside the function."
      ],
      "metadata": {
        "id": "zawcrPAdSRI4"
      }
    },
    {
      "cell_type": "markdown",
      "source": [
        "3. What statement creates a function?"
      ],
      "metadata": {
        "id": "AOaUlA0dSScw"
      }
    },
    {
      "cell_type": "markdown",
      "source": [
        "def(keyword) followed by function_name then parentheses.\n",
        "\n",
        "def function_name():"
      ],
      "metadata": {
        "id": "gF9VpndeSVV7"
      }
    },
    {
      "cell_type": "markdown",
      "source": [
        "4. What is the difference between a function and a function call?"
      ],
      "metadata": {
        "id": "4rhgP3FXSf0I"
      }
    },
    {
      "cell_type": "markdown",
      "source": [
        "Function: Function is set of codes which produce some result. Function is useless unless it is invoked or called.\n",
        "\n",
        "Function Call: Function call is used to invoke or execute set of codes present inside the function."
      ],
      "metadata": {
        "id": "4inTeqHPSjC5"
      }
    },
    {
      "cell_type": "code",
      "source": [
        "def c():        # Function\n",
        "    return \"c=2+3\"\n",
        "\n",
        "c()             # Function call"
      ],
      "metadata": {
        "colab": {
          "base_uri": "https://localhost:8080/",
          "height": 35
        },
        "id": "fLAeVMjoSpNo",
        "outputId": "e8e4945f-d50f-4d4d-f320-7ab7b7bdedab"
      },
      "execution_count": 1,
      "outputs": [
        {
          "output_type": "execute_result",
          "data": {
            "text/plain": [
              "'c=2+3'"
            ],
            "application/vnd.google.colaboratory.intrinsic+json": {
              "type": "string"
            }
          },
          "metadata": {},
          "execution_count": 1
        }
      ]
    },
    {
      "cell_type": "markdown",
      "source": [
        "5. How many global scopes are there in a Python program? How many local scopes?"
      ],
      "metadata": {
        "id": "wpYqnQw4TBZ6"
      }
    },
    {
      "cell_type": "markdown",
      "source": [
        "There are 1 global scopes and 1 local scope in the python program."
      ],
      "metadata": {
        "id": "VQkySaFdTFy4"
      }
    },
    {
      "cell_type": "markdown",
      "source": [
        "6. What happens to variables in a local scope when the function call returns?"
      ],
      "metadata": {
        "id": "_8Hli0lATK0E"
      }
    },
    {
      "cell_type": "markdown",
      "source": [
        "The local variables are destroyed when function call returns."
      ],
      "metadata": {
        "id": "PvLGpPQLTPfr"
      }
    },
    {
      "cell_type": "markdown",
      "source": [
        "7. What is the concept of a return value? Is it possible to have a return value in an expression?"
      ],
      "metadata": {
        "id": "cV2fznKkTU_o"
      }
    },
    {
      "cell_type": "markdown",
      "source": [
        "Return value is value, variable or expression which a function can return.\n",
        "\n",
        "\n",
        "Yes function return value can be an expression"
      ],
      "metadata": {
        "id": "wslbaS1qTb7n"
      }
    },
    {
      "cell_type": "code",
      "source": [
        "def function(a,b):\n",
        "    return a+b+10  ## Returning the expression\n",
        "\n",
        "function(10, 20)"
      ],
      "metadata": {
        "colab": {
          "base_uri": "https://localhost:8080/"
        },
        "id": "ZODEh27dTpMM",
        "outputId": "1782fba9-b385-4fac-cbf7-3a1bd802a694"
      },
      "execution_count": 2,
      "outputs": [
        {
          "output_type": "execute_result",
          "data": {
            "text/plain": [
              "40"
            ]
          },
          "metadata": {},
          "execution_count": 2
        }
      ]
    },
    {
      "cell_type": "markdown",
      "source": [
        "8. If a function does not have a return statement, what is the return value of a call to that function?"
      ],
      "metadata": {
        "id": "1HG_CrAETiBl"
      }
    },
    {
      "cell_type": "markdown",
      "source": [
        "If a function does not have a return statement that means the function is not returning any values.\n",
        "\n",
        "\n",
        "In this case after function is executed completly it will return a NoneType."
      ],
      "metadata": {
        "id": "0JChQmKtTxNg"
      }
    },
    {
      "cell_type": "code",
      "source": [
        "def func():\n",
        "    a = 10\n",
        "    b = 80\n",
        "\n",
        "type(func())"
      ],
      "metadata": {
        "colab": {
          "base_uri": "https://localhost:8080/"
        },
        "id": "sIaMKdlpT3Rj",
        "outputId": "add691fb-1ab9-42b8-8b50-4c30f776081c"
      },
      "execution_count": 3,
      "outputs": [
        {
          "output_type": "execute_result",
          "data": {
            "text/plain": [
              "NoneType"
            ]
          },
          "metadata": {},
          "execution_count": 3
        }
      ]
    },
    {
      "cell_type": "markdown",
      "source": [
        "9. How do you make a function variable refer to the global variable?"
      ],
      "metadata": {
        "id": "F3uMuB93T7t-"
      }
    },
    {
      "cell_type": "markdown",
      "source": [
        "This can be achieved by using global keyword to redefine the variable and make the changes of variable as global change.\n"
      ],
      "metadata": {
        "id": "ATUgr25OUDYq"
      }
    },
    {
      "cell_type": "code",
      "source": [
        "var1 = 0\n",
        "def function1():\n",
        "    global var1\n",
        "    var1 = 5\n",
        "\n",
        "print(var1)\n",
        "function1()\n",
        "print(var1)"
      ],
      "metadata": {
        "colab": {
          "base_uri": "https://localhost:8080/"
        },
        "id": "927T0eSEUFoQ",
        "outputId": "db089a37-223d-4ab8-bb35-4fa30c8bde06"
      },
      "execution_count": 5,
      "outputs": [
        {
          "output_type": "stream",
          "name": "stdout",
          "text": [
            "0\n",
            "5\n"
          ]
        }
      ]
    },
    {
      "cell_type": "markdown",
      "source": [
        "10. What is the data type of None?"
      ],
      "metadata": {
        "id": "cxKvqCisURKb"
      }
    },
    {
      "cell_type": "markdown",
      "source": [
        "None data type is a null variable or null object. The null object is a data type of class NoneType."
      ],
      "metadata": {
        "id": "LMis-tt-UXna"
      }
    },
    {
      "cell_type": "markdown",
      "source": [
        "11. What does the sentence import areallyourpetsnamederic do?"
      ],
      "metadata": {
        "id": "evj5MkcwUZHz"
      }
    },
    {
      "cell_type": "markdown",
      "source": [
        "The statement \"import areallyourpetsnamederic\" will import the module or package areallyourpetsnamederic.\n",
        "\n"
      ],
      "metadata": {
        "id": "XDYZS95EUkPF"
      }
    },
    {
      "cell_type": "markdown",
      "source": [
        "12. If you had a bacon() feature in a spam module, what would you call it after importing spam?"
      ],
      "metadata": {
        "id": "stuhcT5iUlph"
      }
    },
    {
      "cell_type": "markdown",
      "source": [
        "After import the spam.\n",
        "\n",
        "\n",
        "spam.bacon()"
      ],
      "metadata": {
        "id": "cO7RxRS8Uq1s"
      }
    },
    {
      "cell_type": "markdown",
      "source": [
        "\n",
        "13. What can you do to save a programme from crashing if it encounters an error?"
      ],
      "metadata": {
        "id": "e1ByxCUQU08R"
      }
    },
    {
      "cell_type": "markdown",
      "source": [
        "To save the program from crashing over a runtime error we can use the try and except statement.\n",
        "\n",
        "\n",
        "It will save from only the runtime error not the compile time error."
      ],
      "metadata": {
        "id": "T3HKqHnyU5tT"
      }
    },
    {
      "cell_type": "code",
      "source": [
        "try:\n",
        "    pass\n",
        "except:\n",
        "    pass"
      ],
      "metadata": {
        "id": "VSTPmy6VU8RJ"
      },
      "execution_count": 6,
      "outputs": []
    },
    {
      "cell_type": "markdown",
      "source": [
        "14. What is the purpose of the try clause? What is the purpose of the except clause?"
      ],
      "metadata": {
        "id": "9SA8AldnVAYo"
      }
    },
    {
      "cell_type": "markdown",
      "source": [
        "Together try and except block is used to save programme from crashing when an error is encountered.\n",
        "\n",
        "Try: Try block is used for any suspicious code which can throw a runtime error.\n",
        "\n",
        "Except: Except block is used to catch error if any encountered inside try block."
      ],
      "metadata": {
        "id": "Euc3UWe6VHcQ"
      }
    },
    {
      "cell_type": "code",
      "source": [],
      "metadata": {
        "id": "V7ZlQrI5UxbN"
      },
      "execution_count": null,
      "outputs": []
    },
    {
      "cell_type": "code",
      "source": [],
      "metadata": {
        "id": "x1gM6mDWTyxZ"
      },
      "execution_count": null,
      "outputs": []
    },
    {
      "cell_type": "markdown",
      "source": [],
      "metadata": {
        "id": "d9aQikr0R-TA"
      }
    },
    {
      "cell_type": "code",
      "execution_count": null,
      "metadata": {
        "id": "3PQlPflORaEK"
      },
      "outputs": [],
      "source": []
    },
    {
      "cell_type": "markdown",
      "source": [],
      "metadata": {
        "id": "j5rM_mTBRf63"
      }
    }
  ]
}