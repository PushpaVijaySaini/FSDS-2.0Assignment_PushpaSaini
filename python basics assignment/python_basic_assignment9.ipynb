{
  "nbformat": 4,
  "nbformat_minor": 0,
  "metadata": {
    "colab": {
      "provenance": []
    },
    "kernelspec": {
      "name": "python3",
      "display_name": "Python 3"
    },
    "language_info": {
      "name": "python"
    }
  },
  "cells": [
    {
      "cell_type": "markdown",
      "source": [
        "1. To what does a relative path refer?"
      ],
      "metadata": {
        "id": "stxMO_fBKoD4"
      }
    },
    {
      "cell_type": "markdown",
      "source": [
        "Relative paths are relative to the current working directory. When using relative path, we need to provide the absolute/complete path of file from the root directory, instead we can give the partial/relative path to indicate the file location."
      ],
      "metadata": {
        "id": "22xyrTxTKzNj"
      }
    },
    {
      "cell_type": "markdown",
      "source": [
        "2. What does an absolute path start with your operating system?"
      ],
      "metadata": {
        "id": "WIPUNLspK5NO"
      }
    },
    {
      "cell_type": "markdown",
      "source": [
        "In Linux based systems the absolute path starts with /. Where as in Windows based systems absolute path starts with C:"
      ],
      "metadata": {
        "id": "rE2E-i-fK6YW"
      }
    },
    {
      "cell_type": "markdown",
      "source": [
        "3. What do the functions os.getcwd() and os.chdir() do?"
      ],
      "metadata": {
        "id": "_XdBdvaSLDwv"
      }
    },
    {
      "cell_type": "markdown",
      "source": [
        "os.getcwd() returns you the current working directory path\n",
        "\n",
        "os.chdir() is used to change the current working directory while running the program"
      ],
      "metadata": {
        "id": "rypOP7lzLGj_"
      }
    },
    {
      "cell_type": "markdown",
      "source": [
        "4. What are the . and .. folders?"
      ],
      "metadata": {
        "id": "6keOUGG9LLSs"
      }
    },
    {
      "cell_type": "markdown",
      "source": [
        ". single dot means the current folder\n",
        "\n",
        ".. double dot means the parent folder"
      ],
      "metadata": {
        "id": "fVaMpVpILWnS"
      }
    },
    {
      "cell_type": "markdown",
      "source": [
        "5. In C:\\bacon\\eggs\\spam.txt, which part is the dir name, and which part is the base name?"
      ],
      "metadata": {
        "id": "3k2QGvwsLY51"
      }
    },
    {
      "cell_type": "markdown",
      "source": [
        " For C:\\bacon\\eggs\\spam.txt\n",
        "\n",
        "The dir name is C:\\\\bacon\\\\eggs\n",
        "\n",
        "The Base name is spam.txt"
      ],
      "metadata": {
        "id": "wcmTphBvLceK"
      }
    },
    {
      "cell_type": "markdown",
      "source": [
        "6. What are the three “mode” arguments that can be passed to the open() function?"
      ],
      "metadata": {
        "id": "P8i0Vn3NLjWY"
      }
    },
    {
      "cell_type": "markdown",
      "source": [
        "The three mode arguments that can be passed to the open() function are:\n",
        "\n",
        "'r' for read mode\n",
        "\n",
        "'w' for write mode\n",
        "\n",
        "'a' for append mode."
      ],
      "metadata": {
        "id": "KGAoUoTULnct"
      }
    },
    {
      "cell_type": "markdown",
      "source": [
        "7. What happens if an existing file is opened in write mode?"
      ],
      "metadata": {
        "id": "jvyUqcX6Lslt"
      }
    },
    {
      "cell_type": "markdown",
      "source": [
        " Using this mode will overwrite any existing content in a file. If the given file does not exist, a new one will be created."
      ],
      "metadata": {
        "id": "hhGUNVwULv-q"
      }
    },
    {
      "cell_type": "markdown",
      "source": [
        "8. How do you tell the difference between read() and readlines()?"
      ],
      "metadata": {
        "id": "1XJ1wvHML25x"
      }
    },
    {
      "cell_type": "markdown",
      "source": [
        "The read() method returns the file’s entire contents as a single string value.\n",
        "\n",
        "The readlines() method returns a list of strings, where each string is a line from the file’s contents."
      ],
      "metadata": {
        "id": "QFEo_b0XL575"
      }
    },
    {
      "cell_type": "markdown",
      "source": [
        "9. What data structure does a shelf value resemble?"
      ],
      "metadata": {
        "id": "bMb3rCooMASJ"
      }
    },
    {
      "cell_type": "markdown",
      "source": [
        " It contains key and values it represents dictionary."
      ],
      "metadata": {
        "id": "zDvS7WYrMFHc"
      }
    },
    {
      "cell_type": "code",
      "source": [],
      "metadata": {
        "id": "o0faUFbjLr9s"
      },
      "execution_count": null,
      "outputs": []
    },
    {
      "cell_type": "code",
      "execution_count": null,
      "metadata": {
        "id": "sabHfEyPKbOt"
      },
      "outputs": [],
      "source": []
    },
    {
      "cell_type": "markdown",
      "source": [],
      "metadata": {
        "id": "QUvLTGuFKmR_"
      }
    },
    {
      "cell_type": "markdown",
      "source": [],
      "metadata": {
        "id": "Dpbo7a0PKi29"
      }
    }
  ]
}