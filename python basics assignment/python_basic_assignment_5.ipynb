{
  "nbformat": 4,
  "nbformat_minor": 0,
  "metadata": {
    "colab": {
      "provenance": []
    },
    "kernelspec": {
      "name": "python3",
      "display_name": "Python 3"
    },
    "language_info": {
      "name": "python"
    }
  },
  "cells": [
    {
      "cell_type": "markdown",
      "source": [
        "1. What does an empty dictionary&#39;s code look like?"
      ],
      "metadata": {
        "id": "1okFoE8FZfgQ"
      }
    },
    {
      "cell_type": "code",
      "execution_count": 1,
      "metadata": {
        "colab": {
          "base_uri": "https://localhost:8080/"
        },
        "id": "kWd2joaMZXTq",
        "outputId": "28ee224d-28ae-4ea0-9294-9a09c9aea8a1"
      },
      "outputs": [
        {
          "output_type": "execute_result",
          "data": {
            "text/plain": [
              "dict"
            ]
          },
          "metadata": {},
          "execution_count": 1
        }
      ],
      "source": [
        "# Empty dictionary\n",
        "emptyDict = {}\n",
        "type(emptyDict)"
      ]
    },
    {
      "cell_type": "markdown",
      "source": [
        "2. What is the value of a dictionary value with the key &#39;foo&#39; and the value 42?"
      ],
      "metadata": {
        "id": "cj2Uef3uZ-Tx"
      }
    },
    {
      "cell_type": "code",
      "source": [
        "# The value will be 42\n",
        "my_dict = {'foo': 42}\n",
        "my_dict['foo']"
      ],
      "metadata": {
        "colab": {
          "base_uri": "https://localhost:8080/"
        },
        "id": "v3FtWOQ7aC0T",
        "outputId": "6cca9f3b-e91a-44b6-a96a-8c8e114fe042"
      },
      "execution_count": 2,
      "outputs": [
        {
          "output_type": "execute_result",
          "data": {
            "text/plain": [
              "42"
            ]
          },
          "metadata": {},
          "execution_count": 2
        }
      ]
    },
    {
      "cell_type": "markdown",
      "source": [
        "3. What is the most significant distinction between a dictionary and a list?"
      ],
      "metadata": {
        "id": "drFxNbGCaGoI"
      }
    },
    {
      "cell_type": "code",
      "source": [
        "# The dictionary is created using {} or dict()\n",
        "dict3 = {'k1': 123, 'k2': 2+3j}\n",
        "\n",
        "# The list is created using [] or list()\n",
        "list3 = [12,23,45]"
      ],
      "metadata": {
        "id": "hRHqzOKlaJfF"
      },
      "execution_count": 3,
      "outputs": []
    },
    {
      "cell_type": "markdown",
      "source": [
        "4. What happens if you try to access spam[&#39;foo&#39;] if spam is {&#39;bar&#39;: 100}?"
      ],
      "metadata": {
        "id": "nCHqC5XTaOey"
      }
    },
    {
      "cell_type": "code",
      "source": [
        "# It will throw an error\n",
        "\n",
        "spam = {'bar': 100}\n",
        "spam['foo']"
      ],
      "metadata": {
        "colab": {
          "base_uri": "https://localhost:8080/",
          "height": 201
        },
        "id": "q4H2G4vNZ9fH",
        "outputId": "49a6ae86-b941-426f-cbad-1627688371ea"
      },
      "execution_count": 4,
      "outputs": [
        {
          "output_type": "error",
          "ename": "KeyError",
          "evalue": "ignored",
          "traceback": [
            "\u001b[0;31m---------------------------------------------------------------------------\u001b[0m",
            "\u001b[0;31mKeyError\u001b[0m                                  Traceback (most recent call last)",
            "\u001b[0;32m<ipython-input-4-2e2ca8eaf3c6>\u001b[0m in \u001b[0;36m<cell line: 4>\u001b[0;34m()\u001b[0m\n\u001b[1;32m      2\u001b[0m \u001b[0;34m\u001b[0m\u001b[0m\n\u001b[1;32m      3\u001b[0m \u001b[0mspam\u001b[0m \u001b[0;34m=\u001b[0m \u001b[0;34m{\u001b[0m\u001b[0;34m'bar'\u001b[0m\u001b[0;34m:\u001b[0m \u001b[0;36m100\u001b[0m\u001b[0;34m}\u001b[0m\u001b[0;34m\u001b[0m\u001b[0;34m\u001b[0m\u001b[0m\n\u001b[0;32m----> 4\u001b[0;31m \u001b[0mspam\u001b[0m\u001b[0;34m[\u001b[0m\u001b[0;34m'foo'\u001b[0m\u001b[0;34m]\u001b[0m\u001b[0;34m\u001b[0m\u001b[0;34m\u001b[0m\u001b[0m\n\u001b[0m",
            "\u001b[0;31mKeyError\u001b[0m: 'foo'"
          ]
        }
      ]
    },
    {
      "cell_type": "markdown",
      "source": [
        "5. If a dictionary is stored in spam, what is the difference between the expressions &#39;cat&#39; in spam and\n",
        "&#39;cat&#39; in spam.keys()?"
      ],
      "metadata": {
        "id": "VspE0V1eabX1"
      }
    },
    {
      "cell_type": "code",
      "source": [
        "# There is no difference\n",
        "# 'cat' in spam: This expression checks whether there is a 'cat' KEY in the dictionary\n",
        "# 'cat' in spam.keys(): This will checks whether there is a key 'cat' in spam.\n",
        "\n",
        "dict5 = {'k1': 123, 'k2': 2+3j}\n",
        "a = 'k1' in dict5\n",
        "b = 'k1' in dict5.keys()\n",
        "print(a, b)"
      ],
      "metadata": {
        "colab": {
          "base_uri": "https://localhost:8080/"
        },
        "id": "mcJQ2HVbaehr",
        "outputId": "f2390504-1f31-45b6-d828-7c33f855ab26"
      },
      "execution_count": 5,
      "outputs": [
        {
          "output_type": "stream",
          "name": "stdout",
          "text": [
            "True True\n"
          ]
        }
      ]
    },
    {
      "cell_type": "markdown",
      "source": [
        "6. If a dictionary is stored in spam, what is the difference between the expressions &#39;cat&#39; in spam and\n",
        "&#39;cat&#39; in spam.values()?"
      ],
      "metadata": {
        "id": "UtJkLqgCaqkJ"
      }
    },
    {
      "cell_type": "code",
      "source": [
        "# Difference:\n",
        "# 'cat' in spam: This expression checks whether there is a 'cat' KEY in the dictionary\n",
        "# 'cat' in spam.values(): This will checks whether there is a value 'cat' in spam.\n",
        "\n",
        "spam = {'cat': 123, 'k2': 2+3j}\n",
        "a = 'cat' in spam\n",
        "b = 'cat' in spam.values()\n",
        "print(a, b)"
      ],
      "metadata": {
        "colab": {
          "base_uri": "https://localhost:8080/"
        },
        "id": "SbsdrijXau4q",
        "outputId": "ed764725-5cde-4583-c3a7-57e5b8d0ea0b"
      },
      "execution_count": 6,
      "outputs": [
        {
          "output_type": "stream",
          "name": "stdout",
          "text": [
            "True False\n"
          ]
        }
      ]
    },
    {
      "cell_type": "markdown",
      "source": [
        "7. What is a shortcut for the following code?\n",
        "if &#39;color&#39; not in spam:\n",
        "spam[&#39;color&#39;] = &#39;black&#39;"
      ],
      "metadata": {
        "id": "0CUGqz29a3PF"
      }
    },
    {
      "cell_type": "code",
      "source": [
        "spam"
      ],
      "metadata": {
        "colab": {
          "base_uri": "https://localhost:8080/"
        },
        "id": "eaRn5DDNa5Vn",
        "outputId": "81c10cda-423a-4649-94d4-548634bd4871"
      },
      "execution_count": 7,
      "outputs": [
        {
          "output_type": "execute_result",
          "data": {
            "text/plain": [
              "{'cat': 123, 'k2': (2+3j)}"
            ]
          },
          "metadata": {},
          "execution_count": 7
        }
      ]
    },
    {
      "cell_type": "code",
      "source": [
        "# shortcut code\n",
        "spam.setdefault('color', 'black')"
      ],
      "metadata": {
        "colab": {
          "base_uri": "https://localhost:8080/",
          "height": 35
        },
        "id": "oxXsfxGqbB-g",
        "outputId": "5c0be05b-f471-473d-911a-6772efb132f6"
      },
      "execution_count": 8,
      "outputs": [
        {
          "output_type": "execute_result",
          "data": {
            "text/plain": [
              "'black'"
            ],
            "application/vnd.google.colaboratory.intrinsic+json": {
              "type": "string"
            }
          },
          "metadata": {},
          "execution_count": 8
        }
      ]
    },
    {
      "cell_type": "code",
      "source": [
        "spam"
      ],
      "metadata": {
        "colab": {
          "base_uri": "https://localhost:8080/"
        },
        "id": "ANoesIUpbDo8",
        "outputId": "808dd69c-8303-494f-f769-a4cba9412912"
      },
      "execution_count": 9,
      "outputs": [
        {
          "output_type": "execute_result",
          "data": {
            "text/plain": [
              "{'cat': 123, 'k2': (2+3j), 'color': 'black'}"
            ]
          },
          "metadata": {},
          "execution_count": 9
        }
      ]
    },
    {
      "cell_type": "markdown",
      "source": [
        "8. How do you &quot;pretty print&quot; dictionary values using which module and function?"
      ],
      "metadata": {
        "id": "6YgUk9dybHKT"
      }
    },
    {
      "cell_type": "code",
      "source": [
        "# By importing pprint and using pprint.pprint(dict_name)\n",
        "\n",
        "import pprint\n",
        "pprint.pprint(spam)"
      ],
      "metadata": {
        "colab": {
          "base_uri": "https://localhost:8080/"
        },
        "id": "QQpkur6WbKvj",
        "outputId": "d7b964a1-e769-4565-ea83-fcb979b7cb31"
      },
      "execution_count": 10,
      "outputs": [
        {
          "output_type": "stream",
          "name": "stdout",
          "text": [
            "{'cat': 123, 'color': 'black', 'k2': (2+3j)}\n"
          ]
        }
      ]
    },
    {
      "cell_type": "markdown",
      "source": [],
      "metadata": {
        "id": "TNhOnCM3a86G"
      }
    },
    {
      "cell_type": "markdown",
      "source": [],
      "metadata": {
        "id": "38y0XK3xa0Kx"
      }
    },
    {
      "cell_type": "code",
      "source": [],
      "metadata": {
        "id": "lddQPiQdaaAi"
      },
      "execution_count": null,
      "outputs": []
    }
  ]
}