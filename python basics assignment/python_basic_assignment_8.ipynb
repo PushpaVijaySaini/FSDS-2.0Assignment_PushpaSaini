{
  "nbformat": 4,
  "nbformat_minor": 0,
  "metadata": {
    "colab": {
      "provenance": []
    },
    "kernelspec": {
      "name": "python3",
      "display_name": "Python 3"
    },
    "language_info": {
      "name": "python"
    }
  },
  "cells": [
    {
      "cell_type": "markdown",
      "source": [
        "1. Is the Python Standard Library included with PyInputPlus?"
      ],
      "metadata": {
        "id": "zByQL6CwI5Ll"
      }
    },
    {
      "cell_type": "markdown",
      "source": [
        "PyInputPlus is not a part of the Python Standard Library, so we need to install it separately using Pip\n",
        "\n",
        "pip install PyInputPlus"
      ],
      "metadata": {
        "id": "jUElhn8BJDnw"
      }
    },
    {
      "cell_type": "markdown",
      "source": [
        "2. Why is PyInputPlus commonly imported with import pyinputplus as pypi?"
      ],
      "metadata": {
        "id": "QwuB1YXlJFOR"
      }
    },
    {
      "cell_type": "markdown",
      "source": [
        "pypi is alias of PyInputPlus. The as pyip code in the import statement saves us from typing pyinputplus each time we want to call a PyInputPlus function. Instead we can use the shorter pyip name\n",
        "\n",
        "import PyInputPlus as pypi"
      ],
      "metadata": {
        "id": "3hNcGBkAJNkf"
      }
    },
    {
      "cell_type": "markdown",
      "source": [
        "3. How do you distinguish between inputInt() and inputFloat()?"
      ],
      "metadata": {
        "id": "rTAEmlf0JUmQ"
      }
    },
    {
      "cell_type": "markdown",
      "source": [
        "inputInt() : Accepts an integer value, and returns int value\n",
        "\n",
        "inputFloat() : Accepts integer/floating point value and returns float value\n",
        "\n",
        "Both takes additional parameters ‘min’, ‘max’, ‘greaterThan’ and ‘lessThan’ for bounds"
      ],
      "metadata": {
        "id": "5V-JUGD_JZHq"
      }
    },
    {
      "cell_type": "markdown",
      "source": [
        "4. Using PyInputPlus, how do you ensure that the user enters a whole number between 0 and 99?"
      ],
      "metadata": {
        "id": "ya8KXodUJdAD"
      }
    },
    {
      "cell_type": "markdown",
      "source": [
        "In the inputint function we can set the min = 0 and max =99 to ensure user enters number between 0 and 99\n",
        "\n",
        "pyip.inputInt(min = 0, max =99)"
      ],
      "metadata": {
        "id": "FXErf-SaJkL9"
      }
    },
    {
      "cell_type": "markdown",
      "source": [
        "5. What is transferred to the keyword arguments allowRegexes and blockRegexes?"
      ],
      "metadata": {
        "id": "RBKmlIRQJmw9"
      }
    },
    {
      "cell_type": "markdown",
      "source": [
        " we can use allowRegexes and blockRegexes keyword arguments to take list of regular expression strings to determine what the pyinputplus function will reject or accept valid input."
      ],
      "metadata": {
        "id": "kURL7po4JmnT"
      }
    },
    {
      "cell_type": "markdown",
      "source": [
        "6. If a blank input is entered three times, what does inputStr(limit=3) do?"
      ],
      "metadata": {
        "id": "JCmWuplAJyUb"
      }
    },
    {
      "cell_type": "markdown",
      "source": [
        "inputStr(limit=3) will throw Retry Limit Exception exception."
      ],
      "metadata": {
        "id": "yTsUc-EnJ3OC"
      }
    },
    {
      "cell_type": "markdown",
      "source": [
        "7. If blank input is entered three times, what does inputStr(limit=3, default=&#39;hello&#39;) do?"
      ],
      "metadata": {
        "id": "Va6j6P52J3Ka"
      }
    },
    {
      "cell_type": "markdown",
      "source": [
        "Since the default parameter is set to hello. after blank input is entered three times instead of raising RetryLimitException exception. the function will return hello as response to the calling function"
      ],
      "metadata": {
        "id": "krkgQOQlKG_3"
      }
    },
    {
      "cell_type": "code",
      "execution_count": null,
      "metadata": {
        "id": "zbzKrIEnIba8"
      },
      "outputs": [],
      "source": []
    }
  ]
}