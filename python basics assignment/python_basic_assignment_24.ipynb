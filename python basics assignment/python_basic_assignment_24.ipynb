{
  "nbformat": 4,
  "nbformat_minor": 0,
  "metadata": {
    "colab": {
      "provenance": []
    },
    "kernelspec": {
      "name": "python3",
      "display_name": "Python 3"
    },
    "language_info": {
      "name": "python"
    }
  },
  "cells": [
    {
      "cell_type": "markdown",
      "source": [
        "1. What is the relationship between def statements and lambda expressions ?"
      ],
      "metadata": {
        "id": "sVVRrL6VjzYs"
      }
    },
    {
      "cell_type": "markdown",
      "source": [
        "def statement is used to create a normal function. where as lambda expressions are used to create Anonymous functions. which can be assigned to a variable and can be called using the variable later in function.\n",
        "\n",
        "Lambda's body is a single expression and not a block of statements like def statement. The lambda expression's body is similar to what we'd put in a def body's return statement. We simply type the result as an expression instead of explicitly returning it. Because it is limited to an expression, a lambda is less general than a def statement."
      ],
      "metadata": {
        "id": "VdYE2j_oj68z"
      }
    },
    {
      "cell_type": "markdown",
      "source": [
        "2. What is the benefit of lambda?"
      ],
      "metadata": {
        "id": "I7wIQ4XbkAkg"
      }
    },
    {
      "cell_type": "markdown",
      "source": [
        "The following are some of the benefits of lambda expressions:\n",
        "\n",
        "Can be used to create Nameless/Anonymous functions inside some complex functions if we are planning to use it only once.\n",
        "Moderate to small functions can be created in a single line\n",
        "Fuctions created using lambda expressions can be assigned to a variable and can be used by simply calling the variable"
      ],
      "metadata": {
        "id": "tJ-GXL75kIAS"
      }
    },
    {
      "cell_type": "markdown",
      "source": [
        "3. Compare and contrast map, filter, and reduce."
      ],
      "metadata": {
        "id": "r0bja0KHkMCK"
      }
    },
    {
      "cell_type": "markdown",
      "source": [
        " The differences between map, filter and reduce are:\n",
        "\n",
        "1.map(): The map() function is a type of higher-order. This function takes another function as a parameter along with a sequence of iterables and returns an output after applying the function to each iterable present in the sequence.\n",
        "\n",
        "2. filter(): The filter() function is used to create an output list consisting of values for which the function returns true.\n",
        "\n",
        "3. reduce(): The reduce() function, as the name describes, applies a given function to the iterables and returns a single value"
      ],
      "metadata": {
        "id": "OXLjawEzkR6r"
      }
    },
    {
      "cell_type": "markdown",
      "source": [
        "4. What are function annotations, and how are they used?"
      ],
      "metadata": {
        "id": "sJQLkqCxkrO8"
      }
    },
    {
      "cell_type": "markdown",
      "source": [
        "Function annotations provide a way of associating various parts of a function with arbitrary pythoncexpressions at compile time.\n",
        "\n",
        "Annotations of simple parameters def func(x: expression, y: expression = 20):\n",
        "\n",
        "Whereas the annotations for excess parameters are as − def func (**args: expression, **kwargs: expression):"
      ],
      "metadata": {
        "id": "oGnDJ2vVlS6I"
      }
    },
    {
      "cell_type": "markdown",
      "source": [
        "5. What are recursive functions, and how are they used?"
      ],
      "metadata": {
        "id": "fAs8gzsMlb51"
      }
    },
    {
      "cell_type": "markdown",
      "source": [
        "A recursive function is a function that calls itself during its execution. The process may repeat several times, outputting the result and the end of each iteration."
      ],
      "metadata": {
        "id": "vX3MH_wrlgwP"
      }
    },
    {
      "cell_type": "markdown",
      "source": [
        "6. What are some general design guidelines for coding functions?"
      ],
      "metadata": {
        "id": "NHewokGVliIF"
      }
    },
    {
      "cell_type": "markdown",
      "source": [
        "Some of the general design guidelines for coding functions are:\n",
        "\n",
        "Always use a docstring to explain the functionality of the function\n",
        "avoid using or limited use of global variables\n",
        "\n",
        "Proper Identation to increase the code readability\n",
        "try to follow a naming convention for function names (pascalCase or camelCase) and stick with the same convention throughout the application.\n",
        "\n",
        "Avoid using digits while choosing a variable name\n",
        "try to use a name for the function which conveys the purpose of the function\n",
        "\n",
        "Local variables should be named using camelCase format (ex: localVariable) whereas Global variables names should be using PascalCase (ex:GlobalVariable).\n",
        "\n",
        "Constant should be represented in allcaps (ex:CONSTANT)."
      ],
      "metadata": {
        "id": "ogXusTB1lp_C"
      }
    },
    {
      "cell_type": "markdown",
      "source": [
        "7. Name three or more ways that functions can communicate results to a caller."
      ],
      "metadata": {
        "id": "0LOJWi2ulwAm"
      }
    },
    {
      "cell_type": "markdown",
      "source": [
        "Some of the ways in which a function can communicate with the calling function is:\n",
        "\n",
        "print\n",
        "\n",
        "return\n",
        "\n",
        "yield"
      ],
      "metadata": {
        "id": "e8GB2lu4l1Hc"
      }
    },
    {
      "cell_type": "code",
      "source": [],
      "metadata": {
        "id": "qZtYFbapkIlX"
      },
      "execution_count": null,
      "outputs": []
    }
  ]
}