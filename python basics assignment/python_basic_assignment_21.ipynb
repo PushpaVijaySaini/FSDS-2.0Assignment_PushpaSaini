{
  "nbformat": 4,
  "nbformat_minor": 0,
  "metadata": {
    "colab": {
      "provenance": []
    },
    "kernelspec": {
      "name": "python3",
      "display_name": "Python 3"
    },
    "language_info": {
      "name": "python"
    }
  },
  "cells": [
    {
      "cell_type": "markdown",
      "source": [
        "1. Add the current date to the text file today.txt as a string."
      ],
      "metadata": {
        "id": "jinLGiiYhiuw"
      }
    },
    {
      "cell_type": "code",
      "execution_count": null,
      "metadata": {
        "colab": {
          "base_uri": "https://localhost:8080/",
          "height": 35
        },
        "id": "dvoLGTHzhAIb",
        "outputId": "197947e9-6756-442d-84b1-211784cb64b9"
      },
      "outputs": [
        {
          "output_type": "execute_result",
          "data": {
            "text/plain": [
              "'2023-08-17'"
            ],
            "application/vnd.google.colaboratory.intrinsic+json": {
              "type": "string"
            }
          },
          "metadata": {},
          "execution_count": 1
        }
      ],
      "source": [
        "import datetime\n",
        "from datetime import date\n",
        "now = date.today()\n",
        "cur_date = now.isoformat()\n",
        "cur_date"
      ]
    },
    {
      "cell_type": "code",
      "source": [
        "with open('today.txt','w') as file:\n",
        "    file.write(cur_date)"
      ],
      "metadata": {
        "id": "8018VHS2hpjE"
      },
      "execution_count": null,
      "outputs": []
    },
    {
      "cell_type": "markdown",
      "source": [
        "2. Read the text file today.txt into the string today_string"
      ],
      "metadata": {
        "id": "Mi4V-UdIiACf"
      }
    },
    {
      "cell_type": "code",
      "source": [
        "with open('today.txt','r') as file:\n",
        "    today_string = file.read()\n",
        "today_string\n"
      ],
      "metadata": {
        "colab": {
          "base_uri": "https://localhost:8080/",
          "height": 35
        },
        "id": "WhZdVYCih6ks",
        "outputId": "1563568b-a307-4231-8b98-8da730df9b95"
      },
      "execution_count": null,
      "outputs": [
        {
          "output_type": "execute_result",
          "data": {
            "text/plain": [
              "'2023-08-17'"
            ],
            "application/vnd.google.colaboratory.intrinsic+json": {
              "type": "string"
            }
          },
          "metadata": {},
          "execution_count": 4
        }
      ]
    },
    {
      "cell_type": "markdown",
      "source": [
        "3. Parse the date from today_string."
      ],
      "metadata": {
        "id": "oPBBXrHEiKjn"
      }
    },
    {
      "cell_type": "code",
      "source": [
        "from datetime import datetime\n",
        "format = '%Y-%m-%d'\n",
        "datetime.strptime(today_string,format)"
      ],
      "metadata": {
        "colab": {
          "base_uri": "https://localhost:8080/"
        },
        "id": "2T-V-qcZiEny",
        "outputId": "e108a3c8-a1a8-4d94-e582-b10e435924cb"
      },
      "execution_count": null,
      "outputs": [
        {
          "output_type": "execute_result",
          "data": {
            "text/plain": [
              "datetime.datetime(2023, 8, 17, 0, 0)"
            ]
          },
          "metadata": {},
          "execution_count": 5
        }
      ]
    },
    {
      "cell_type": "markdown",
      "source": [
        "4. List the files in your current directory"
      ],
      "metadata": {
        "id": "-OcgkLktiViu"
      }
    },
    {
      "cell_type": "code",
      "source": [
        "import os\n",
        "os.listdir('.')"
      ],
      "metadata": {
        "colab": {
          "base_uri": "https://localhost:8080/"
        },
        "id": "N8CQPdSMiTJG",
        "outputId": "9fabed1b-3946-4b58-d426-756d8f38d82e"
      },
      "execution_count": null,
      "outputs": [
        {
          "output_type": "execute_result",
          "data": {
            "text/plain": [
              "['.config', 'today.txt', 'sample_data']"
            ]
          },
          "metadata": {},
          "execution_count": 6
        }
      ]
    },
    {
      "cell_type": "markdown",
      "source": [
        "5. Create a list of all of the files in your parent directory (minimum five files should be available)."
      ],
      "metadata": {
        "id": "a--kwi2Zid31"
      }
    },
    {
      "cell_type": "code",
      "source": [
        "import os\n",
        "for folders, subfolders, files in os.walk(os.getcwd()):\n",
        "    for file in files:\n",
        "        print(file)"
      ],
      "metadata": {
        "colab": {
          "base_uri": "https://localhost:8080/"
        },
        "id": "qYVs-XWSihx1",
        "outputId": "9dbc6d07-c5cf-493e-afd7-0611544fa835"
      },
      "execution_count": null,
      "outputs": [
        {
          "output_type": "stream",
          "name": "stdout",
          "text": [
            "today.txt\n",
            ".last_survey_prompt.yaml\n",
            "gce\n",
            "default_configs.db\n",
            ".last_opt_in_prompt.yaml\n",
            "config_sentinel\n",
            "active_config\n",
            ".last_update_check.json\n",
            "13.37.08.851715.log\n",
            "13.36.41.401504.log\n",
            "13.37.08.054357.log\n",
            "13.36.32.779017.log\n",
            "13.35.41.754352.log\n",
            "13.36.07.876397.log\n",
            "config_default\n",
            "README.md\n",
            "anscombe.json\n",
            "mnist_test.csv\n",
            "california_housing_train.csv\n",
            "mnist_train_small.csv\n",
            "california_housing_test.csv\n"
          ]
        }
      ]
    },
    {
      "cell_type": "markdown",
      "source": [
        "6. Use multiprocessing to create three separate processes. Make each one wait a random number of\n",
        "seconds between one and five, print the current time, and then exit."
      ],
      "metadata": {
        "id": "NGzu1stkiUat"
      }
    },
    {
      "cell_type": "code",
      "source": [
        "import multiprocessing\n",
        "\n",
        "def printsec(seconds):\n",
        "    from datetime import datetime\n",
        "    from time import sleep\n",
        "    sleep(seconds)\n",
        "    print('wait', seconds, 'seconds, time is', datetime.utcnow())\n",
        "\n",
        "if __name__ == '__main__':\n",
        "    import random\n",
        "    for n in range(3):\n",
        "        seconds = random.random()\n",
        "        proc = multiprocessing.Process(target=printsec, args=(seconds,))\n",
        "        proc.start()"
      ],
      "metadata": {
        "colab": {
          "base_uri": "https://localhost:8080/"
        },
        "id": "vnfz58RVixtJ",
        "outputId": "4813aa49-d9a7-4758-aaf3-2b952a0d229a"
      },
      "execution_count": null,
      "outputs": [
        {
          "output_type": "stream",
          "name": "stdout",
          "text": [
            "wait 0.34421452043627965 seconds, time is2023-08-17 08:12:04.240276 \n"
          ]
        }
      ]
    },
    {
      "cell_type": "markdown",
      "source": [
        "7. Create a date object of your day of birth."
      ],
      "metadata": {
        "id": "v85vj2tFjdmN"
      }
    },
    {
      "cell_type": "code",
      "source": [
        "\n",
        "from datetime import datetime\n",
        "my_dob = datetime.strptime('19/06/1987','%d/%m/%Y')\n",
        "print(my_dob, type(my_dob))"
      ],
      "metadata": {
        "colab": {
          "base_uri": "https://localhost:8080/"
        },
        "id": "HjkpBnINjTWC",
        "outputId": "045f6cf8-9378-49e4-b522-b4e80ac5619c"
      },
      "execution_count": null,
      "outputs": [
        {
          "output_type": "stream",
          "name": "stdout",
          "text": [
            "1987-06-19 00:00:00 <class 'datetime.datetime'>\n"
          ]
        }
      ]
    },
    {
      "cell_type": "markdown",
      "source": [
        "8. What day of the week was your day of birth?"
      ],
      "metadata": {
        "id": "KpUP6AtZj7ut"
      }
    },
    {
      "cell_type": "code",
      "source": [
        "from datetime import datetime\n",
        "my_dob = datetime(1987,6,19)\n",
        "my_dob.strftime(\"%A\")"
      ],
      "metadata": {
        "colab": {
          "base_uri": "https://localhost:8080/",
          "height": 35
        },
        "id": "YSyVcx4RjYFD",
        "outputId": "d95ce236-846b-4537-e1e6-6fbbe11141f4"
      },
      "execution_count": null,
      "outputs": [
        {
          "output_type": "execute_result",
          "data": {
            "text/plain": [
              "'Friday'"
            ],
            "application/vnd.google.colaboratory.intrinsic+json": {
              "type": "string"
            }
          },
          "metadata": {},
          "execution_count": 12
        }
      ]
    },
    {
      "cell_type": "markdown",
      "source": [
        "9. When will you be (or when were you) 10,000 days old?"
      ],
      "metadata": {
        "id": "DXDQIyFakIT-"
      }
    },
    {
      "cell_type": "code",
      "source": [
        "from datetime import datetime, timedelta\n",
        "my_dob = datetime.strptime(\"19/06/1987\",'%d/%m/%Y')\n",
        "future_date = my_dob-timedelta(10000)\n",
        "future_date"
      ],
      "metadata": {
        "colab": {
          "base_uri": "https://localhost:8080/"
        },
        "id": "DoyT4seQkKdH",
        "outputId": "31345317-f048-45fb-d79d-fbd29a019990"
      },
      "execution_count": null,
      "outputs": [
        {
          "output_type": "execute_result",
          "data": {
            "text/plain": [
              "datetime.datetime(1960, 2, 1, 0, 0)"
            ]
          },
          "metadata": {},
          "execution_count": 13
        }
      ]
    },
    {
      "cell_type": "code",
      "source": [],
      "metadata": {
        "id": "dzeTmT4ykV2u"
      },
      "execution_count": null,
      "outputs": []
    }
  ]
}