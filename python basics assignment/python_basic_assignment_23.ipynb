{
  "nbformat": 4,
  "nbformat_minor": 0,
  "metadata": {
    "colab": {
      "provenance": []
    },
    "kernelspec": {
      "name": "python3",
      "display_name": "Python 3"
    },
    "language_info": {
      "name": "python"
    }
  },
  "cells": [
    {
      "cell_type": "code",
      "execution_count": null,
      "metadata": {
        "id": "Q1fKcs1YcqaN"
      },
      "outputs": [],
      "source": []
    },
    {
      "cell_type": "markdown",
      "source": [
        "1. What is the result of the code, and why?\n",
        "&gt;&gt;&gt; def func(a, b=6, c=8):\n",
        "print(a, b, c)\n",
        "&gt;&gt;&gt; func(1, 2)"
      ],
      "metadata": {
        "id": "By7q9rvxdKsb"
      }
    },
    {
      "cell_type": "code",
      "source": [
        "def func(a,b=6,c=8):\n",
        "    print(a,b,c)\n",
        "func(1,2)"
      ],
      "metadata": {
        "colab": {
          "base_uri": "https://localhost:8080/"
        },
        "id": "j3jcfgr_dLcb",
        "outputId": "4dc9c2ac-8376-4239-f766-6e29d1772ed6"
      },
      "execution_count": null,
      "outputs": [
        {
          "output_type": "stream",
          "name": "stdout",
          "text": [
            "1 2 8\n"
          ]
        }
      ]
    },
    {
      "cell_type": "markdown",
      "source": [
        "The result of the above code is 1 2 8. its because the function uses the default value of c ie 8 which is provided at the time of declaration"
      ],
      "metadata": {
        "id": "XwvmNSR4gZVQ"
      }
    },
    {
      "cell_type": "markdown",
      "source": [
        "2. What is the result of this code, and why?\n",
        "&gt;&gt;&gt; def func(a, b, c=5):\n",
        "print(a, b, c)\n",
        "&gt;&gt;&gt; func(1, c=3, b=2)"
      ],
      "metadata": {
        "id": "eiNYKdfYiEsj"
      }
    },
    {
      "cell_type": "code",
      "source": [
        "def func(a,b,c=5):\n",
        "    print(a,b,c)\n",
        "func(1,c=3,b=2)"
      ],
      "metadata": {
        "colab": {
          "base_uri": "https://localhost:8080/"
        },
        "id": "btkKUMbDiFYO",
        "outputId": "7645db4b-790a-4beb-d7f1-ac8ca66944cf"
      },
      "execution_count": null,
      "outputs": [
        {
          "output_type": "stream",
          "name": "stdout",
          "text": [
            "1 2 3\n"
          ]
        }
      ]
    },
    {
      "cell_type": "markdown",
      "source": [
        " The result of the above code is 1 2 3. it is because the function will use default values only when a value for a argument is not provided and if argument name is mentioned while doing a function call, the order of arguments is also ignored by the python interpreter"
      ],
      "metadata": {
        "id": "r2Qidr7HiLNK"
      }
    },
    {
      "cell_type": "markdown",
      "source": [
        "3. How about this code: what is its result, and why?\n",
        "&gt;&gt;&gt; def func(a, *pargs):\n",
        "print(a, pargs)\n",
        "&gt;&gt;&gt; func(1, 2, 3)"
      ],
      "metadata": {
        "id": "oGWC58tMiSxW"
      }
    },
    {
      "cell_type": "code",
      "source": [
        "def func(a, *pargs):\n",
        "    print(a,pargs)\n",
        "func(1,2,3)"
      ],
      "metadata": {
        "colab": {
          "base_uri": "https://localhost:8080/"
        },
        "id": "GwfGfRC3iJ_K",
        "outputId": "3d0e6468-57d9-4b2b-81f5-e98652a54d42"
      },
      "execution_count": null,
      "outputs": [
        {
          "output_type": "stream",
          "name": "stdout",
          "text": [
            "1 (2, 3)\n"
          ]
        }
      ]
    },
    {
      "cell_type": "markdown",
      "source": [
        "The result of the code is 1 (2,3). *pargs stands for variable length arguments. this format is used when we are not sure about the no of arguments to be passed to a function. all the values under this argument will be stored in a tuple."
      ],
      "metadata": {
        "id": "rqSXye2KioOb"
      }
    },
    {
      "cell_type": "markdown",
      "source": [
        "4. What does this code print, and why?\n",
        "&gt;&gt;&gt; def func(a, **kargs):\n",
        "print(a, kargs)\n",
        "&gt;&gt;&gt; func(a=1, c=3, b=2)"
      ],
      "metadata": {
        "id": "f_QERUfHipqd"
      }
    },
    {
      "cell_type": "code",
      "source": [
        "def func(a,**kargs):\n",
        "    print(a,kargs)\n",
        "func(a=1,c=3,b=2)"
      ],
      "metadata": {
        "colab": {
          "base_uri": "https://localhost:8080/"
        },
        "id": "ImesauififXv",
        "outputId": "195f3920-346c-40ba-b158-59fd8a27b503"
      },
      "execution_count": null,
      "outputs": [
        {
          "output_type": "stream",
          "name": "stdout",
          "text": [
            "1 {'c': 3, 'b': 2}\n"
          ]
        }
      ]
    },
    {
      "cell_type": "markdown",
      "source": [
        "The result of the above code is 1 {'c': 3, 'b': 2}. **args stands for variable length keyword arguments. this format is used when we want pass key value pairs as input to a function. All these key value pairs will be stored in a dictionary"
      ],
      "metadata": {
        "id": "BvEzAflZi1ij"
      }
    },
    {
      "cell_type": "markdown",
      "source": [
        "5. What gets printed by this, and explain?\n",
        "&gt;&gt;&gt; def func(a, b, c=8, d=5): print(a, b, c, d)\n",
        "&gt;&gt;&gt; func(1, *(5, 6))"
      ],
      "metadata": {
        "id": "V13rkNfDjAjX"
      }
    },
    {
      "cell_type": "code",
      "source": [
        "def func(a,b,c=8,d=5):\n",
        "    print(a,b,c,d)\n",
        "func(1,*(5,6))"
      ],
      "metadata": {
        "colab": {
          "base_uri": "https://localhost:8080/"
        },
        "id": "1ZheQAAMizXl",
        "outputId": "d9eefe0b-f15e-49d9-8aca-dce82d533c82"
      },
      "execution_count": null,
      "outputs": [
        {
          "output_type": "stream",
          "name": "stdout",
          "text": [
            "1 5 6 5\n"
          ]
        }
      ]
    },
    {
      "cell_type": "markdown",
      "source": [
        "The output of the above is 1 5 6 5. This reason for this function not throwing an error is because, this function expects 4 arguments. the value for a is provided explicitly whereas for arguments b and c, the function will expand the *(5,6) and consider the value of b as 5 and value of c as 6. since the default value of d is provided in function declaration d value will be 5. However it is recommended to use the feature of positional arguments at the end."
      ],
      "metadata": {
        "id": "QZgfE4ACjSDz"
      }
    },
    {
      "cell_type": "markdown",
      "source": [
        "6. what is the result of this, and explain?\n",
        "&gt;&gt;&gt; def func(a, b, c): a = 2; b[0] = &#39;x&#39;; c[&#39;a&#39;] = &#39;y&#39;\n",
        "&gt;&gt;&gt; l=1; m=[1]; n={&#39;a&#39;:0}\n",
        "&gt;&gt;&gt; func(l, m, n)\n",
        "\n",
        "&gt;&gt;&gt; l, m, n"
      ],
      "metadata": {
        "id": "gzEWfqdWjTPX"
      }
    },
    {
      "cell_type": "code",
      "source": [
        "def func(a, b, c): a = 2; b[0] = 'x'; c['a'] = 'y'\n",
        "l=1; m=[1]; n={'a':0}\n",
        "func(l, m, n)\n",
        "l,m,n"
      ],
      "metadata": {
        "colab": {
          "base_uri": "https://localhost:8080/"
        },
        "id": "H4NqGUi4jHra",
        "outputId": "ed9f8a78-9cb0-49d1-f044-d7a3422eb834"
      },
      "execution_count": null,
      "outputs": [
        {
          "output_type": "execute_result",
          "data": {
            "text/plain": [
              "(1, ['x'], {'a': 'y'})"
            ]
          },
          "metadata": {},
          "execution_count": 6
        }
      ]
    },
    {
      "cell_type": "markdown",
      "source": [
        "The output of above code is 1, ['x'], {'a': 'y'}.\n",
        "\n",
        "Eventhough Python gives importance to indentation. its provides a facility to declare an entire function in one single line. where statements in a function body are sepereated by ;\n",
        "When l,m,n are provided as inputs to the function. its modifies the values of l,m,n and sets the value of l=2 ,m=['x'] and n={'a':'y'}"
      ],
      "metadata": {
        "id": "dsbAnbUBjb1P"
      }
    },
    {
      "cell_type": "code",
      "source": [],
      "metadata": {
        "id": "9AKKi1bijabN"
      },
      "execution_count": null,
      "outputs": []
    }
  ]
}