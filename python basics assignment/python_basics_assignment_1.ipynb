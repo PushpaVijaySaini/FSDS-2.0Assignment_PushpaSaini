{
  "nbformat": 4,
  "nbformat_minor": 0,
  "metadata": {
    "colab": {
      "provenance": []
    },
    "kernelspec": {
      "name": "python3",
      "display_name": "Python 3"
    },
    "language_info": {
      "name": "python"
    }
  },
  "cells": [
    {
      "cell_type": "markdown",
      "source": [
        "1. In the below elements which of them are values or an expression? eg:- values can be\n",
        "integer or string and expressions will be mathematical operators.\n",
        "*\n",
        "&#39;hello&#39;\n",
        "-87.8\n",
        "-\n",
        "/\n",
        "+\n",
        "6"
      ],
      "metadata": {
        "id": "RJtWyWJ_D4oZ"
      }
    },
    {
      "cell_type": "markdown",
      "source": [
        "ANS: 'hello',-87.8,6 are values and -,+,*,/ are expressions\n"
      ],
      "metadata": {
        "id": "6IcbogQXD9Nm"
      }
    },
    {
      "cell_type": "markdown",
      "source": [
        "2. What is the difference between string and variable?"
      ],
      "metadata": {
        "id": "M_xv5nuDEPZ1"
      }
    },
    {
      "cell_type": "markdown",
      "source": [
        "ANS: Variable is a container which can store the value(data) and this data can be of int, float, str data-type.\n",
        "whereas string is one of the datatype which is collection characters (for eg: 'Data Analyst'"
      ],
      "metadata": {
        "id": "VyaXz703EU2f"
      }
    },
    {
      "cell_type": "markdown",
      "source": [
        "3. Describe three different data types."
      ],
      "metadata": {
        "id": "sEBxnEWJFCQO"
      }
    },
    {
      "cell_type": "markdown",
      "source": [
        "Int : Int datatype is used to repersent the integer values (eg. a = 12, b = 21)\n",
        "\n",
        "\n",
        "\n",
        "float : Float datatype is used to repersent the real numbers(floating point) (eg. c = 10.34, d = -1.09)\n",
        "\n",
        "\n",
        "\n",
        "string: String is used to repersent the sequence of characters. Also the characters can be numbers, special character, and alphabates. (eg. s1 = \"Hello World!\", s2 = \"123<!@3e\")"
      ],
      "metadata": {
        "id": "5XJpwYWXFHx2"
      }
    },
    {
      "cell_type": "markdown",
      "source": [
        "4. What is an expression made up of? What do all expressions do?"
      ],
      "metadata": {
        "id": "_3ua3ekTFfgv"
      }
    },
    {
      "cell_type": "markdown",
      "source": [
        "ANS:Expression : Expression is the combinaton.of mathematical operators, variables(or Constants). It consists of one or more operand and zero or more operators to produce a value.Expression is used to produce some result or value."
      ],
      "metadata": {
        "id": "aMtS0fOpFhcA"
      }
    },
    {
      "cell_type": "markdown",
      "source": [
        "5. This assignment statements, like spam = 10. What is the difference between an\n",
        "expression and a statement?"
      ],
      "metadata": {
        "id": "I9MANr2CFsZC"
      }
    },
    {
      "cell_type": "markdown",
      "source": [
        " ANS:\n",
        "Assignment statement is the statement where some value or expression is assigned to a variable or constant.\n",
        "The difference is that expression itself is assigned to a variable or constant.\n",
        "\n",
        "\n",
        "\n",
        "For Eg: spam = 10\n",
        "In the example \" spam = 10 \" is a assignment statement whereas the 10   is an expression"
      ],
      "metadata": {
        "id": "6j_jAzcBFwHU"
      }
    },
    {
      "cell_type": "markdown",
      "source": [
        "6. After running the following code, what does the variable bacon contain?\n",
        "bacon = 22\n",
        "bacon + 1"
      ],
      "metadata": {
        "id": "OFHV6r2xGNTT"
      }
    },
    {
      "cell_type": "code",
      "source": [
        "bacon=22\n",
        "bacon+1\n",
        "bacon"
      ],
      "metadata": {
        "colab": {
          "base_uri": "https://localhost:8080/"
        },
        "id": "E6awY6FuGVUm",
        "outputId": "9c04c227-adbd-4584-d1c6-98771cad89bc"
      },
      "execution_count": 1,
      "outputs": [
        {
          "output_type": "execute_result",
          "data": {
            "text/plain": [
              "22"
            ]
          },
          "metadata": {},
          "execution_count": 1
        }
      ]
    },
    {
      "cell_type": "markdown",
      "source": [
        "7.  What should the values of the following two terms be?\n",
        "'spam' + 'spamspam'\n",
        "'spam' * 3\n"
      ],
      "metadata": {
        "id": "vIL2Hk87Ge_B"
      }
    },
    {
      "cell_type": "code",
      "source": [
        "'spam' + 'spamspam'\n"
      ],
      "metadata": {
        "colab": {
          "base_uri": "https://localhost:8080/",
          "height": 35
        },
        "id": "Pgye7UmIGwkq",
        "outputId": "3bd137e9-c791-4ebb-e21e-627dff021715"
      },
      "execution_count": 2,
      "outputs": [
        {
          "output_type": "execute_result",
          "data": {
            "text/plain": [
              "'spamspamspam'"
            ],
            "application/vnd.google.colaboratory.intrinsic+json": {
              "type": "string"
            }
          },
          "metadata": {},
          "execution_count": 2
        }
      ]
    },
    {
      "cell_type": "code",
      "source": [
        "'spam' * 3"
      ],
      "metadata": {
        "colab": {
          "base_uri": "https://localhost:8080/",
          "height": 35
        },
        "id": "1bf0EZolHLFG",
        "outputId": "5d6840fc-a8c3-4146-f66f-7d62c7318169"
      },
      "execution_count": 3,
      "outputs": [
        {
          "output_type": "execute_result",
          "data": {
            "text/plain": [
              "'spamspamspam'"
            ],
            "application/vnd.google.colaboratory.intrinsic+json": {
              "type": "string"
            }
          },
          "metadata": {},
          "execution_count": 3
        }
      ]
    },
    {
      "cell_type": "markdown",
      "source": [
        "8. Why is eggs a valid variable name while 100 is invalid?"
      ],
      "metadata": {
        "id": "XUy6Kc2VGyoW"
      }
    },
    {
      "cell_type": "markdown",
      "source": [
        " ANS:Because the variable declaration in python is that the variable name must start with a alphabet or underscore '_'"
      ],
      "metadata": {
        "id": "3yxNUy9YG4FJ"
      }
    },
    {
      "cell_type": "markdown",
      "source": [
        "9. What three functions can be used to get the integer, floating-point number, or string\n",
        "version of a value?"
      ],
      "metadata": {
        "id": "V-qiKNYKHQcr"
      }
    },
    {
      "cell_type": "markdown",
      "source": [
        "ANS: for int : int()\n",
        "for float : float()\n",
        "for string : str()"
      ],
      "metadata": {
        "id": "2zXfJVIkHVw5"
      }
    },
    {
      "cell_type": "markdown",
      "source": [
        "10. Why does this expression cause an error? How can you fix it?\n",
        "'I have eaten ' + 99 + ' burritos.'"
      ],
      "metadata": {
        "id": "IptZBgekHn3R"
      }
    },
    {
      "cell_type": "code",
      "source": [
        "'I have eaten ' + 99 + ' burritos.'"
      ],
      "metadata": {
        "colab": {
          "base_uri": "https://localhost:8080/",
          "height": 166
        },
        "id": "zAyou1icHyUD",
        "outputId": "fbcfcd5f-934d-4052-ba6b-7990107d7d30"
      },
      "execution_count": 4,
      "outputs": [
        {
          "output_type": "error",
          "ename": "TypeError",
          "evalue": "ignored",
          "traceback": [
            "\u001b[0;31m---------------------------------------------------------------------------\u001b[0m",
            "\u001b[0;31mTypeError\u001b[0m                                 Traceback (most recent call last)",
            "\u001b[0;32m<ipython-input-4-d24137131a5c>\u001b[0m in \u001b[0;36m<cell line: 1>\u001b[0;34m()\u001b[0m\n\u001b[0;32m----> 1\u001b[0;31m \u001b[0;34m'I have eaten '\u001b[0m \u001b[0;34m+\u001b[0m \u001b[0;36m99\u001b[0m \u001b[0;34m+\u001b[0m \u001b[0;34m' burritos.'\u001b[0m\u001b[0;34m\u001b[0m\u001b[0;34m\u001b[0m\u001b[0m\n\u001b[0m",
            "\u001b[0;31mTypeError\u001b[0m: can only concatenate str (not \"int\") to str"
          ]
        }
      ]
    },
    {
      "cell_type": "code",
      "source": [
        "'I have eaten ' + '99' + ' burritos.'"
      ],
      "metadata": {
        "colab": {
          "base_uri": "https://localhost:8080/",
          "height": 35
        },
        "id": "ik3qBr62GelJ",
        "outputId": "d51ae1e3-4a2c-4f20-f0da-7e07fe061a6e"
      },
      "execution_count": 5,
      "outputs": [
        {
          "output_type": "execute_result",
          "data": {
            "text/plain": [
              "'I have eaten 99 burritos.'"
            ],
            "application/vnd.google.colaboratory.intrinsic+json": {
              "type": "string"
            }
          },
          "metadata": {},
          "execution_count": 5
        }
      ]
    },
    {
      "cell_type": "code",
      "source": [
        "'I have eaten ' + str(99) + ' burritos.'"
      ],
      "metadata": {
        "colab": {
          "base_uri": "https://localhost:8080/",
          "height": 35
        },
        "id": "FHMNkvzQIEPu",
        "outputId": "c15e68cc-dbfa-4eb4-b52e-082d0579c118"
      },
      "execution_count": 6,
      "outputs": [
        {
          "output_type": "execute_result",
          "data": {
            "text/plain": [
              "'I have eaten 99 burritos.'"
            ],
            "application/vnd.google.colaboratory.intrinsic+json": {
              "type": "string"
            }
          },
          "metadata": {},
          "execution_count": 6
        }
      ]
    },
    {
      "cell_type": "markdown",
      "source": [
        "Ans: The concat operation between string and int is not possbile. So it will throw an error\n",
        "Fix: To fix this error we can typecast the int value using str(99)"
      ],
      "metadata": {
        "id": "XaW9mfy8IAe7"
      }
    },
    {
      "cell_type": "code",
      "source": [],
      "metadata": {
        "id": "HZnbH1lYHxW1"
      },
      "execution_count": null,
      "outputs": []
    },
    {
      "cell_type": "markdown",
      "source": [
        "ANS:"
      ],
      "metadata": {
        "id": "YqNQQ80LGQmH"
      }
    },
    {
      "cell_type": "markdown",
      "source": [],
      "metadata": {
        "id": "l0jv3lUWFGQE"
      }
    },
    {
      "cell_type": "markdown",
      "source": [],
      "metadata": {
        "id": "UTWFIwlrDwZT"
      }
    }
  ]
}