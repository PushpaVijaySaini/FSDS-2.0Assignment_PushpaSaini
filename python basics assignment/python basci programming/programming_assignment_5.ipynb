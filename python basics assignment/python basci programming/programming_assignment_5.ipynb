{
  "nbformat": 4,
  "nbformat_minor": 0,
  "metadata": {
    "colab": {
      "provenance": []
    },
    "kernelspec": {
      "name": "python3",
      "display_name": "Python 3"
    },
    "language_info": {
      "name": "python"
    }
  },
  "cells": [
    {
      "cell_type": "markdown",
      "source": [
        "1. Write a Python Program to Find LCM?"
      ],
      "metadata": {
        "id": "9iZXXnAKvdaj"
      }
    },
    {
      "cell_type": "code",
      "execution_count": null,
      "metadata": {
        "colab": {
          "base_uri": "https://localhost:8080/"
        },
        "id": "S_d8Oz4JvPZc",
        "outputId": "7db21229-537e-4892-ea91-fd5e807bbaec"
      },
      "outputs": [
        {
          "output_type": "stream",
          "name": "stdout",
          "text": [
            "The LCM of 3,6 is 6\n",
            "The LCM of 5,2 is 10\n",
            "The LCM of 5,100 is 100\n"
          ]
        }
      ],
      "source": [
        "def findTheLcm(x_term,y_term):\n",
        "    if x_term > y_term:\n",
        "        greater = x_term\n",
        "    else:\n",
        "        greater = x_term\n",
        "    while True:\n",
        "        if((greater%x_term == 0) and (greater%y_term == 0)):\n",
        "            lcm = greater\n",
        "            break\n",
        "        else:\n",
        "            greater +=1\n",
        "    print(f'The LCM of {x_term},{y_term} is {lcm}')\n",
        "\n",
        "findTheLcm(3,6)\n",
        "findTheLcm(5,2)\n",
        "findTheLcm(5,100)"
      ]
    },
    {
      "cell_type": "markdown",
      "source": [
        "2. Write a Python Program to Find HCF?"
      ],
      "metadata": {
        "id": "ouNjTjQmvfX0"
      }
    },
    {
      "cell_type": "code",
      "source": [
        "def findTheHcf(x_term,y_term):\n",
        "    if x_term>y_term:\n",
        "        smaller = y_term\n",
        "    else:\n",
        "        smaller = x_term\n",
        "    for ele in range(1,smaller+1):\n",
        "        if((x_term%ele == 0) and (y_term%ele == 0)):\n",
        "            hcf = ele\n",
        "    print(f'The HCF of {x_term},{y_term} is {hcf}')\n",
        "\n",
        "findTheHcf(6,12)\n",
        "findTheHcf(2,3)\n",
        "findTheHcf(10,23)"
      ],
      "metadata": {
        "colab": {
          "base_uri": "https://localhost:8080/"
        },
        "id": "qbN5sMHOvhT3",
        "outputId": "20dc23da-d13e-4e48-91c5-1b61a1d107cd"
      },
      "execution_count": null,
      "outputs": [
        {
          "output_type": "stream",
          "name": "stdout",
          "text": [
            "The HCF of 6,12 is 6\n",
            "The HCF of 2,3 is 1\n",
            "The HCF of 10,23 is 1\n"
          ]
        }
      ]
    },
    {
      "cell_type": "markdown",
      "source": [
        "3. Write a Python Program to Convert Decimal to Binary, Octal and Hexadecimal?"
      ],
      "metadata": {
        "id": "nlzAqGX2viEh"
      }
    },
    {
      "cell_type": "code",
      "source": [
        "def DecimalToOther():\n",
        "    num = int(input('Enter a Number: '))\n",
        "    print(f'Binary Number -> {bin(num)}')\n",
        "    print(f'Octal Number -> {oct(num)}')\n",
        "    print(f'Hexadecimal Number -> {hex(num)}')\n",
        "\n",
        "DecimalToOther()"
      ],
      "metadata": {
        "colab": {
          "base_uri": "https://localhost:8080/"
        },
        "id": "c3mrnHRMvkRh",
        "outputId": "c7e25a75-8d94-47f6-8eb0-681114fb45e7"
      },
      "execution_count": null,
      "outputs": [
        {
          "output_type": "stream",
          "name": "stdout",
          "text": [
            "Enter a Number: 4\n",
            "Binary Number -> 0b100\n",
            "Octal Number -> 0o4\n",
            "Hexadecimal Number -> 0x4\n"
          ]
        }
      ]
    },
    {
      "cell_type": "markdown",
      "source": [
        "4. Write a Python Program To Find ASCII value of a character?"
      ],
      "metadata": {
        "id": "Bo5bMknFvk2Q"
      }
    },
    {
      "cell_type": "code",
      "source": [
        "def charToAscii():\n",
        "    char = input('Enter a Character: ')\n",
        "    if len(char) > 1:\n",
        "        print('Please Enter a Single Character')\n",
        "    else:\n",
        "        print(f'Ascii Character of {char} is {ord(char)}')\n",
        "\n",
        "charToAscii()\n"
      ],
      "metadata": {
        "colab": {
          "base_uri": "https://localhost:8080/"
        },
        "id": "V68ytfv0vm9r",
        "outputId": "75ef50be-9a48-4558-d150-c12b3a9855f0"
      },
      "execution_count": null,
      "outputs": [
        {
          "output_type": "stream",
          "name": "stdout",
          "text": [
            "Enter a Character: A\n",
            "Ascii Character of A is 65\n"
          ]
        }
      ]
    },
    {
      "cell_type": "markdown",
      "source": [
        "5. Write a Python Program to Make a Simple Calculator with 4 basic mathematical operations?"
      ],
      "metadata": {
        "id": "mZ3ypE-XvnlR"
      }
    },
    {
      "cell_type": "code",
      "source": [
        "import operator\n",
        "\n",
        "ops = { \"+\": operator.add, \"-\": operator.sub, \"*\":operator.mul, \"/\":operator.truediv }\n",
        "\n",
        "print('Select a Arithmetic Operation: \\\n",
        "        \\n1.Addition(+)\\\n",
        "        \\n2.Division(-)\\\n",
        "        \\n2.Multiplication(*)\\\n",
        "        \\n4.Division(/)\\\n",
        "        \\n3.Stop(0)\\n')\n",
        "\n",
        "\n",
        "while True:\n",
        "    operator = input('Enter a arithmetic operation -> ')\n",
        "    if operator == '0':\n",
        "        print(\"Program Stopped successfully\")\n",
        "        break\n",
        "    elif operator not in ['+','-','*','/']:\n",
        "        print(\"Please enter a valid operator\")\n",
        "    else:\n",
        "        num_1 = int(input('\\nEnter 1st Number: '))\n",
        "        num_2 = int(input('Enter 2nd Number: '))\n",
        "        print(f'{num_1}{operator}{num_2}={ops[operator](num_1,num_2)}\\n')"
      ],
      "metadata": {
        "colab": {
          "base_uri": "https://localhost:8080/"
        },
        "id": "VJiOj0Vhvpsm",
        "outputId": "54f5f07f-684c-4df5-9f21-2e935db59dbb"
      },
      "execution_count": null,
      "outputs": [
        {
          "output_type": "stream",
          "name": "stdout",
          "text": [
            "Select a Arithmetic Operation:         \n",
            "1.Addition(+)        \n",
            "2.Division(-)        \n",
            "2.Multiplication(*)        \n",
            "4.Division(/)        \n",
            "3.Stop(0)\n",
            "\n",
            "Enter a arithmetic operation -> +\n",
            "\n",
            "Enter 1st Number: 10\n",
            "Enter 2nd Number: 10\n",
            "10+10=20\n",
            "\n",
            "Enter a arithmetic operation -> *\n",
            "\n",
            "Enter 1st Number: 12\n",
            "Enter 2nd Number: 12\n",
            "12*12=144\n",
            "\n",
            "Enter a arithmetic operation -> 0\n",
            "Program Stopped successfully\n"
          ]
        }
      ]
    },
    {
      "cell_type": "code",
      "source": [],
      "metadata": {
        "id": "bzegcFuVwwBI"
      },
      "execution_count": null,
      "outputs": []
    }
  ]
}