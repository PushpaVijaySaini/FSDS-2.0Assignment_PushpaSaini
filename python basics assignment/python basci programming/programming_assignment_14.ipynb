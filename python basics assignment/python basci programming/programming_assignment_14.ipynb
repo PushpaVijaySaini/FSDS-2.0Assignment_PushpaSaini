{
  "nbformat": 4,
  "nbformat_minor": 0,
  "metadata": {
    "colab": {
      "provenance": []
    },
    "kernelspec": {
      "name": "python3",
      "display_name": "Python 3"
    },
    "language_info": {
      "name": "python"
    }
  },
  "cells": [
    {
      "cell_type": "markdown",
      "source": [
        "1.Define a class with a generator which can iterate the numbers, which are divisible by 7, between a given range 0 and n. ?"
      ],
      "metadata": {
        "id": "TSslJgX7LR4Q"
      }
    },
    {
      "cell_type": "code",
      "execution_count": 1,
      "metadata": {
        "colab": {
          "base_uri": "https://localhost:8080/"
        },
        "id": "SweqRxzhKvuW",
        "outputId": "600ccf23-f686-4c8a-a90c-a9a219d5a3e7"
      },
      "outputs": [
        {
          "output_type": "stream",
          "name": "stdout",
          "text": [
            "0 7 14 21 28 35 42 49 56 63 70 77 84 91 98 105 112 119 126 133 140 147 154 161 168 175 182 189 196 203 210 217 224 231 238 245 252 259 266 273 280 287 294 301 308 315 322 329 336 343 350 "
          ]
        }
      ],
      "source": [
        "class div_generator:\n",
        "    def __init__(self,in_num):\n",
        "        self.in_num = in_num\n",
        "    def get_numbers(self):\n",
        "        for ele in range(0,self.in_num+1):\n",
        "            if ele%7 == 0:\n",
        "                yield ele\n",
        "\n",
        "output = div_generator(350)\n",
        "for ele in output.get_numbers():\n",
        "    print(ele,end=' ')"
      ]
    },
    {
      "cell_type": "markdown",
      "source": [
        "2.Write a program to compute the frequency of the words from the input. The output should output after sorting the key alphanumerically.\n",
        "Suppose the following input is supplied to the program:\n",
        "New to Python or choosing between Python 2 and Python 3? Read Python 2 or Python 3.\n",
        "Then, the output should be:\n",
        "2:2 3.:1 3?:1 New:1 Python:5 Read:1 and:1 between:1 choosing:1 or:2 to:1"
      ],
      "metadata": {
        "id": "jtIU3Zp9LaqL"
      }
    },
    {
      "cell_type": "code",
      "source": [
        "def checkFrequency():\n",
        "    in_string = input(\"Enter the Input String: \")\n",
        "    frequency = {}\n",
        "    for ele in in_string.split(\" \"):\n",
        "        if(frequency.get(ele) == None):\n",
        "            frequency[ele] = 1\n",
        "        else:\n",
        "            frequency[ele] += 1\n",
        "    for ele in sorted(frequency):\n",
        "        print(f'{ele}:{frequency[ele]}',end=\" \")\n",
        "checkFrequency()\n",
        "\n"
      ],
      "metadata": {
        "colab": {
          "base_uri": "https://localhost:8080/"
        },
        "id": "GGW5sb9ZLXPZ",
        "outputId": "e82d5e4b-0165-4c6f-aef8-46dda3d1f3a8"
      },
      "execution_count": 2,
      "outputs": [
        {
          "output_type": "stream",
          "name": "stdout",
          "text": [
            "Enter the Input String: ineuron course\n",
            "course:1 ineuron:1 "
          ]
        }
      ]
    },
    {
      "cell_type": "markdown",
      "source": [
        "3.Define a class Person and its two child classes: Male and Female. All classes have a method \"getGender\" which can print \"Male\" for Male class and \"Female\" for Female class. ?"
      ],
      "metadata": {
        "id": "D49_fRavLl40"
      }
    },
    {
      "cell_type": "code",
      "source": [
        "class Person():\n",
        "    def getGender():\n",
        "        pass\n",
        "\n",
        "class Male(Person):\n",
        "    def getGender():\n",
        "        print(\"Male\")\n",
        "\n",
        "class Female(Person):\n",
        "    def getGender():\n",
        "        print(\"Female\")\n",
        "\n",
        "Male.getGender()\n",
        "Female.getGender()"
      ],
      "metadata": {
        "colab": {
          "base_uri": "https://localhost:8080/"
        },
        "id": "f9_FG6HsLiTe",
        "outputId": "02c19dd4-5ba7-487f-d8ab-7c8f97721b9a"
      },
      "execution_count": 3,
      "outputs": [
        {
          "output_type": "stream",
          "name": "stdout",
          "text": [
            "Male\n",
            "Female\n"
          ]
        }
      ]
    },
    {
      "cell_type": "markdown",
      "source": [
        "4.Please write a program to generate all sentences where subject is in [\"I\", \"You\"] and verb is in [\"Play\", \"Love\"] and the object is in [\"Hockey\",\"Football\"] ?"
      ],
      "metadata": {
        "id": "3hVZpOdkLruJ"
      }
    },
    {
      "cell_type": "code",
      "source": [
        "def generateSentences():\n",
        "    subject = ['I','You']\n",
        "    verb = ['Play','Love']\n",
        "    object = ['Hockey','Football']\n",
        "    for s in subject:\n",
        "        for v in verb:\n",
        "            for o in object:\n",
        "                print(f'{s} {v} {o}')\n",
        "\n",
        "generateSentences()"
      ],
      "metadata": {
        "colab": {
          "base_uri": "https://localhost:8080/"
        },
        "id": "dlttgn3ELrCo",
        "outputId": "d3adaab1-0596-4a6b-cb8b-bef259e975b7"
      },
      "execution_count": 4,
      "outputs": [
        {
          "output_type": "stream",
          "name": "stdout",
          "text": [
            "I Play Hockey\n",
            "I Play Football\n",
            "I Love Hockey\n",
            "I Love Football\n",
            "You Play Hockey\n",
            "You Play Football\n",
            "You Love Hockey\n",
            "You Love Football\n"
          ]
        }
      ]
    },
    {
      "cell_type": "markdown",
      "source": [
        "5.Please write a program to compress and decompress the string \"hello world!hello world!hello world!hello world!\" ?"
      ],
      "metadata": {
        "id": "5NOs3RzrLyDq"
      }
    },
    {
      "cell_type": "code",
      "source": [
        "def compress(in_string):\n",
        "    output = in_string[0]\n",
        "    count = 1\n",
        "    for ele in range(len(in_string)-1):\n",
        "        if in_string[ele] == in_string[ele+1]:\n",
        "            count +=1\n",
        "        else:\n",
        "            if count > 1:\n",
        "                output += str(count)\n",
        "            output += in_string[ele+1]\n",
        "            count = 1\n",
        "    if count > 1:\n",
        "        output += str(count)\n",
        "    print(output)\n",
        "\n",
        "\n",
        "def decompress(in_string):\n",
        "    output = ''\n",
        "    for ele in range(len(in_string)):\n",
        "        if in_string[ele].isdigit():\n",
        "            output += output[-1]*(int(in_string[ele])-1)\n",
        "        else:\n",
        "            output += in_string[ele]\n",
        "    print(output)\n",
        "\n",
        "\n",
        "compress(\"hello world!hello world!hello world!hello world!\")\n",
        "decompress(\"hel2o world!hel2o world!hel2o world!hel2o world!\")\n",
        "\n",
        "compress('ineuron full stack datascience')\n",
        "decompress('ineuron ful2 stack datascience')"
      ],
      "metadata": {
        "colab": {
          "base_uri": "https://localhost:8080/"
        },
        "id": "cBlv51TYLw14",
        "outputId": "7949a950-02e8-4c54-8672-577fff63ac3e"
      },
      "execution_count": 5,
      "outputs": [
        {
          "output_type": "stream",
          "name": "stdout",
          "text": [
            "hel2o world!hel2o world!hel2o world!hel2o world!\n",
            "hello world!hello world!hello world!hello world!\n",
            "ineuron ful2 stack datascience\n",
            "ineuron full stack datascience\n"
          ]
        }
      ]
    },
    {
      "cell_type": "markdown",
      "source": [
        "6.Please write a binary search function which searches an item in a sorted list. The function should return the index of element to be searched in the list ?"
      ],
      "metadata": {
        "id": "YB656BLZL9rU"
      }
    },
    {
      "cell_type": "code",
      "source": [
        "sorted_list = [1,2,3,4,5,6,7,8,9,10]\n",
        "def binary_search(in_list,in_num):\n",
        "    low = 0\n",
        "    high = len(in_list)-1\n",
        "    while low <= high:\n",
        "        mid = high+low//2\n",
        "        if in_list[mid] < in_num:\n",
        "            low = mid+1\n",
        "        elif in_list[mid] > in_num:\n",
        "            high = mid-1\n",
        "        else:\n",
        "            return mid\n",
        "    else:\n",
        "        return 'Input Element not in the list'\n",
        "\n",
        "print(binary_search(sorted_list,8))\n",
        "print(binary_search(sorted_list,100))"
      ],
      "metadata": {
        "colab": {
          "base_uri": "https://localhost:8080/"
        },
        "id": "9HP7BDXXL8PW",
        "outputId": "7876f89a-e186-4e58-d131-9791e75b09f6"
      },
      "execution_count": 6,
      "outputs": [
        {
          "output_type": "stream",
          "name": "stdout",
          "text": [
            "7\n",
            "Input Element not in the list\n"
          ]
        }
      ]
    },
    {
      "cell_type": "code",
      "source": [],
      "metadata": {
        "id": "6TZ3nG1_MDH_"
      },
      "execution_count": null,
      "outputs": []
    }
  ]
}