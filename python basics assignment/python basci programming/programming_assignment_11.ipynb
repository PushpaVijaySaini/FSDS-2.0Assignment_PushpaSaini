{
  "nbformat": 4,
  "nbformat_minor": 0,
  "metadata": {
    "colab": {
      "provenance": []
    },
    "kernelspec": {
      "name": "python3",
      "display_name": "Python 3"
    },
    "language_info": {
      "name": "python"
    }
  },
  "cells": [
    {
      "cell_type": "markdown",
      "source": [
        "1. Write a Python program to find words which are greater than given length k?"
      ],
      "metadata": {
        "id": "G8_osKf0kt1l"
      }
    },
    {
      "cell_type": "code",
      "execution_count": null,
      "metadata": {
        "colab": {
          "base_uri": "https://localhost:8080/"
        },
        "id": "T2A6SYpMkTOJ",
        "outputId": "191b33ac-7630-454a-db6d-6b850580a85d"
      },
      "outputs": [
        {
          "output_type": "stream",
          "name": "stdout",
          "text": [
            "Enter the string: MY name is pushpa saini\n",
            "Enter the length of the string: 2\n",
            "name,pushpa,saini\n"
          ]
        }
      ],
      "source": [
        "def checkLengthOfString():\n",
        "    in_string = input(\"Enter the string: \")\n",
        "    in_length = int(input('Enter the length of the string: '))\n",
        "    out_string = []\n",
        "    for string in in_string.split(\" \"):\n",
        "        if len(string) > in_length:\n",
        "            out_string.append(string)\n",
        "    print(','.join(out_string))\n",
        "\n",
        "checkLengthOfString()"
      ]
    },
    {
      "cell_type": "markdown",
      "source": [
        "2. Write a Python program for removing i-th character from a string?"
      ],
      "metadata": {
        "id": "7-ZJ3rnKkv8A"
      }
    },
    {
      "cell_type": "code",
      "source": [
        "def removeCharacter():\n",
        "    in_string = input(\"Enter the String: \")\n",
        "    in_char_num = int(input(\"Enter the ith Character: \"))\n",
        "    out_string = ''\n",
        "    for ele in range(len(in_string)):\n",
        "        if ele != in_char_num:\n",
        "            out_string = out_string + in_string[ele]\n",
        "    print(out_string)\n",
        "\n",
        "removeCharacter()"
      ],
      "metadata": {
        "colab": {
          "base_uri": "https://localhost:8080/"
        },
        "id": "QNlAN50gk2PP",
        "outputId": "4c09dd95-8986-4e92-8ece-9a2ebf5842d4"
      },
      "execution_count": null,
      "outputs": [
        {
          "output_type": "stream",
          "name": "stdout",
          "text": [
            "Enter the String: ineuron dats science\n",
            "Enter the ith Character: 4\n",
            "ineuon dats science\n"
          ]
        }
      ]
    },
    {
      "cell_type": "markdown",
      "source": [
        "3. Write a Python program to split and join a string?"
      ],
      "metadata": {
        "id": "k9w5r2auk4eK"
      }
    },
    {
      "cell_type": "code",
      "source": [
        "def splitJoinString():\n",
        "    in_string = input('Enter the string: ')\n",
        "    print(f\"Split String: {in_string.split(' ')}\")\n",
        "    print(f\"Join String: {' '.join(in_string.split(' '))}\")\n",
        "\n",
        "splitJoinString()"
      ],
      "metadata": {
        "colab": {
          "base_uri": "https://localhost:8080/"
        },
        "id": "z5u_8hQak5Kc",
        "outputId": "bbf78784-c02c-45d6-f6a4-b171991ac401"
      },
      "execution_count": null,
      "outputs": [
        {
          "output_type": "stream",
          "name": "stdout",
          "text": [
            "Enter the string: shimla is my home\n",
            "Split String: ['shimla', 'is', 'my', 'home']\n",
            "Join String: shimla is my home\n"
          ]
        }
      ]
    },
    {
      "cell_type": "markdown",
      "source": [
        "4. Write a Python to check if a given string is binary string or not?\n"
      ],
      "metadata": {
        "id": "RM5H_rCvk56z"
      }
    },
    {
      "cell_type": "code",
      "source": [
        "def checkBinary():\n",
        "    in_string = input('Enter the string: ')\n",
        "    stun = 0\n",
        "    for ele in in_string:\n",
        "        if ele in ['0','1']:\n",
        "            stun = 1\n",
        "            continue\n",
        "        else:\n",
        "            stun = 0\n",
        "            break\n",
        "    statement = 'is a binary string' if stun == 1 else 'is not a binart string'\n",
        "    print(f'{in_string} {statement}')\n",
        "\n",
        "checkBinary()\n",
        "checkBinary()"
      ],
      "metadata": {
        "colab": {
          "base_uri": "https://localhost:8080/"
        },
        "id": "2XaOZ-rIlAct",
        "outputId": "0b90a558-91e7-4cf7-ac39-4d9121acc3f6"
      },
      "execution_count": null,
      "outputs": [
        {
          "output_type": "stream",
          "name": "stdout",
          "text": [
            "Enter the string: 12345\n",
            "12345 is not a binart string\n",
            "Enter the string: 1010\n",
            "1010 is a binary string\n"
          ]
        }
      ]
    },
    {
      "cell_type": "markdown",
      "source": [
        "5. Write a Python program to find uncommon words from two Strings?"
      ],
      "metadata": {
        "id": "DEEqyGHDmeZJ"
      }
    },
    {
      "cell_type": "code",
      "source": [
        "def unCommonWords():\n",
        "    in_string_1 = set(input(\"Enter the String 1: \").split(' '))\n",
        "    in_string_2 = set(input(\"Enter the String 2: \").split(' '))\n",
        "    out_string = (in_string_1.union(in_string_2)).difference(in_string_1.intersection(in_string_2))\n",
        "    print(out_string)\n",
        "\n",
        "unCommonWords()"
      ],
      "metadata": {
        "colab": {
          "base_uri": "https://localhost:8080/"
        },
        "id": "i-GckyvzlEGR",
        "outputId": "3e807d1f-f2fe-4d62-da57-7b5a057d3e49"
      },
      "execution_count": null,
      "outputs": [
        {
          "output_type": "stream",
          "name": "stdout",
          "text": [
            "Enter the String 1: home is shimla\n",
            "Enter the String 2: home is delhi\n",
            "{'delhi', 'shimla'}\n"
          ]
        }
      ]
    },
    {
      "cell_type": "markdown",
      "source": [
        "6.Write a Python to find all duplicate characters in string?"
      ],
      "metadata": {
        "id": "nyEvfPelmjPk"
      }
    },
    {
      "cell_type": "code",
      "source": [
        "def duplicateChars():\n",
        "    in_string = input('Enter the string: ')\n",
        "    non_duplicate_list = []\n",
        "    duplicate_list = []\n",
        "    for ele in in_string:\n",
        "        if ele not in non_duplicate_list:\n",
        "            non_duplicate_list.append(ele)\n",
        "        else:\n",
        "            duplicate_list.append(ele)\n",
        "    print(f'Duplicate characters are: {list(set(duplicate_list))}')\n",
        "\n",
        "duplicateChars()"
      ],
      "metadata": {
        "colab": {
          "base_uri": "https://localhost:8080/"
        },
        "id": "59wzjrDxmpm-",
        "outputId": "d3816f64-7d7b-49a2-e4dc-7f57354c4f9a"
      },
      "execution_count": null,
      "outputs": [
        {
          "output_type": "stream",
          "name": "stdout",
          "text": [
            "Enter the string: my name is pushpa\n",
            "Duplicate characters are: ['p', 's', ' ', 'm', 'a']\n"
          ]
        }
      ]
    },
    {
      "cell_type": "markdown",
      "source": [
        "7. Write a Python Program to check if a string contains any special character?"
      ],
      "metadata": {
        "id": "jIhP3zSslE0A"
      }
    },
    {
      "cell_type": "code",
      "source": [
        "def checkSpecialChar():\n",
        "    spl_chars = '[@_!#$%^&*()<>?/\\|}{~:]'\n",
        "    in_num = input('Enter the string: ')\n",
        "    count = 0\n",
        "    char_list = []\n",
        "    for ele in in_num:\n",
        "        if ele in spl_chars:\n",
        "            char_list.append(ele)\n",
        "            count = count+1\n",
        "    print(f'There are {count} Speical Characters in {in_num} which are {char_list}')\n",
        "\n",
        "\n",
        "checkSpecialChar()\n",
        "checkSpecialChar()"
      ],
      "metadata": {
        "colab": {
          "base_uri": "https://localhost:8080/"
        },
        "id": "aPikXBlXlHTx",
        "outputId": "1b0d51f5-3653-43bb-c5e1-599965707c5e"
      },
      "execution_count": null,
      "outputs": [
        {
          "output_type": "stream",
          "name": "stdout",
          "text": [
            "Enter the string: pushpa is super\n",
            "There are 0 Speical Characters in pushpa is super which are []\n",
            "Enter the string: #pushpa!\n",
            "There are 2 Speical Characters in #pushpa! which are ['#', '!']\n"
          ]
        }
      ]
    },
    {
      "cell_type": "code",
      "source": [],
      "metadata": {
        "id": "P39EIhwzm0cz"
      },
      "execution_count": null,
      "outputs": []
    }
  ]
}