{
  "nbformat": 4,
  "nbformat_minor": 0,
  "metadata": {
    "colab": {
      "provenance": []
    },
    "kernelspec": {
      "name": "python3",
      "display_name": "Python 3"
    },
    "language_info": {
      "name": "python"
    }
  },
  "cells": [
    {
      "cell_type": "markdown",
      "source": [
        "1. Write a Python Program to Find the Factorial of a Number?"
      ],
      "metadata": {
        "id": "SeXM40p6twDz"
      }
    },
    {
      "cell_type": "code",
      "execution_count": null,
      "metadata": {
        "colab": {
          "base_uri": "https://localhost:8080/"
        },
        "id": "GAti9G8Otkhy",
        "outputId": "69f5142f-4e75-4e92-e248-dd8913e4f78e"
      },
      "outputs": [
        {
          "output_type": "stream",
          "name": "stdout",
          "text": [
            "Enter a number: 5\n",
            "The Factorial of 5 is 120\n"
          ]
        }
      ],
      "source": [
        "def factorial(num):\n",
        "    if (num < 1):\n",
        "        return 1\n",
        "    else:\n",
        "        return num*factorial(num-1)\n",
        "num = int(input('Enter a number: '))\n",
        "value = factorial(num)\n",
        "print(f'The Factorial of {num} is {value}')"
      ]
    },
    {
      "cell_type": "markdown",
      "source": [
        "2. Write a Python Program to Display the multiplication Table?"
      ],
      "metadata": {
        "id": "jNsXmQZWuJ5q"
      }
    },
    {
      "cell_type": "code",
      "source": [
        "def generateTable(base,entries):\n",
        "    for x in range(1,entries+1):\n",
        "        print(f'{base} X {x} = {base*x}')\n",
        "\n",
        "num = int(input('Enter a number: '))\n",
        "values = int(input('Enter no of entries: '))\n",
        "generateTable(num,values)"
      ],
      "metadata": {
        "colab": {
          "base_uri": "https://localhost:8080/"
        },
        "id": "7Xu4TvxNt3RX",
        "outputId": "102f2834-8a76-43f8-b3f4-fd147231f478"
      },
      "execution_count": null,
      "outputs": [
        {
          "output_type": "stream",
          "name": "stdout",
          "text": [
            "Enter a number: 34\n",
            "Enter no of entries: 10\n",
            "34 X 1 = 34\n",
            "34 X 2 = 68\n",
            "34 X 3 = 102\n",
            "34 X 4 = 136\n",
            "34 X 5 = 170\n",
            "34 X 6 = 204\n",
            "34 X 7 = 238\n",
            "34 X 8 = 272\n",
            "34 X 9 = 306\n",
            "34 X 10 = 340\n"
          ]
        }
      ]
    },
    {
      "cell_type": "markdown",
      "source": [
        "3. Write a Python Program to Print the Fibonacci sequence?"
      ],
      "metadata": {
        "id": "v_k-091DuYVp"
      }
    },
    {
      "cell_type": "code",
      "source": [
        "s_count = int(input('Enter the no of fibonacci sequences you want? '))\n",
        "initial_list = [0,1]\n",
        "if s_count < 0:\n",
        "    print('Fibonacci Numbers are not available for Negative Numbers')\n",
        "elif s_count <= 2 and s_count >= 0:\n",
        "    print(initial_list)\n",
        "else:\n",
        "    for ins in range(s_count):\n",
        "        if ins >= 2:\n",
        "            initial_list.append(initial_list[ins-1]+initial_list[ins-2])\n",
        "    print(f'The First {s_count} fibonacci series are: ',initial_list)"
      ],
      "metadata": {
        "colab": {
          "base_uri": "https://localhost:8080/"
        },
        "id": "y9z8VUEBuUpu",
        "outputId": "0c2e6c88-9b0a-44a0-f199-a10096ea4810"
      },
      "execution_count": null,
      "outputs": [
        {
          "output_type": "stream",
          "name": "stdout",
          "text": [
            "Enter the no of fibonacci sequences you want? 12\n",
            "The First 12 fibonacci series are:  [0, 1, 1, 2, 3, 5, 8, 13, 21, 34, 55, 89]\n"
          ]
        }
      ]
    },
    {
      "cell_type": "markdown",
      "source": [
        "4.Write a Python Program to check Armstrong number ?"
      ],
      "metadata": {
        "id": "c2yeCwpauh1f"
      }
    },
    {
      "cell_type": "code",
      "source": [
        "def checkArmstrongNumber():\n",
        "    in_num = input('Enter a number: ')\n",
        "    sum = 0\n",
        "    for char in range(len(in_num)):\n",
        "        sum = sum + pow(int(in_num[char]),3)\n",
        "    if sum == int(in_num):\n",
        "        print(f'{in_num} is a Armstrong Number')\n",
        "    else:\n",
        "        print(f'{in_num} is a Not Armstrong Number')\n",
        "\n",
        "for x in range(2):\n",
        "    checkArmstrongNumber()"
      ],
      "metadata": {
        "colab": {
          "base_uri": "https://localhost:8080/"
        },
        "id": "OGzF7SSjudsP",
        "outputId": "ed6e2d25-e65e-4cc9-e824-72b5c45082bb"
      },
      "execution_count": null,
      "outputs": [
        {
          "output_type": "stream",
          "name": "stdout",
          "text": [
            "Enter a number: 123\n",
            "123 is a Not Armstrong Number\n",
            "Enter a number: 234\n",
            "234 is a Not Armstrong Number\n"
          ]
        }
      ]
    },
    {
      "cell_type": "markdown",
      "source": [
        "5. Write a Python Program to Find Armstrong Number in an Interval?"
      ],
      "metadata": {
        "id": "JqrvjU8FusUp"
      }
    },
    {
      "cell_type": "code",
      "source": [
        "def checkArmstrongNumber(in_num, storage):\n",
        "    sum = 0\n",
        "    for char in range(len(in_num)):\n",
        "        sum = sum + pow(int(in_num[char]),3)\n",
        "    if sum == int(in_num):\n",
        "        storage.append(int(in_num))\n",
        "\n",
        "start_interval = int(input('Enter the Start of the Interval: '))\n",
        "end_interval = int(input('Enter the End of the Interval: '))\n",
        "list_of_armstrong = []\n",
        "\n",
        "if start_interval > end_interval:\n",
        "    print(\"Start Interval Cannot be Greater than End Interval\")\n",
        "else:\n",
        "    for number in range(start_interval,end_interval+1):\n",
        "        checkArmstrongNumber(str(number),list_of_armstrong)\n",
        "    print(f'The Armstrong numbers between {start_interval} and {end_interval} are {list_of_armstrong}')"
      ],
      "metadata": {
        "colab": {
          "base_uri": "https://localhost:8080/"
        },
        "id": "THFEDWDZuomm",
        "outputId": "0c156e64-2ba8-40c0-dd7a-5bddec4ac620"
      },
      "execution_count": null,
      "outputs": [
        {
          "output_type": "stream",
          "name": "stdout",
          "text": [
            "Enter the Start of the Interval: 1\n",
            "Enter the End of the Interval: 10\n",
            "The Armstrong numbers between 1 and 10 are [1]\n"
          ]
        }
      ]
    },
    {
      "cell_type": "markdown",
      "source": [
        "6. Write a Python Program to Find the Sum of Natural Numbers?"
      ],
      "metadata": {
        "id": "Y64OmZ9vu9qe"
      }
    },
    {
      "cell_type": "code",
      "source": [
        "def sumOfNaturalNumbers(num):\n",
        "    sum = num*((num+1)/2)\n",
        "    print(f'Sum of {num} natural numbers is {sum}')\n",
        "\n",
        "num = int(input('Enter a number: '))\n",
        "sumOfNaturalNumbers(num)"
      ],
      "metadata": {
        "colab": {
          "base_uri": "https://localhost:8080/"
        },
        "id": "OQTAvnSCu4z4",
        "outputId": "fd450211-5b1f-4fbb-f525-308995db3b7f"
      },
      "execution_count": null,
      "outputs": [
        {
          "output_type": "stream",
          "name": "stdout",
          "text": [
            "Enter a number: 21\n",
            "Sum of 21 natural numbers is 231.0\n"
          ]
        }
      ]
    },
    {
      "cell_type": "code",
      "source": [],
      "metadata": {
        "id": "k_KQRyzovCcN"
      },
      "execution_count": null,
      "outputs": []
    }
  ]
}