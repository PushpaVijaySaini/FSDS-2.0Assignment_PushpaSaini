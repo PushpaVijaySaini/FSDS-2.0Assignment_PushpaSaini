{
  "nbformat": 4,
  "nbformat_minor": 0,
  "metadata": {
    "colab": {
      "provenance": []
    },
    "kernelspec": {
      "name": "python3",
      "display_name": "Python 3"
    },
    "language_info": {
      "name": "python"
    }
  },
  "cells": [
    {
      "cell_type": "markdown",
      "source": [
        "1. Write a Python program to find sum of elements in list?"
      ],
      "metadata": {
        "id": "KjMBtKWrhnst"
      }
    },
    {
      "cell_type": "code",
      "execution_count": null,
      "metadata": {
        "colab": {
          "base_uri": "https://localhost:8080/"
        },
        "id": "9GKgcWcjhHJ6",
        "outputId": "ba01d615-d9df-422a-db2d-78c717d8ae06"
      },
      "outputs": [
        {
          "output_type": "stream",
          "name": "stdout",
          "text": [
            "Enter the No of Entries in a List: 4\n",
            "Enter a element: 2\n",
            "Enter a element: 4\n",
            "Enter a element: 5\n",
            "Enter a element: 1\n",
            "Sum of Elements: 12\n"
          ]
        }
      ],
      "source": [
        "def sumofList():\n",
        "    in_ele = int(input('Enter the No of Entries in a List: '))\n",
        "    in_list = []\n",
        "    for itr in range(in_ele):\n",
        "        in_list.append(int(input('Enter a element: ')))\n",
        "    print(f'Sum of Elements: {sum(in_list)}')\n",
        "\n",
        "sumofList()"
      ]
    },
    {
      "cell_type": "markdown",
      "source": [
        "2. Write a Python program to Multiply all numbers in the list?"
      ],
      "metadata": {
        "id": "g_Krg3NPhzc-"
      }
    },
    {
      "cell_type": "code",
      "source": [
        "def mulofList():\n",
        "    in_ele = int(input('Enter the No of Entries in a List: '))\n",
        "    in_list = []\n",
        "    mul = 1\n",
        "    for itr in range(in_ele):\n",
        "        in_list.append(int(input('Enter a element: ')))\n",
        "    for ele in in_list:\n",
        "        mul = mul * ele\n",
        "    print(mul)\n",
        "\n",
        "mulofList()"
      ],
      "metadata": {
        "colab": {
          "base_uri": "https://localhost:8080/"
        },
        "id": "IoAAKNLLh1fS",
        "outputId": "a3584b1c-d816-4bfe-81ec-0c3c9f7a1d8e"
      },
      "execution_count": null,
      "outputs": [
        {
          "output_type": "stream",
          "name": "stdout",
          "text": [
            "Enter the No of Entries in a List: 3\n",
            "Enter a element: 2\n",
            "Enter a element: 3\n",
            "Enter a element: 6\n",
            "36\n"
          ]
        }
      ]
    },
    {
      "cell_type": "markdown",
      "source": [
        "3. Write a Python program to find smallest number in a list?"
      ],
      "metadata": {
        "id": "-0gBkCJWh2K4"
      }
    },
    {
      "cell_type": "code",
      "source": [
        "def smallEleInList():\n",
        "    in_ele = int(input('Enter the No of elements in a list: '))\n",
        "    in_list = []\n",
        "    for ele in range(in_ele):\n",
        "        in_list.append(int(input('Enter a Element: ')))\n",
        "    print(f'The Smallest Element in {in_list} is {sorted(in_list)[0]}')\n",
        "smallEleInList()"
      ],
      "metadata": {
        "colab": {
          "base_uri": "https://localhost:8080/"
        },
        "id": "1KW0JCi9h4st",
        "outputId": "d79f9c98-b7e7-4e92-a7af-d55a867c61b3"
      },
      "execution_count": null,
      "outputs": [
        {
          "output_type": "stream",
          "name": "stdout",
          "text": [
            "Enter the No of elements in a list: 4\n",
            "Enter a Element: 7\n",
            "Enter a Element: 4\n",
            "Enter a Element: 9\n",
            "Enter a Element: 1\n",
            "The Smallest Element in [7, 4, 9, 1] is 1\n"
          ]
        }
      ]
    },
    {
      "cell_type": "markdown",
      "source": [
        "4. Write a Python program to find largest number in a list?"
      ],
      "metadata": {
        "id": "rVT7xV7kh5J-"
      }
    },
    {
      "cell_type": "code",
      "source": [
        "def largestEleInList():\n",
        "    in_ele = int(input('Enter the No of elements in a list: '))\n",
        "    in_list = []\n",
        "    for ele in range(in_ele):\n",
        "        in_list.append(int(input('Enter a Element: ')))\n",
        "    print(f'The Largest Element in {in_list} is {sorted(in_list, reverse=True)[0]}')\n",
        "\n",
        "largestEleInList()"
      ],
      "metadata": {
        "colab": {
          "base_uri": "https://localhost:8080/"
        },
        "id": "zxTbjXfKh7cE",
        "outputId": "759fc82e-3fd8-4801-8003-9af3b4306dd3"
      },
      "execution_count": null,
      "outputs": [
        {
          "output_type": "stream",
          "name": "stdout",
          "text": [
            "Enter the No of elements in a list: 3\n",
            "Enter a Element: 89\n",
            "Enter a Element: 100\n",
            "Enter a Element: 23\n",
            "The Largest Element in [89, 100, 23] is 100\n"
          ]
        }
      ]
    },
    {
      "cell_type": "markdown",
      "source": [
        "5. Write a Python program to find second largest number in a list?"
      ],
      "metadata": {
        "id": "m9RzYbq7iCZA"
      }
    },
    {
      "cell_type": "code",
      "source": [
        "def secondLargestEleInList():\n",
        "    in_ele = int(input('Enter the No of elements in a list: '))\n",
        "    in_list = []\n",
        "    for ele in range(in_ele):\n",
        "        in_list.append(int(input('Enter a Element: ')))\n",
        "    print(f'The Second Largest Element in {in_list} is {sorted(in_list, reverse=True)[1]}')\n",
        "\n",
        "secondLargestEleInList()"
      ],
      "metadata": {
        "colab": {
          "base_uri": "https://localhost:8080/"
        },
        "id": "wxkjl2-iiFES",
        "outputId": "3cb206ab-00ef-4b7d-fe3e-59b7560e809a"
      },
      "execution_count": null,
      "outputs": [
        {
          "output_type": "stream",
          "name": "stdout",
          "text": [
            "Enter the No of elements in a list: 5\n",
            "Enter a Element: 1\n",
            "Enter a Element: 3\n",
            "Enter a Element: 2\n",
            "Enter a Element: 6\n",
            "Enter a Element: 8\n",
            "The Second Largest Element in [1, 3, 2, 6, 8] is 6\n"
          ]
        }
      ]
    },
    {
      "cell_type": "markdown",
      "source": [
        "6. Write a Python program to find N largest elements from a list?"
      ],
      "metadata": {
        "id": "Nxbhq1gUiFoF"
      }
    },
    {
      "cell_type": "code",
      "source": [
        "def nLargestEleInList(k):\n",
        "    in_ele = int(input('Enter the No of elements in a list: '))\n",
        "    in_list = []\n",
        "    for ele in range(in_ele):\n",
        "        in_list.append(int(input('Enter a Element: ')))\n",
        "    print(f'The {k} Largest Element in {in_list} is {sorted(in_list, reverse=True)[0:k]}')\n",
        "\n",
        "nLargestEleInList(4)"
      ],
      "metadata": {
        "colab": {
          "base_uri": "https://localhost:8080/"
        },
        "id": "6gNKyDEYiH-q",
        "outputId": "99f752b3-6ffc-41b6-8887-fe28b13fe687"
      },
      "execution_count": null,
      "outputs": [
        {
          "output_type": "stream",
          "name": "stdout",
          "text": [
            "Enter the No of elements in a list: 10\n",
            "Enter a Element: 23\n",
            "Enter a Element: 45\n",
            "Enter a Element: 23\n",
            "Enter a Element: 12\n",
            "Enter a Element: 67\n",
            "Enter a Element: 56\n",
            "Enter a Element: 87\n",
            "Enter a Element: 89\n",
            "Enter a Element: 09\n",
            "Enter a Element: 55\n",
            "The 4 Largest Element in [23, 45, 23, 12, 67, 56, 87, 89, 9, 55] is [89, 87, 67, 56]\n"
          ]
        }
      ]
    },
    {
      "cell_type": "markdown",
      "source": [
        "7. Write a Python program to print even numbers in a list?"
      ],
      "metadata": {
        "id": "1VdgCv3JiIph"
      }
    },
    {
      "cell_type": "code",
      "source": [
        "def evenNoInList():\n",
        "    in_ele = int(input('Enter the No of elements in a list: '))\n",
        "    in_list = []\n",
        "    even_list = []\n",
        "    for ele in range(in_ele):\n",
        "        in_list.append(int(input('Enter a Element: ')))\n",
        "    for ele in in_list:\n",
        "        if ele%2 == 0:\n",
        "            even_list.append(ele)\n",
        "    print(f'The Even Elements in {in_list} are {even_list}')\n",
        "\n",
        "evenNoInList()"
      ],
      "metadata": {
        "colab": {
          "base_uri": "https://localhost:8080/"
        },
        "id": "HCSOsjZtiKvz",
        "outputId": "3f87311a-a28e-45b0-f86d-75479eefdddf"
      },
      "execution_count": null,
      "outputs": [
        {
          "output_type": "stream",
          "name": "stdout",
          "text": [
            "Enter the No of elements in a list: 4\n",
            "Enter a Element: 34\n",
            "Enter a Element: 33\n",
            "Enter a Element: 31\n",
            "Enter a Element: 13\n",
            "The Even Elements in [34, 33, 31, 13] are [34]\n"
          ]
        }
      ]
    },
    {
      "cell_type": "markdown",
      "source": [
        "8. Write a Python program to print odd numbers in a List?"
      ],
      "metadata": {
        "id": "AoqBazc7iLT9"
      }
    },
    {
      "cell_type": "code",
      "source": [
        "def oddNoInList():\n",
        "    in_ele = int(input('Enter the No of elements in a list: '))\n",
        "    in_list = []\n",
        "    odd_list = []\n",
        "    for ele in range(in_ele):\n",
        "        in_list.append(int(input('Enter a Element: ')))\n",
        "    for ele in in_list:\n",
        "        if ele%2 != 0:\n",
        "            odd_list.append(ele)\n",
        "    print(f'The Even Elements in {in_list} are {odd_list}')\n",
        "\n",
        "oddNoInList()\n"
      ],
      "metadata": {
        "colab": {
          "base_uri": "https://localhost:8080/"
        },
        "id": "76TEmTaViN99",
        "outputId": "f9f1cc99-ba6b-41ab-ebfc-2ce531fa1807"
      },
      "execution_count": null,
      "outputs": [
        {
          "output_type": "stream",
          "name": "stdout",
          "text": [
            "Enter the No of elements in a list: 2\n",
            "Enter a Element: 24\n",
            "Enter a Element: 26\n",
            "The Even Elements in [24, 26] are []\n"
          ]
        }
      ]
    },
    {
      "cell_type": "markdown",
      "source": [
        "9. Write a Python program to Remove empty List from List?"
      ],
      "metadata": {
        "id": "k3Gag4wSiQII"
      }
    },
    {
      "cell_type": "code",
      "source": [
        "def checkEmptyList():\n",
        "    in_list = eval(input('Enter all elements of the list: '))\n",
        "    if [] in in_list:\n",
        "        print(f'There is an Empty list in {in_list} at Position {in_list.index([])}')\n",
        "        in_list.remove([])\n",
        "        print(f'The List after removing [] is {in_list}')\n",
        "    else:\n",
        "        print(f'There is no [] List in the list {in_list}')\n",
        "\n",
        "checkEmptyList()"
      ],
      "metadata": {
        "colab": {
          "base_uri": "https://localhost:8080/"
        },
        "id": "_p9CXsAjjt1w",
        "outputId": "1de1ee84-ca3f-461c-f6a8-0bfbe058d645"
      },
      "execution_count": null,
      "outputs": [
        {
          "output_type": "stream",
          "name": "stdout",
          "text": [
            "Enter all elements of the list: 2,3,4,5,6\n",
            "There is no [] List in the list (2, 3, 4, 5, 6)\n"
          ]
        }
      ]
    },
    {
      "cell_type": "markdown",
      "source": [
        "10. Write a Python program to Cloning or Copying a list?"
      ],
      "metadata": {
        "id": "JiF5pPKbiRPR"
      }
    },
    {
      "cell_type": "code",
      "source": [
        "import copy\n",
        "\n",
        "def cloneList():\n",
        "    in_list = eval(input('Enter a list'))\n",
        "    print(in_list, id(in_list))\n",
        "    cloned_list = in_list.copy()\n",
        "    print(cloned_list, id(cloned_list))\n",
        "\n",
        "cloneList()"
      ],
      "metadata": {
        "colab": {
          "base_uri": "https://localhost:8080/"
        },
        "id": "cSGBL3E8iTWw",
        "outputId": "296b4073-64bb-4859-baae-e3c65aa5a514"
      },
      "execution_count": null,
      "outputs": [
        {
          "output_type": "stream",
          "name": "stdout",
          "text": [
            "Enter a list[2,3,4,5,6]\n",
            "[2, 3, 4, 5, 6] 132158895001856\n",
            "[2, 3, 4, 5, 6] 132159098524544\n"
          ]
        }
      ]
    },
    {
      "cell_type": "markdown",
      "source": [
        "11. Write a Python program to Count occurrences of an element in a list?"
      ],
      "metadata": {
        "id": "_9pycXFdiULO"
      }
    },
    {
      "cell_type": "code",
      "source": [
        "def checkOccurence():\n",
        "    in_list = eval(input('Enter the elements of the list: '))\n",
        "    in_num = eval(input('Enter the element to find: '))\n",
        "    count = 0\n",
        "    if in_num in in_list:\n",
        "        for ele in in_list:\n",
        "            if ele == in_num:\n",
        "                count = count+1\n",
        "    print(f'There are {count} occurences of {in_num} in {in_list}')\n",
        "\n",
        "checkOccurence()"
      ],
      "metadata": {
        "colab": {
          "base_uri": "https://localhost:8080/"
        },
        "id": "hWaQ_D5CiXAV",
        "outputId": "f6e98260-280c-49a4-ad96-e04e562117c4"
      },
      "execution_count": null,
      "outputs": [
        {
          "output_type": "stream",
          "name": "stdout",
          "text": [
            "Enter the elements of the list: [3,4,5]\n",
            "Enter the element to find: 4\n",
            "There are 1 occurences of 4 in [3, 4, 5]\n"
          ]
        }
      ]
    },
    {
      "cell_type": "code",
      "source": [],
      "metadata": {
        "id": "5AfnzcBSkIX6"
      },
      "execution_count": null,
      "outputs": []
    }
  ]
}