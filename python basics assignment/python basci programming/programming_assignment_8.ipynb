{
  "nbformat": 4,
  "nbformat_minor": 0,
  "metadata": {
    "colab": {
      "provenance": []
    },
    "kernelspec": {
      "name": "python3",
      "display_name": "Python 3"
    },
    "language_info": {
      "name": "python"
    }
  },
  "cells": [
    {
      "cell_type": "markdown",
      "source": [
        "1. Write a Python Program to Add Two Matrices?"
      ],
      "metadata": {
        "id": "trKXSh-ZZwMF"
      }
    },
    {
      "cell_type": "code",
      "execution_count": null,
      "metadata": {
        "colab": {
          "base_uri": "https://localhost:8080/"
        },
        "id": "64hBVw24Zk3x",
        "outputId": "dc8e9286-bda5-4b80-a36e-9487cdf73d4f"
      },
      "outputs": [
        {
          "output_type": "stream",
          "name": "stdout",
          "text": [
            "Inputs: [[1, 2, 3], [4, 5, 6], [7, 8, 9]],[[9, 8, 7], [6, 5, 4], [3, 2, 1]]\n",
            "Output: [[10, 10, 10], [10, 10, 10], [10, 10, 10]]\n"
          ]
        }
      ],
      "source": [
        "def addMatrices(a,b):\n",
        "    print(f'Inputs: {a},{b}')\n",
        "    if len(a) == len(b):\n",
        "        out_matrix = []\n",
        "        for ele in range(len(a)):\n",
        "            if len(a[ele]) == len(b[ele]):\n",
        "                out_matrix.append([])\n",
        "                for sub_ele in range(len(a[ele])):\n",
        "                    out_matrix[ele].append(a[ele][sub_ele]+b[ele][sub_ele])\n",
        "            else:\n",
        "                print('Both Matrices must contains same no of rows and columns')\n",
        "    else:\n",
        "        print('Both Matrices must contains same no of rows and columns')\n",
        "    print(f'Output: {out_matrix}')\n",
        "\n",
        "addMatrices([[1,2,3],[4,5,6],[7,8,9]],[[9,8,7],[6,5,4],[3,2,1]])"
      ]
    },
    {
      "cell_type": "markdown",
      "source": [
        "2. Write a Python Program to Multiply Two Matrices?"
      ],
      "metadata": {
        "id": "DYoU524bZ0UB"
      }
    },
    {
      "cell_type": "code",
      "source": [
        "a = [[1,2,3],[4,5,6],[7,8,9]]\n",
        "b = [[1,4,7],[2,5,8],[3,6,9]]\n",
        "\n",
        "def multiply_matrice(a,b):\n",
        "    output = []\n",
        "    if len(a[0]) == len(b):\n",
        "        for ele in range(len(a[0])):\n",
        "            output.append([0 for ele in range(len(b[0]))])\n",
        "        for i in range(len(a)):\n",
        "            for j in range(len(b[0])):\n",
        "                for k in range(len(b)):\n",
        "                    output[i][j] += a[i][k]*b[k][j]\n",
        "        print(output)\n",
        "    else:\n",
        "        print('Matrix Multiplication is Not Possible')\n",
        "\n",
        "multiply_matrice(a,b)"
      ],
      "metadata": {
        "colab": {
          "base_uri": "https://localhost:8080/"
        },
        "id": "Xke2YxDcZ2W6",
        "outputId": "db92e6ea-c2a7-4002-cbd0-2354decadb9e"
      },
      "execution_count": null,
      "outputs": [
        {
          "output_type": "stream",
          "name": "stdout",
          "text": [
            "[[14, 32, 50], [32, 77, 122], [50, 122, 194]]\n"
          ]
        }
      ]
    },
    {
      "cell_type": "markdown",
      "source": [
        "3. Write a Python Program to Transpose a Matrix?"
      ],
      "metadata": {
        "id": "FRbam-kTZ28t"
      }
    },
    {
      "cell_type": "code",
      "source": [
        "a = [[1,2,3],[4,5,6],[7,8,9]]\n",
        "b = [[1,2],[4,5],[7,8]]\n",
        "c = [[1,2,3],[4,5,6]]\n",
        "\n",
        "def generate_transpose(in_matrix):\n",
        "    out_matrix = []\n",
        "    for ele in range(len(in_matrix[0])):\n",
        "        out_matrix.append([0 for i in range(len(in_matrix))])\n",
        "    for i in range(len(in_matrix)):\n",
        "        for j in range(len(in_matrix[i])):\n",
        "            out_matrix[j][i] = in_matrix[i][j]\n",
        "    print(f'{in_matrix} -> {out_matrix}')\n",
        "\n",
        "generate_transpose(a)\n",
        "generate_transpose(b)\n",
        "generate_transpose(c)"
      ],
      "metadata": {
        "colab": {
          "base_uri": "https://localhost:8080/"
        },
        "id": "ESgEnyiFZ5Ws",
        "outputId": "98d48002-9e55-43b5-a626-16521c2f7ed9"
      },
      "execution_count": null,
      "outputs": [
        {
          "output_type": "stream",
          "name": "stdout",
          "text": [
            "[[1, 2, 3], [4, 5, 6], [7, 8, 9]] -> [[1, 4, 7], [2, 5, 8], [3, 6, 9]]\n",
            "[[1, 2], [4, 5], [7, 8]] -> [[1, 4, 7], [2, 5, 8]]\n",
            "[[1, 2, 3], [4, 5, 6]] -> [[1, 4], [2, 5], [3, 6]]\n"
          ]
        }
      ]
    },
    {
      "cell_type": "markdown",
      "source": [
        "4. Write a Python Program to Sort Words in Alphabetic Order?"
      ],
      "metadata": {
        "id": "jwlg38INZ52p"
      }
    },
    {
      "cell_type": "code",
      "source": [
        "def sortString():\n",
        "    in_string = input(\"Enter a String: \").title()\n",
        "    sorted_list = sorted(in_string.split(' '))\n",
        "    print(' '.join(sorted_list))\n",
        "\n",
        "sortString()"
      ],
      "metadata": {
        "colab": {
          "base_uri": "https://localhost:8080/"
        },
        "id": "LjyF8cSOZ78z",
        "outputId": "e373e4e9-0dea-4bc5-8cec-b533ff88af4e"
      },
      "execution_count": null,
      "outputs": [
        {
          "output_type": "stream",
          "name": "stdout",
          "text": [
            "Enter a String: My name is Pushpa\n",
            "Is My Name Pushpa\n"
          ]
        }
      ]
    },
    {
      "cell_type": "markdown",
      "source": [
        "5. Write a Python Program to Remove Punctuation From a String?"
      ],
      "metadata": {
        "id": "ndGQOE43Z8fR"
      }
    },
    {
      "cell_type": "code",
      "source": [
        "def removePunctuatuions():\n",
        "    punctuations = '''!()-[]{};:'\"\\,<>./?@#$%^&*_~'''\n",
        "    in_string = input('Enter a String: ')\n",
        "    out_string = ''\n",
        "    for ele in in_string:\n",
        "        if ele not in punctuations:\n",
        "            out_string += ele\n",
        "    print(out_string)\n",
        "\n",
        "removePunctuatuions()"
      ],
      "metadata": {
        "colab": {
          "base_uri": "https://localhost:8080/"
        },
        "id": "GSKC5VReZ--P",
        "outputId": "c20230ca-dc78-437e-cee9-eac127031915"
      },
      "execution_count": null,
      "outputs": [
        {
          "output_type": "stream",
          "name": "stdout",
          "text": [
            "Enter a String: What is your name?\n",
            "What is your name\n"
          ]
        }
      ]
    },
    {
      "cell_type": "code",
      "source": [],
      "metadata": {
        "id": "6Ra3OyyfasmW"
      },
      "execution_count": null,
      "outputs": []
    }
  ]
}