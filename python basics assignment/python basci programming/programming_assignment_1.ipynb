{
  "nbformat": 4,
  "nbformat_minor": 0,
  "metadata": {
    "colab": {
      "provenance": []
    },
    "kernelspec": {
      "name": "python3",
      "display_name": "Python 3"
    },
    "language_info": {
      "name": "python"
    }
  },
  "cells": [
    {
      "cell_type": "markdown",
      "source": [
        "1. Write a Python program to print &quot;Hello Python&quot;?"
      ],
      "metadata": {
        "id": "QaLwWLehoUC4"
      }
    },
    {
      "cell_type": "code",
      "execution_count": null,
      "metadata": {
        "colab": {
          "base_uri": "https://localhost:8080/"
        },
        "id": "XiQs8GjCnp9l",
        "outputId": "4933712a-7169-4003-b3b5-499ea5f3e95b"
      },
      "outputs": [
        {
          "output_type": "stream",
          "name": "stdout",
          "text": [
            "Hello Python\n"
          ]
        }
      ],
      "source": [
        "print('Hello Python')"
      ]
    },
    {
      "cell_type": "markdown",
      "source": [
        "2.Write a Python program to do arithmetic operations addition and division ?"
      ],
      "metadata": {
        "id": "-tyWpsSvooCs"
      }
    },
    {
      "cell_type": "code",
      "source": [
        "import operator\n",
        "\n",
        "ops = { \"+\": operator.add, \"-\": operator.sub, \"*\":operator.mul, \"/\":operator.truediv }\n",
        "\n",
        "print('Select a Arithmetic Operation: \\\n",
        "        \\n1.Addition(+)\\\n",
        "        \\n2.Division(-)\\\n",
        "        \\n2.Multiplication(*)\\\n",
        "        \\n4.Division(/)\\\n",
        "        \\n3.Stop(0)\\n')\n",
        "\n",
        "\n",
        "while True:\n",
        "    operator = input('Enter a arithmetic operation -> ')\n",
        "    if operator == '0':\n",
        "        print(\"Program Stopped successfully\")\n",
        "        break\n",
        "    elif operator not in ['+','-','*','/']:\n",
        "        print(\"Please enter a valid operator\")\n",
        "    else:\n",
        "        num_1 = int(input('\\nEnter 1st Number: '))\n",
        "        num_2 = int(input('Enter 2nd Number: '))\n",
        "        print('{}{}{}={}\\n'.format(num_1, operator, num_2, ops[operator](num_1,num_2)))"
      ],
      "metadata": {
        "colab": {
          "base_uri": "https://localhost:8080/"
        },
        "id": "H6-ok0geoXXL",
        "outputId": "5b228dd8-b067-40e0-cb57-3f349546a924"
      },
      "execution_count": null,
      "outputs": [
        {
          "output_type": "stream",
          "name": "stdout",
          "text": [
            "Select a Arithmetic Operation:         \n",
            "1.Addition(+)        \n",
            "2.Division(-)        \n",
            "2.Multiplication(*)        \n",
            "4.Division(/)        \n",
            "3.Stop(0)\n",
            "\n",
            "Enter a arithmetic operation -> +\n",
            "\n",
            "Enter 1st Number: 12\n",
            "Enter 2nd Number: 23\n",
            "12+23=35\n",
            "\n",
            "Enter a arithmetic operation -> *\n",
            "\n",
            "Enter 1st Number: 23\n",
            "Enter 2nd Number: 11\n",
            "23*11=253\n",
            "\n",
            "Enter a arithmetic operation -> /\n",
            "\n",
            "Enter 1st Number: 12\n",
            "Enter 2nd Number: 2\n",
            "12/2=6.0\n",
            "\n",
            "Enter a arithmetic operation -> 0\n",
            "Program Stopped successfully\n"
          ]
        }
      ]
    },
    {
      "cell_type": "markdown",
      "source": [
        "3. Write a Python program to find the area of a triangle?"
      ],
      "metadata": {
        "id": "M6zwcPCMqHZW"
      }
    },
    {
      "cell_type": "code",
      "source": [
        "height = int(input('Enter height of triangle: '))\n",
        "base = int(input('Enter base of triangle: '))\n",
        "\n",
        "def areaOfTriangle(height, base):\n",
        "    print('\\nArea of triangle ->', 0.5*height*base)\n",
        "\n",
        "areaOfTriangle(height,base)"
      ],
      "metadata": {
        "colab": {
          "base_uri": "https://localhost:8080/"
        },
        "id": "cjUW8kltp7BS",
        "outputId": "42b23c60-5221-45fb-a3db-b66d998b8f8a"
      },
      "execution_count": null,
      "outputs": [
        {
          "output_type": "stream",
          "name": "stdout",
          "text": [
            "Enter height of triangle: 10\n",
            "Enter base of triangle: 5\n",
            "\n",
            "Area of triangle -> 25.0\n"
          ]
        }
      ]
    },
    {
      "cell_type": "markdown",
      "source": [
        "4. Write a Python program to swap two variables?"
      ],
      "metadata": {
        "id": "sfknrt_cqS2y"
      }
    },
    {
      "cell_type": "code",
      "source": [
        "num_1 = int(input(\"Enter First Number: \"))\n",
        "num_2 = int(input(\"Enter Second Number: \"))\n",
        "\n",
        "def swapNumbers(a,b):\n",
        "    temp = a\n",
        "    a = b\n",
        "    b = temp\n",
        "    return a,b\n",
        "\n",
        "print('Before swapping -> ',num_1, num_2)\n",
        "num_1, num_2 = swapNumbers(num_1, num_2)\n",
        "print('After swapping -> ',num_1,num_2)"
      ],
      "metadata": {
        "colab": {
          "base_uri": "https://localhost:8080/"
        },
        "id": "705-rGnfqNZ4",
        "outputId": "e5b2bb88-90fd-4d94-f3bb-949092ac01a5"
      },
      "execution_count": null,
      "outputs": [
        {
          "output_type": "stream",
          "name": "stdout",
          "text": [
            "Enter First Number: 23\n",
            "Enter Second Number: 43\n",
            "Before swapping ->  23 43\n",
            "After swapping ->  43 23\n"
          ]
        }
      ]
    },
    {
      "cell_type": "markdown",
      "source": [
        "5. Write a Python program to generate a random number?"
      ],
      "metadata": {
        "id": "Pubsvlgwqba7"
      }
    },
    {
      "cell_type": "code",
      "source": [
        "from random import randint # The randint() method returns an integer number selected element from the specified range.\n",
        "\n",
        "def generateRandomNumber(start=0, end=100000):\n",
        "    print('Random number -> ',randint(start,end))\n",
        "\n",
        "# Generating random numbers without arguments\n",
        "generateRandomNumber()\n",
        "\n",
        "# Generating random numbers with arguments\n",
        "generateRandomNumber(0,100)"
      ],
      "metadata": {
        "colab": {
          "base_uri": "https://localhost:8080/"
        },
        "id": "wjT5iaLJqYxN",
        "outputId": "c754efa3-ea32-46c1-cd19-34a1bc122fdc"
      },
      "execution_count": null,
      "outputs": [
        {
          "output_type": "stream",
          "name": "stdout",
          "text": [
            "Random number ->  21129\n",
            "Random number ->  68\n"
          ]
        }
      ]
    },
    {
      "cell_type": "code",
      "source": [],
      "metadata": {
        "id": "m0QLfEOsqkC_"
      },
      "execution_count": null,
      "outputs": []
    }
  ]
}