{
  "nbformat": 4,
  "nbformat_minor": 0,
  "metadata": {
    "colab": {
      "provenance": []
    },
    "kernelspec": {
      "name": "python3",
      "display_name": "Python 3"
    },
    "language_info": {
      "name": "python"
    }
  },
  "cells": [
    {
      "cell_type": "markdown",
      "source": [
        "1.Create a function that takes a list of strings and integers, and filters out the list so that it returns a list of integers only.\n",
        "Examples:\n",
        "filter_list([1, 2, 3, \"a\", \"b\", 4]) ➞ [1, 2, 3, 4]\n",
        "filter_list([\"A\", 0, \"Edabit\", 1729, \"Python\", \"1729\"]) ➞ [0, 1729]\n",
        "filter_list([\"Nothing\", \"here\"]) ➞ []"
      ],
      "metadata": {
        "id": "KmL5nKmCSsHv"
      }
    },
    {
      "cell_type": "code",
      "execution_count": 1,
      "metadata": {
        "colab": {
          "base_uri": "https://localhost:8080/"
        },
        "id": "xtlOepuISeqL",
        "outputId": "67b31104-f7a9-4087-d78a-599fac768246"
      },
      "outputs": [
        {
          "output_type": "stream",
          "name": "stdout",
          "text": [
            "Output ➞ [1, 2, 3, 4]\n",
            "Output ➞ [0, 1729]\n",
            "Output ➞ []\n"
          ]
        }
      ],
      "source": [
        "def filter_list(in_list):\n",
        "    out_list = []\n",
        "    for ele in in_list:\n",
        "        if type(ele) == int:\n",
        "            out_list.append(ele)\n",
        "    print(f'Output ➞ {out_list}')\n",
        "\n",
        "filter_list([1, 2, 3, \"a\", \"b\", 4])\n",
        "filter_list([\"A\", 0, \"Edabit\", 1729, \"Python\", \"1729\"])\n",
        "filter_list([\"Nothing\", \"here\"])"
      ]
    },
    {
      "cell_type": "markdown",
      "source": [
        "2.Given a list of numbers, create a function which returns the list but with each element's index in the list added to itself. This means you add 0 to the number at index 0, add 1 to the number at index 1, etc...\n",
        "Examples:\n",
        "add_indexes([0, 0, 0, 0, 0]) ➞ [0, 1, 2, 3, 4]\n",
        "add_indexes([1, 2, 3, 4, 5]) ➞ [1, 3, 5, 7, 9]\n",
        "add_indexes([5, 4, 3, 2, 1]) ➞ [5, 5, 5, 5, 5]"
      ],
      "metadata": {
        "id": "st1amROlSxzo"
      }
    },
    {
      "cell_type": "code",
      "source": [
        "def add_indexes(in_list):\n",
        "    out_list = []\n",
        "    for ele in range(len(in_list)):\n",
        "        out_list.append(ele+in_list[ele])\n",
        "    print(f'{in_list} ➞ {out_list}')\n",
        "\n",
        "add_indexes([0, 0, 0, 0, 0])\n",
        "add_indexes([1, 2, 3, 4, 5])\n",
        "add_indexes([5, 4, 3, 2, 1])"
      ],
      "metadata": {
        "colab": {
          "base_uri": "https://localhost:8080/"
        },
        "id": "IqToxRtmSw9a",
        "outputId": "831cc56f-e7cc-49dd-ca14-bd16ebe8a0e7"
      },
      "execution_count": 2,
      "outputs": [
        {
          "output_type": "stream",
          "name": "stdout",
          "text": [
            "[0, 0, 0, 0, 0] ➞ [0, 1, 2, 3, 4]\n",
            "[1, 2, 3, 4, 5] ➞ [1, 3, 5, 7, 9]\n",
            "[5, 4, 3, 2, 1] ➞ [5, 5, 5, 5, 5]\n"
          ]
        }
      ]
    },
    {
      "cell_type": "markdown",
      "source": [
        "3.Create a function that takes the height and radius of a cone as arguments and returns the volume of the cone rounded to the nearest hundredth. See the resources tab for the formula.\n",
        "Examples:\n",
        "cone_volume(3, 2) ➞ 12.57\n",
        "cone_volume(15, 6) ➞ 565.49\n",
        "cone_volume(18, 0) ➞ 0"
      ],
      "metadata": {
        "id": "d-Vw4YbVS6Td"
      }
    },
    {
      "cell_type": "code",
      "source": [
        "import math\n",
        "\n",
        "def cube_volume(height, radius):\n",
        "    output = ((math.pi)*pow(radius,2))*(height/3)\n",
        "    print(f'Output ➞ {output:.2f}')\n",
        "\n",
        "cube_volume(3,2)\n",
        "cube_volume(15,6)\n",
        "cube_volume(18,0)"
      ],
      "metadata": {
        "colab": {
          "base_uri": "https://localhost:8080/"
        },
        "id": "zz4YQtKMS3da",
        "outputId": "81a07601-db12-4df6-b0c8-12ca5c1e04fb"
      },
      "execution_count": 3,
      "outputs": [
        {
          "output_type": "stream",
          "name": "stdout",
          "text": [
            "Output ➞ 12.57\n",
            "Output ➞ 565.49\n",
            "Output ➞ 0.00\n"
          ]
        }
      ]
    },
    {
      "cell_type": "markdown",
      "source": [
        "4.This Triangular Number Sequence is generated from a pattern of dots that form a triangle.\n",
        "The first 5 numbers of the sequence, or dots, are: 1, 3, 6, 10, 15\n",
        "This means that the first triangle has just one dot, the second one has three dots, the third one has 6 dots and so on. Write a function that gives the number of dots with its corresponding triangle number of the sequence.\n",
        "\n",
        "Examples:\n",
        "triangle(1) ➞ 1\n",
        "triangle(6) ➞ 21\n",
        "triangle(215) ➞ 23220"
      ],
      "metadata": {
        "id": "LrXGZsmTTAeI"
      }
    },
    {
      "cell_type": "code",
      "source": [
        "def triangle(in_num):\n",
        "    print(f'Output ➞ {int((in_num)*((in_num+1)/2))}')\n",
        "\n",
        "triangle(1)\n",
        "triangle(6)\n",
        "triangle(215)"
      ],
      "metadata": {
        "colab": {
          "base_uri": "https://localhost:8080/"
        },
        "id": "x-aPZ0oBS9il",
        "outputId": "0ed8dfd5-332f-4cc4-ac36-709188887e5d"
      },
      "execution_count": 4,
      "outputs": [
        {
          "output_type": "stream",
          "name": "stdout",
          "text": [
            "Output ➞ 1\n",
            "Output ➞ 21\n",
            "Output ➞ 23220\n"
          ]
        }
      ]
    },
    {
      "cell_type": "markdown",
      "source": [
        "5.Create a function that takes a list of numbers between 1 and 10 (excluding one number) and returns the missing number.\n",
        "Examples:\n",
        "missing_num([1, 2, 3, 4, 6, 7, 8, 9, 10]) ➞ 5\n",
        "missing_num([7, 2, 3, 6, 5, 9, 1, 4, 8]) ➞ 10\n",
        "missing_num([10, 5, 1, 2, 4, 6, 8, 3, 9]) ➞ 7"
      ],
      "metadata": {
        "id": "4ea41CzlTFAE"
      }
    },
    {
      "cell_type": "code",
      "source": [
        "def missing_num(in_list):\n",
        "    for i in range(1,11):\n",
        "        if i not in in_list:\n",
        "            print(f'{in_list} ➞ {i}')\n",
        "\n",
        "missing_num([1, 2, 3, 4, 6, 7, 8, 9, 10])\n",
        "missing_num([7, 2, 3, 6, 5, 9, 1, 4, 8])\n",
        "missing_num([10, 5, 1, 2, 4, 6, 8, 3, 9])"
      ],
      "metadata": {
        "colab": {
          "base_uri": "https://localhost:8080/"
        },
        "id": "epRq2lJWTD-J",
        "outputId": "85c6f5bb-9fde-4775-a01f-1b54c2ba600c"
      },
      "execution_count": 5,
      "outputs": [
        {
          "output_type": "stream",
          "name": "stdout",
          "text": [
            "[1, 2, 3, 4, 6, 7, 8, 9, 10] ➞ 5\n",
            "[7, 2, 3, 6, 5, 9, 1, 4, 8] ➞ 10\n",
            "[10, 5, 1, 2, 4, 6, 8, 3, 9] ➞ 7\n"
          ]
        }
      ]
    },
    {
      "cell_type": "code",
      "source": [],
      "metadata": {
        "id": "ZsoUmDQVTM5g"
      },
      "execution_count": null,
      "outputs": []
    }
  ]
}