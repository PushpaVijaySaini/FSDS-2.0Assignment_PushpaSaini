{
  "nbformat": 4,
  "nbformat_minor": 0,
  "metadata": {
    "colab": {
      "provenance": []
    },
    "kernelspec": {
      "name": "python3",
      "display_name": "Python 3"
    },
    "language_info": {
      "name": "python"
    }
  },
  "cells": [
    {
      "cell_type": "markdown",
      "source": [
        "1.What are the two values of the Boolean data type? How do you write them?"
      ],
      "metadata": {
        "id": "ULXb2WoiJFJm"
      }
    },
    {
      "cell_type": "markdown",
      "source": [
        "Ans:\n",
        "There are 2 values of Boolean Data Type:\n",
        "\n",
        "1. True 2. False\n",
        "\n",
        "Syntax: True, False"
      ],
      "metadata": {
        "id": "xuy6IwaYJHUh"
      }
    },
    {
      "cell_type": "markdown",
      "source": [
        "2. What are the three different types of Boolean operators?"
      ],
      "metadata": {
        "id": "s8Nl7B1wJx3C"
      }
    },
    {
      "cell_type": "markdown",
      "source": [
        "ANS: There different types of Boolean operators are:\n",
        "\n",
        "1. AND\n",
        "2. OR\n",
        "3. NOT"
      ],
      "metadata": {
        "id": "WgetdhNFJzJ3"
      }
    },
    {
      "cell_type": "markdown",
      "source": [
        "3. Make a list of each Boolean operator&#39;s truth tables (i.e. every possible combination of Boolean\n",
        "values for the operator and what it evaluate )."
      ],
      "metadata": {
        "id": "emJXsgQhJ92S"
      }
    },
    {
      "cell_type": "markdown",
      "source": [],
      "metadata": {
        "id": "Vq2VML0SKE1Z"
      }
    },
    {
      "cell_type": "code",
      "source": [
        "table_AND = [1 and 1, 1 and 0, 0 and 1, 0 and 0]\n",
        "table_AND"
      ],
      "metadata": {
        "colab": {
          "base_uri": "https://localhost:8080/"
        },
        "id": "wYMjMk91KKee",
        "outputId": "d23edaae-f77a-48da-e340-cc5c058d3e03"
      },
      "execution_count": 1,
      "outputs": [
        {
          "output_type": "execute_result",
          "data": {
            "text/plain": [
              "[1, 0, 0, 0]"
            ]
          },
          "metadata": {},
          "execution_count": 1
        }
      ]
    },
    {
      "cell_type": "code",
      "source": [
        "table_OR = [1 or 1, 1 or 0, 0 or 1, 0 or 0]\n",
        "table_OR"
      ],
      "metadata": {
        "colab": {
          "base_uri": "https://localhost:8080/"
        },
        "id": "ljZB4ZPaKQ0l",
        "outputId": "053d7640-afad-4e54-ca23-c65012853292"
      },
      "execution_count": 2,
      "outputs": [
        {
          "output_type": "execute_result",
          "data": {
            "text/plain": [
              "[1, 1, 1, 0]"
            ]
          },
          "metadata": {},
          "execution_count": 2
        }
      ]
    },
    {
      "cell_type": "code",
      "source": [
        "table_NOT = [not 1, not 0]\n",
        "table_NOT"
      ],
      "metadata": {
        "colab": {
          "base_uri": "https://localhost:8080/"
        },
        "id": "_lHE23MdKYGN",
        "outputId": "861ee5a4-87d0-4f82-8122-213f7f04650d"
      },
      "execution_count": 3,
      "outputs": [
        {
          "output_type": "execute_result",
          "data": {
            "text/plain": [
              "[False, True]"
            ]
          },
          "metadata": {},
          "execution_count": 3
        }
      ]
    },
    {
      "cell_type": "markdown",
      "source": [
        "4. What are the values of the following expressions?\n",
        "(5 > 4) and (3 == 5)\n",
        "not (5 > 4)\n",
        "(5 > 4) or (3 == 5)\n",
        "not ((5 > 4) or (3 == 5))\n",
        "(True and True) and (True == False)\n",
        "(not False) or (not True)"
      ],
      "metadata": {
        "id": "aU18Ztc1KgaM"
      }
    },
    {
      "cell_type": "markdown",
      "source": [
        "1. (5 > 4) and (3 == 5)                   = False\n",
        "2. not (5 > 4)                            = False\n",
        "3. (5 > 4) or (3 == 5)                    = True\n",
        "4. not ((5 > 4) or (3 == 5))              = False\n",
        "5. (True and True) and (True == False)    = False\n",
        "6. (not False) or (not True)              = True"
      ],
      "metadata": {
        "id": "tybWeWhHK3Co"
      }
    },
    {
      "cell_type": "code",
      "source": [
        "print((5 > 4) and (3 == 5),\n",
        "      not (5 > 4),\n",
        "      (5 > 4) or (3 == 5),\n",
        "      not ((5 > 4) or (3 == 5)),\n",
        "      (True and True) and (True == False),\n",
        "      (not False) or (not True)\n",
        "     )"
      ],
      "metadata": {
        "colab": {
          "base_uri": "https://localhost:8080/"
        },
        "id": "b7eCXedIK41g",
        "outputId": "c060da33-cecb-48b5-c8e5-0848a99f6027"
      },
      "execution_count": 4,
      "outputs": [
        {
          "output_type": "stream",
          "name": "stdout",
          "text": [
            "False False True False False True\n"
          ]
        }
      ]
    },
    {
      "cell_type": "markdown",
      "source": [
        "5. What are the six comparison operators?"
      ],
      "metadata": {
        "id": "ENanBhBrK9RQ"
      }
    },
    {
      "cell_type": "markdown",
      "source": [
        "==(equal to),!=(not equal to),>(greater than),>=(greater than or equal to),\n",
        "<(less than),<=(less than or equal to)\n",
        ""
      ],
      "metadata": {
        "id": "xmyEvnGDLnqk"
      }
    },
    {
      "cell_type": "markdown",
      "source": [
        "6. How do you tell the difference between the equal to and assignment operators?Describe a\n",
        "condition and when you would use one."
      ],
      "metadata": {
        "id": "qe7fXoIuMYhs"
      }
    },
    {
      "cell_type": "markdown",
      "source": [
        "' = ' : single equals to sign is used for the assignment operation.\n",
        "' == ' : double equals to sign is used for the equal to condition check."
      ],
      "metadata": {
        "id": "jjoOnAWVMbzY"
      }
    },
    {
      "cell_type": "code",
      "source": [
        "a=30 #assignmentoperator\n",
        "a"
      ],
      "metadata": {
        "colab": {
          "base_uri": "https://localhost:8080/"
        },
        "id": "MgyIebu7MqMl",
        "outputId": "4503366c-fd09-4b30-a3c8-f24f2cc703fb"
      },
      "execution_count": 5,
      "outputs": [
        {
          "output_type": "execute_result",
          "data": {
            "text/plain": [
              "30"
            ]
          },
          "metadata": {},
          "execution_count": 5
        }
      ]
    },
    {
      "cell_type": "code",
      "source": [
        "20==30 #equal to condition check operator"
      ],
      "metadata": {
        "colab": {
          "base_uri": "https://localhost:8080/"
        },
        "id": "FUYdKEvpMhvt",
        "outputId": "e57e1652-c106-4742-ef83-3edd188efa8c"
      },
      "execution_count": 7,
      "outputs": [
        {
          "output_type": "execute_result",
          "data": {
            "text/plain": [
              "False"
            ]
          },
          "metadata": {},
          "execution_count": 7
        }
      ]
    },
    {
      "cell_type": "markdown",
      "source": [
        "7. Identify the three blocks in this code:\n",
        "spam = 0\n",
        "if spam == 10:\n",
        "print('eggs')\n",
        "if spam > 5:\n",
        "print('bacon')\n",
        "else:\n",
        "print('ham')\n",
        "print('spam')\n",
        "print('spam')"
      ],
      "metadata": {
        "id": "UZ6mevCXM8zN"
      }
    },
    {
      "cell_type": "code",
      "source": [
        "\n",
        "spam = 0\n",
        "if spam == 10: #block 1\n",
        "  print('eggs')\n",
        "if spam > 5: #block 2\n",
        "  print('bacon')\n",
        "else:         #block 3\n",
        "  print('ham')\n",
        "\n",
        "print('spam')\n",
        "print('spam')"
      ],
      "metadata": {
        "colab": {
          "base_uri": "https://localhost:8080/"
        },
        "id": "oBmVkBZbNDQ3",
        "outputId": "eaa3b277-6a02-47b2-cc9d-6532000882d4"
      },
      "execution_count": 10,
      "outputs": [
        {
          "output_type": "stream",
          "name": "stdout",
          "text": [
            "ham\n",
            "spam\n",
            "spam\n"
          ]
        }
      ]
    },
    {
      "cell_type": "markdown",
      "source": [
        "8. Write code that prints Hello if 1 is stored in spam, prints Howdy if 2 is stored in spam, and prints\n",
        "Greetings! if anything else is stored in spam."
      ],
      "metadata": {
        "id": "fIqMTgTgNnv3"
      }
    },
    {
      "cell_type": "code",
      "source": [
        "spam = int(input(\"spam = \"))\n",
        "\n",
        "if spam == 1:\n",
        "    print('Hello')\n",
        "elif spam == 2:\n",
        "    print('Howdy')\n",
        "else:\n",
        "    print('Greetings!')"
      ],
      "metadata": {
        "colab": {
          "base_uri": "https://localhost:8080/"
        },
        "id": "IuZYNt91Nxv2",
        "outputId": "680d17a3-c1c6-4e85-acea-6b73ffa5b81d"
      },
      "execution_count": 14,
      "outputs": [
        {
          "output_type": "stream",
          "name": "stdout",
          "text": [
            "spam = 1\n",
            "Hello\n"
          ]
        }
      ]
    },
    {
      "cell_type": "code",
      "source": [
        "spam = int(input(\"spam = \"))\n",
        "\n",
        "if spam == 1:\n",
        "    print('Hello')\n",
        "elif spam == 2:\n",
        "    print('Howdy')\n",
        "else:\n",
        "    print('Greetings!')"
      ],
      "metadata": {
        "colab": {
          "base_uri": "https://localhost:8080/"
        },
        "id": "Nibr21TNOXXw",
        "outputId": "e88e6539-b02a-4487-b1d9-d29a2eda0514"
      },
      "execution_count": 16,
      "outputs": [
        {
          "output_type": "stream",
          "name": "stdout",
          "text": [
            "spam = 100\n",
            "Greetings!\n"
          ]
        }
      ]
    },
    {
      "cell_type": "markdown",
      "source": [
        "9.If your programme is stuck in an endless loop, what keys you’ll press?"
      ],
      "metadata": {
        "id": "PD3vpwIkOeNC"
      }
    },
    {
      "cell_type": "markdown",
      "source": [
        "An infinite loop is a loop that runs indefinitely and it only stops with external intervention or when a break statement is found. You can stop an infinite loop with CTRL + C"
      ],
      "metadata": {
        "id": "6xU08ZBuOikG"
      }
    },
    {
      "cell_type": "markdown",
      "source": [
        "10. How can you tell the difference between break and continue?"
      ],
      "metadata": {
        "id": "UeA_86AsOtZB"
      }
    },
    {
      "cell_type": "markdown",
      "source": [
        "Break statement stops the entire process of the loop. Continue statement only stops the current iteration of the loop. Break also terminates the remaining iterations"
      ],
      "metadata": {
        "id": "1QOSr89EO1-b"
      }
    },
    {
      "cell_type": "markdown",
      "source": [
        "11. In a for loop, what is the difference between range(10), range(0, 10), and range(0, 10, 1)?"
      ],
      "metadata": {
        "id": "PN19csPiO-9K"
      }
    },
    {
      "cell_type": "markdown",
      "source": [
        " range([start], [stop], [step]).\n",
        "\n",
        "\n",
        "start is optional. When not provided, it defaults to 0. It is the starting number of the sequence.\n",
        "\n",
        "stop is mandatory. range will generate numbers up to but not including the value of stop.\n",
        "\n",
        "step is optional. When not provided, it defaults to 1. It is the difference between two elements in the sequence.\n",
        "\n",
        "so, there is not difference between range(10), range(0, 10), and range(0, 10, 1)"
      ],
      "metadata": {
        "id": "U_khoJqIQA_F"
      }
    },
    {
      "cell_type": "code",
      "source": [
        "for i in range(10):\n",
        "    print(i, end = ' ')"
      ],
      "metadata": {
        "colab": {
          "base_uri": "https://localhost:8080/"
        },
        "id": "VU5iosH5QZtp",
        "outputId": "474ee6a4-7a03-44f2-d342-bafccd0032ec"
      },
      "execution_count": 17,
      "outputs": [
        {
          "output_type": "stream",
          "name": "stdout",
          "text": [
            "0 1 2 3 4 5 6 7 8 9 "
          ]
        }
      ]
    },
    {
      "cell_type": "code",
      "source": [
        "for i in range(0, 10):\n",
        "    print(i, end = ' ')"
      ],
      "metadata": {
        "colab": {
          "base_uri": "https://localhost:8080/"
        },
        "id": "4ogYECCfQdSp",
        "outputId": "a35c0614-8e9c-4f3c-9d10-c1158db9d32a"
      },
      "execution_count": 18,
      "outputs": [
        {
          "output_type": "stream",
          "name": "stdout",
          "text": [
            "0 1 2 3 4 5 6 7 8 9 "
          ]
        }
      ]
    },
    {
      "cell_type": "code",
      "source": [
        "for i in range(0, 10, 1):\n",
        "    print(i, end = ' ')"
      ],
      "metadata": {
        "colab": {
          "base_uri": "https://localhost:8080/"
        },
        "id": "zQZqy1TKQglv",
        "outputId": "a574d026-7741-4540-e296-745d59e8ed7c"
      },
      "execution_count": 19,
      "outputs": [
        {
          "output_type": "stream",
          "name": "stdout",
          "text": [
            "0 1 2 3 4 5 6 7 8 9 "
          ]
        }
      ]
    },
    {
      "cell_type": "markdown",
      "source": [
        "12. Write a short program that prints the numbers 1 to 10 using a for loop. Then write an equivalent\n",
        "program that prints the numbers 1 to 10 using a while loop."
      ],
      "metadata": {
        "id": "Gch48uPfQj60"
      }
    },
    {
      "cell_type": "code",
      "source": [
        "## Using for loop\n",
        "\n",
        "for i in range(1, 11):\n",
        "    print(i)"
      ],
      "metadata": {
        "colab": {
          "base_uri": "https://localhost:8080/"
        },
        "id": "t7LXnbfWQnFH",
        "outputId": "bcfae0f5-fbac-4e02-fc3d-1f3593987b6f"
      },
      "execution_count": 20,
      "outputs": [
        {
          "output_type": "stream",
          "name": "stdout",
          "text": [
            "1\n",
            "2\n",
            "3\n",
            "4\n",
            "5\n",
            "6\n",
            "7\n",
            "8\n",
            "9\n",
            "10\n"
          ]
        }
      ]
    },
    {
      "cell_type": "code",
      "source": [
        "## Using while loop\n",
        "\n",
        "i = 1\n",
        "while i < 11:\n",
        "    print(i, end = ' ')\n",
        "    i += 1"
      ],
      "metadata": {
        "colab": {
          "base_uri": "https://localhost:8080/"
        },
        "id": "6Dxp6aM3Qx7R",
        "outputId": "2c1f4baa-c2bc-438a-bc6d-feee3e53979c"
      },
      "execution_count": 21,
      "outputs": [
        {
          "output_type": "stream",
          "name": "stdout",
          "text": [
            "1 2 3 4 5 6 7 8 9 10 "
          ]
        }
      ]
    },
    {
      "cell_type": "markdown",
      "source": [
        "13. If you had a function named bacon() inside a module named spam, how would you call it after\n",
        "importing spam?"
      ],
      "metadata": {
        "id": "7UzWjewUQ46M"
      }
    },
    {
      "cell_type": "markdown",
      "source": [
        "import spam\n",
        "\n",
        "spam.bacon()"
      ],
      "metadata": {
        "id": "ZHTh88zARCc3"
      }
    },
    {
      "cell_type": "markdown",
      "source": [],
      "metadata": {
        "id": "v79tSWcJLA-L"
      }
    },
    {
      "cell_type": "markdown",
      "source": [],
      "metadata": {
        "id": "gJjyc962Kr9B"
      }
    },
    {
      "cell_type": "markdown",
      "source": [],
      "metadata": {
        "id": "OEH_s7GUIxpG"
      }
    },
    {
      "cell_type": "markdown",
      "source": [],
      "metadata": {
        "id": "DgIhT2yEJuoH"
      }
    }
  ]
}