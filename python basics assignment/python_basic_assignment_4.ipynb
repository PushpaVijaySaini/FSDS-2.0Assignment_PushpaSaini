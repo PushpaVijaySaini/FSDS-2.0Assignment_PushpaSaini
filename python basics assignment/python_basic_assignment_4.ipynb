{
  "nbformat": 4,
  "nbformat_minor": 0,
  "metadata": {
    "colab": {
      "provenance": []
    },
    "kernelspec": {
      "name": "python3",
      "display_name": "Python 3"
    },
    "language_info": {
      "name": "python"
    }
  },
  "cells": [
    {
      "cell_type": "markdown",
      "source": [
        "1. What exactly is []?\n",
        "\n",
        "\n",
        "[] is the empty list."
      ],
      "metadata": {
        "id": "6_D1rI_LVkla"
      }
    },
    {
      "cell_type": "markdown",
      "source": [
        "2. In a list of values stored in a variable called spam, how would you assign the value 'hello' as the third value? (Assume [2, 4, 6, 8, 10] are in spam.)"
      ],
      "metadata": {
        "id": "74kIsKQTWCHB"
      }
    },
    {
      "cell_type": "code",
      "execution_count": 1,
      "metadata": {
        "colab": {
          "base_uri": "https://localhost:8080/"
        },
        "id": "8hus32-5VdeH",
        "outputId": "02de5a36-58a6-4216-bb7d-c0f2ba54a7cc"
      },
      "outputs": [
        {
          "output_type": "stream",
          "name": "stdout",
          "text": [
            "[2, 4, 6, 8, 10]\n",
            "[2, 4, 'hello', 8, 10]\n"
          ]
        }
      ],
      "source": [
        "spam = [2, 4, 6, 8, 10]\n",
        "print(spam)\n",
        "spam[2] = 'hello'\n",
        "print(spam)"
      ]
    },
    {
      "cell_type": "markdown",
      "source": [
        "Let's pretend the spam includes the list ['a', 'b', 'c', 'd'] for the next three queries."
      ],
      "metadata": {
        "id": "Fh068GGCWbLH"
      }
    },
    {
      "cell_type": "code",
      "source": [
        "spam = ['a', 'b', 'c', 'd']"
      ],
      "metadata": {
        "id": "Hms0MZGhWclk"
      },
      "execution_count": 2,
      "outputs": []
    },
    {
      "cell_type": "markdown",
      "source": [
        "3. What is the value of spam[int(int('3' * 2) / 11)]?"
      ],
      "metadata": {
        "id": "kDyB0QsiWgWh"
      }
    },
    {
      "cell_type": "markdown",
      "source": [
        "3'*2 will give '33'\n",
        "\n",
        "int('33') will be 33\n",
        "\n",
        "33/11 will be 3.0\n",
        "\n",
        "int(3.0) will give 3\n",
        "\n",
        "spam[3] will be value at index 3 that is 'd'"
      ],
      "metadata": {
        "id": "gf-o_XLAWyfA"
      }
    },
    {
      "cell_type": "code",
      "source": [
        "spam[int(int('3'*2)/11)]"
      ],
      "metadata": {
        "colab": {
          "base_uri": "https://localhost:8080/",
          "height": 35
        },
        "id": "7hE_gAp9W62A",
        "outputId": "86dabb6b-d4d6-4f5b-97ee-167914fa3e4c"
      },
      "execution_count": 3,
      "outputs": [
        {
          "output_type": "execute_result",
          "data": {
            "text/plain": [
              "'d'"
            ],
            "application/vnd.google.colaboratory.intrinsic+json": {
              "type": "string"
            }
          },
          "metadata": {},
          "execution_count": 3
        }
      ]
    },
    {
      "cell_type": "markdown",
      "source": [
        "4. What is the value of spam[-1]?\n",
        "\n",
        "spam[-1] = last value of list that is 'd'"
      ],
      "metadata": {
        "id": "c5NUcaBpW8fv"
      }
    },
    {
      "cell_type": "code",
      "source": [
        "spam[-1]"
      ],
      "metadata": {
        "colab": {
          "base_uri": "https://localhost:8080/",
          "height": 35
        },
        "id": "Xwl06i-SXBaY",
        "outputId": "cac39ee1-0593-42ea-918e-3f4a063608f1"
      },
      "execution_count": 4,
      "outputs": [
        {
          "output_type": "execute_result",
          "data": {
            "text/plain": [
              "'d'"
            ],
            "application/vnd.google.colaboratory.intrinsic+json": {
              "type": "string"
            }
          },
          "metadata": {},
          "execution_count": 4
        }
      ]
    },
    {
      "cell_type": "markdown",
      "source": [
        "5. What is the value of spam[:2]?\n",
        "\n",
        "spam[:2] = 'a' and 'b'"
      ],
      "metadata": {
        "id": "yWU2fR9tXFBL"
      }
    },
    {
      "cell_type": "code",
      "source": [
        "spam[:2]"
      ],
      "metadata": {
        "colab": {
          "base_uri": "https://localhost:8080/"
        },
        "id": "ObbwJUGWXI03",
        "outputId": "64cda55e-1aed-402c-d093-0163abb57b71"
      },
      "execution_count": 5,
      "outputs": [
        {
          "output_type": "execute_result",
          "data": {
            "text/plain": [
              "['a', 'b']"
            ]
          },
          "metadata": {},
          "execution_count": 5
        }
      ]
    },
    {
      "cell_type": "markdown",
      "source": [
        "Let's pretend bacon has the list [3.14, 'cat,' 11, 'cat,' True] for the next three questions"
      ],
      "metadata": {
        "id": "Pp33iab9XTo3"
      }
    },
    {
      "cell_type": "code",
      "source": [
        "bacon = [3.14, 'cat', 11, 'cat', True]"
      ],
      "metadata": {
        "id": "3OUHpL_qXWiM"
      },
      "execution_count": 6,
      "outputs": []
    },
    {
      "cell_type": "markdown",
      "source": [
        "6. What is the value of bacon.index('cat')?\n",
        "\n",
        "It will output the index of first occurence of 'cat' value\n",
        "\n",
        "ans: 1"
      ],
      "metadata": {
        "id": "TmWS1sybXY_Q"
      }
    },
    {
      "cell_type": "code",
      "source": [
        "bacon.index('cat')"
      ],
      "metadata": {
        "colab": {
          "base_uri": "https://localhost:8080/"
        },
        "id": "rO7M1XEeXgtl",
        "outputId": "72462817-1e87-4162-d7d9-fce3efe1d51f"
      },
      "execution_count": 7,
      "outputs": [
        {
          "output_type": "execute_result",
          "data": {
            "text/plain": [
              "1"
            ]
          },
          "metadata": {},
          "execution_count": 7
        }
      ]
    },
    {
      "cell_type": "markdown",
      "source": [
        "7. How does bacon.append(99) change the look of the list value in bacon?\n",
        "\n",
        "It will append 99 at the end of list bacon\n",
        "\n",
        "[3.14, 'cat', 11, 'cat', True, 99]"
      ],
      "metadata": {
        "id": "UjjY-casXkfE"
      }
    },
    {
      "cell_type": "code",
      "source": [
        "bacon.append(99)\n",
        "print(bacon)"
      ],
      "metadata": {
        "colab": {
          "base_uri": "https://localhost:8080/"
        },
        "id": "p70yC4LIXpR9",
        "outputId": "3ba959ec-ae55-409e-d2ea-faf5917faaff"
      },
      "execution_count": 8,
      "outputs": [
        {
          "output_type": "stream",
          "name": "stdout",
          "text": [
            "[3.14, 'cat', 11, 'cat', True, 99]\n"
          ]
        }
      ]
    },
    {
      "cell_type": "markdown",
      "source": [
        "8. How does bacon.remove('cat') change the look of the list in bacon?\n",
        "\n",
        "It will remove the first occurence of the 'cat'\n",
        "\n",
        "[3.14, 11, 'cat', True, 99]"
      ],
      "metadata": {
        "id": "25Sf-K9OXsuC"
      }
    },
    {
      "cell_type": "code",
      "source": [
        "bacon.remove('cat')"
      ],
      "metadata": {
        "id": "USxovtFWX5Sx"
      },
      "execution_count": 9,
      "outputs": []
    },
    {
      "cell_type": "code",
      "source": [
        "print(bacon)"
      ],
      "metadata": {
        "colab": {
          "base_uri": "https://localhost:8080/"
        },
        "id": "PGG60r0uX6lg",
        "outputId": "b351f91b-45d7-4e33-961c-14ce1b221893"
      },
      "execution_count": 10,
      "outputs": [
        {
          "output_type": "stream",
          "name": "stdout",
          "text": [
            "[3.14, 11, 'cat', True, 99]\n"
          ]
        }
      ]
    },
    {
      "cell_type": "markdown",
      "source": [
        "9. What are the list concatenation and list replication operators?\n",
        "\n",
        "List concatenation operator is ‘+’ while list replication operator is ‘*’"
      ],
      "metadata": {
        "id": "Z82f1VdCYDmf"
      }
    },
    {
      "cell_type": "markdown",
      "source": [
        "10. What is difference between the list methods append() and insert()?\n",
        "\n",
        "Append method appends the given object to the end of the list always.\n",
        "\n",
        "Insert method accepts two arguments, index at which the element needs to be inserted and the object to insert."
      ],
      "metadata": {
        "id": "xqEOE5b5YHF0"
      }
    },
    {
      "cell_type": "markdown",
      "source": [
        "11. What are the two methods for removing items from a list?\n",
        "\n",
        "Two methods used for removing items from a list are:\n",
        "\n",
        "List.remove(object) -> Removes the first occurrence of the given object\n",
        "\n",
        "from the list\n",
        "\n",
        "List.pop(index = -1) -> Removes and returns item at the index (default is -1, the last element)"
      ],
      "metadata": {
        "id": "iRR1IYA_YNua"
      }
    },
    {
      "cell_type": "markdown",
      "source": [
        "12. Describe how list values and string values are identical.\n",
        "\n",
        "While list is a collection of values in Python, string is a collection of characters. Both list and strings are iterable in Python and a for loop can be used around a list or string object to iterate through each element in the list/string."
      ],
      "metadata": {
        "id": "RbdXVmfmYXij"
      }
    },
    {
      "cell_type": "markdown",
      "source": [
        "13. What's the difference between tuples and lists?\n",
        "\n",
        "Tuples are immutable where as lists in Python are mutable. So once created, the items inside a tuple cannot be changed."
      ],
      "metadata": {
        "id": "SIeepcT7YZvP"
      }
    },
    {
      "cell_type": "markdown",
      "source": [
        "14. How do you type a tuple value that only contains the integer 42?\n",
        "\n",
        "tup = tuple([32])"
      ],
      "metadata": {
        "id": "NYiv6g7NYdsB"
      }
    },
    {
      "cell_type": "code",
      "source": [
        "tup = tuple([32])\n",
        "print(tup)"
      ],
      "metadata": {
        "colab": {
          "base_uri": "https://localhost:8080/"
        },
        "id": "eepXa5buYlkQ",
        "outputId": "d88ab9d0-87d3-4604-8f24-adcba78b2151"
      },
      "execution_count": 11,
      "outputs": [
        {
          "output_type": "stream",
          "name": "stdout",
          "text": [
            "(32,)\n"
          ]
        }
      ]
    },
    {
      "cell_type": "markdown",
      "source": [
        "15. How do you get a list value's tuple form? How do you get a tuple value's list form?\n",
        "\n",
        "By using type casting\n",
        "\n",
        "b = tuple([42, 3, 5])\n",
        "\n",
        "type(b) # tuple\n",
        "\n",
        "c = list(b)\n",
        "\n",
        "type(c) # list"
      ],
      "metadata": {
        "id": "TxB7_wVXYnIK"
      }
    },
    {
      "cell_type": "code",
      "source": [
        "b = tuple([42, 3, 5])\n",
        "type(b)  # tuple\n",
        "c = list(b)\n",
        "type(c) # list"
      ],
      "metadata": {
        "colab": {
          "base_uri": "https://localhost:8080/"
        },
        "id": "L5RByAL9YvZx",
        "outputId": "fdacabcb-35c5-4a76-b155-97712b36a421"
      },
      "execution_count": 12,
      "outputs": [
        {
          "output_type": "execute_result",
          "data": {
            "text/plain": [
              "list"
            ]
          },
          "metadata": {},
          "execution_count": 12
        }
      ]
    },
    {
      "cell_type": "markdown",
      "source": [
        "16. Variables that \"contain\" list values are not necessarily lists themselves. Instead, what do they contain?\n",
        "\n",
        "They contain references to the list values"
      ],
      "metadata": {
        "id": "DJpAMukcYyKR"
      }
    },
    {
      "cell_type": "code",
      "source": [
        "var = [1,2,3]\n",
        "print(var)\n",
        "print(id(var))"
      ],
      "metadata": {
        "colab": {
          "base_uri": "https://localhost:8080/"
        },
        "id": "xnqVC41jY2Xn",
        "outputId": "2072e00b-8941-46e7-da76-233157c808ba"
      },
      "execution_count": 13,
      "outputs": [
        {
          "output_type": "stream",
          "name": "stdout",
          "text": [
            "[1, 2, 3]\n",
            "138807946337472\n"
          ]
        }
      ]
    },
    {
      "cell_type": "markdown",
      "source": [
        "17. How do you distinguish between copy.copy() and copy.deepcopy()?\n",
        "\n",
        "copy() returns a shallow copy of list and deepcopy() return a deep copy of list.\n",
        "\n",
        "deepcopy: In case of deep copy, a copy of object is copied in other\n",
        "\n",
        "object. It means that any changes made to a copy of object do not reflect in the original object.\n",
        "\n",
        "shallow copy: In case of shallow copy, a reference of object is copied in\n",
        "\n",
        "other object. It means that any changes made to a copy of object do reflect in the original object."
      ],
      "metadata": {
        "id": "qQfCjYH4Y8mA"
      }
    },
    {
      "cell_type": "markdown",
      "source": [],
      "metadata": {
        "id": "kmYZpudGYuy1"
      }
    },
    {
      "cell_type": "markdown",
      "source": [],
      "metadata": {
        "id": "wxf1YisoX-KB"
      }
    },
    {
      "cell_type": "markdown",
      "source": [],
      "metadata": {
        "id": "eD71uL7_XMUL"
      }
    },
    {
      "cell_type": "markdown",
      "source": [],
      "metadata": {
        "id": "24e5D7tyWOG2"
      }
    },
    {
      "cell_type": "markdown",
      "source": [],
      "metadata": {
        "id": "_tHZOTq-Ve1G"
      }
    }
  ]
}