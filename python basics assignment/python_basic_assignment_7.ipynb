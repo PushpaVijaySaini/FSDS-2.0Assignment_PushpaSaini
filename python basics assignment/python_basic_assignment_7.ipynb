{
  "nbformat": 4,
  "nbformat_minor": 0,
  "metadata": {
    "colab": {
      "provenance": []
    },
    "kernelspec": {
      "name": "python3",
      "display_name": "Python 3"
    },
    "language_info": {
      "name": "python"
    }
  },
  "cells": [
    {
      "cell_type": "markdown",
      "source": [
        "1. What is the name of the feature responsible for generating Regex objects?\n"
      ],
      "metadata": {
        "id": "OOMM76mnDU2u"
      }
    },
    {
      "cell_type": "markdown",
      "source": [
        "re.compile() is the feature responsible for generation of Regex objects."
      ],
      "metadata": {
        "id": "YpZcYwTRDeiK"
      }
    },
    {
      "cell_type": "code",
      "execution_count": 1,
      "metadata": {
        "id": "bZ_tXgejuV6i",
        "colab": {
          "base_uri": "https://localhost:8080/"
        },
        "outputId": "1e39acc9-faf6-4125-fe07-ecf84490dc0c"
      },
      "outputs": [
        {
          "output_type": "stream",
          "name": "stdout",
          "text": [
            "re.compile('random')\n"
          ]
        }
      ],
      "source": [
        "import re\n",
        "x = re.compile(\"random\")\n",
        "type(x)\n",
        "print(x)"
      ]
    },
    {
      "cell_type": "markdown",
      "source": [
        "2. Why do raw strings often appear in Regex objects?"
      ],
      "metadata": {
        "id": "ns0ax_EIDn4G"
      }
    },
    {
      "cell_type": "markdown",
      "source": [
        "Regular expressions use the backslash character ('\\') to indicate special forms (Metacharacters) or to allow special characters (speical sequences) to be used without invoking their special meaning. This collides with Python’s usage of the same character for the same purpose in string literals. Hence, Raw strings are used (e.g. r\"\\n\") so that backslashes do not have to be escaped"
      ],
      "metadata": {
        "id": "P3cluvaRDrNW"
      }
    },
    {
      "cell_type": "markdown",
      "source": [
        "3. What is the return value of the search() method?"
      ],
      "metadata": {
        "id": "ry_cWrnMD8Ar"
      }
    },
    {
      "cell_type": "markdown",
      "source": [
        "It returns a match object if there is a match else returns none."
      ],
      "metadata": {
        "id": "vusHr6myEDKv"
      }
    },
    {
      "cell_type": "markdown",
      "source": [
        "4. From a Match item, how do you get the actual strings that match the pattern?"
      ],
      "metadata": {
        "id": "xyerLg4xEICQ"
      }
    },
    {
      "cell_type": "code",
      "source": [
        "import re\n",
        "match = re.search('ineuron','Ineuron Full Stack Data Science Program', flags=re.IGNORECASE)\n",
        "print('Output:',match.group())"
      ],
      "metadata": {
        "colab": {
          "base_uri": "https://localhost:8080/"
        },
        "id": "7HsSmwGJEHbt",
        "outputId": "54324c73-2bc7-4cdd-e915-a04094c83b50"
      },
      "execution_count": 2,
      "outputs": [
        {
          "output_type": "stream",
          "name": "stdout",
          "text": [
            "Output: Ineuron\n"
          ]
        }
      ]
    },
    {
      "cell_type": "markdown",
      "source": [
        "For Matched items group() methods returns actual strings that match the pattern"
      ],
      "metadata": {
        "id": "V8pNTubfEULO"
      }
    },
    {
      "cell_type": "markdown",
      "source": [
        "5. In the regex which created from the r&#39;(\\d\\d\\d)-(\\d\\d\\d-\\d\\d\\d\\d)&#39;, what does group zero cover?\n",
        "Group 2? Group 1?"
      ],
      "metadata": {
        "id": "XLXdakWmEcBG"
      }
    },
    {
      "cell_type": "markdown",
      "source": [
        "In the Regex r'(\\d\\d\\d)-(\\d\\d\\d-\\d\\d\\d\\d)' the zero group covers the entire pattern match\n",
        "\n",
        "where as the first group cover (\\d\\d\\d)\n",
        "\n",
        "and the second group cover (\\d\\d\\d-\\d\\d\\d\\d)"
      ],
      "metadata": {
        "id": "a9DX7uTdElj9"
      }
    },
    {
      "cell_type": "markdown",
      "source": [
        "6. In standard expression syntax, parentheses and intervals have distinct meanings. How can you tell\n",
        "a regex that you want it to fit real parentheses and periods?"
      ],
      "metadata": {
        "id": "G_jCCIO3EoMn"
      }
    },
    {
      "cell_type": "markdown",
      "source": [
        "The \\. \\( and \\) escape characters in the raw string passed to re.compile() will match actual parenthesis characters."
      ],
      "metadata": {
        "id": "-pd3Ec1wE_uS"
      }
    },
    {
      "cell_type": "markdown",
      "source": [
        "7. The findall() method returns a string list or a list of string tuples. What causes it to return one of\n",
        "the two options?"
      ],
      "metadata": {
        "id": "uEDNizQ_FHfd"
      }
    },
    {
      "cell_type": "markdown",
      "source": [
        "If the regex pattern has no groups, a list of strings matched is returned. if the regex pattern has groups, a list of tuple of strings is returned."
      ],
      "metadata": {
        "id": "cUwvVyFmFNJ2"
      }
    },
    {
      "cell_type": "markdown",
      "source": [
        "8. In standard expressions, what does the | character mean?"
      ],
      "metadata": {
        "id": "edx0f4mIFPSN"
      }
    },
    {
      "cell_type": "markdown",
      "source": [
        "In Standard Expressions | means OR operator."
      ],
      "metadata": {
        "id": "Vt2c_CM4FVw_"
      }
    },
    {
      "cell_type": "markdown",
      "source": [
        "9. In regular expressions, what does the character stand for?"
      ],
      "metadata": {
        "id": "a_SbGXeWFXSB"
      }
    },
    {
      "cell_type": "markdown",
      "source": [
        " In regular Expressions, ? characters represents zero or one match of the preceeding group."
      ],
      "metadata": {
        "id": "O5p9X0lcFaUB"
      }
    },
    {
      "cell_type": "markdown",
      "source": [
        "10.In regular expressions, what is the difference between the + and * characters?"
      ],
      "metadata": {
        "id": "i5Wd1PVAFlrf"
      }
    },
    {
      "cell_type": "markdown",
      "source": [
        "' + ' refers one or more occurences\n",
        "\n",
        "' * ' refers zero or more occurences."
      ],
      "metadata": {
        "id": "8iA_-LYDFtNU"
      }
    },
    {
      "cell_type": "markdown",
      "source": [
        "11. What is the difference between {4} and {4,5} in regular expression?"
      ],
      "metadata": {
        "id": "Tet5AvbQFvTl"
      }
    },
    {
      "cell_type": "markdown",
      "source": [
        "{4} means preceding character is to be repeated 4 times.\n",
        "\n",
        "{4,5} means preceding character is repeated minimum 4 times and maximum 5 times."
      ],
      "metadata": {
        "id": "Y63EGjKtFyVG"
      }
    },
    {
      "cell_type": "markdown",
      "source": [
        "12. What do you mean by the \\d, \\w, and \\s shorthand character classes signify in regular\n",
        "expressions?"
      ],
      "metadata": {
        "id": "g8JIdng2F2uX"
      }
    },
    {
      "cell_type": "markdown",
      "source": [
        "\\d returns a match where string contains digit(number from 0-9)\n",
        "\n",
        "\\w returns a match where string contains any word character(character from a to Z, digit from 0 to 9 and underscore character)\n",
        "\n",
        "\\s returns a match where string contains a whitespace character."
      ],
      "metadata": {
        "id": "Vh3E-pbpF55N"
      }
    },
    {
      "cell_type": "markdown",
      "source": [
        "13. What do means by \\D, \\W, and \\S shorthand character classes signify in regular expressions?"
      ],
      "metadata": {
        "id": "wV5izgJMGE4-"
      }
    },
    {
      "cell_type": "markdown",
      "source": [
        "\\D, \\W and \\S are special sequences in regular expresssions in python:\n",
        "\n",
        "\\W  Matches any non-alphanumeric character equivalent to [^a-zA-Z0-9_]\n",
        "\n",
        "\\D Matches any non-digit character, this is equivalent to the set class [^0-9]\n",
        "\n",
        "\\S Matches any non-whitespace character"
      ],
      "metadata": {
        "id": "270uziNPGOKT"
      }
    },
    {
      "cell_type": "markdown",
      "source": [
        "14. What is the difference between .*? and .*?"
      ],
      "metadata": {
        "id": "Pxzc3Jy1GcDS"
      }
    },
    {
      "cell_type": "markdown",
      "source": [
        "' . ' accepts as many sequence as available(Greedy approach)\n",
        "\n",
        "' .? ' accepts the first matched sequence and then stops(Non-Greedy approach)."
      ],
      "metadata": {
        "id": "BDq_7pxcGh8r"
      }
    },
    {
      "cell_type": "markdown",
      "source": [
        "15. What is the syntax for matching both numbers and lowercase letters with a character class?"
      ],
      "metadata": {
        "id": "jyQjTXXmGnZy"
      }
    },
    {
      "cell_type": "markdown",
      "source": [
        "[a-z0-9]"
      ],
      "metadata": {
        "id": "Zx6__PZKGqhu"
      }
    },
    {
      "cell_type": "markdown",
      "source": [
        "16. What is the procedure for making a normal expression in regax case insensitive?"
      ],
      "metadata": {
        "id": "7YMfQLc3GxVB"
      }
    },
    {
      "cell_type": "markdown",
      "source": [
        "We can pass re.IGNORECASE as a flag to make a normal expression case insensitive"
      ],
      "metadata": {
        "id": "EJA2qHutG0fG"
      }
    },
    {
      "cell_type": "markdown",
      "source": [
        "17. What does the . character normally match? What does it match if re.DOTALL is passed as 2nd\n",
        "argument in re.compile()?"
      ],
      "metadata": {
        "id": "PJXtAYa2G-SD"
      }
    },
    {
      "cell_type": "markdown",
      "source": [
        "' . ' character normally pass any character except newline character. With the help of DOTALL, ' . ' character can match any character including newline"
      ],
      "metadata": {
        "id": "QlMFTaI-HB08"
      }
    },
    {
      "cell_type": "markdown",
      "source": [
        "18. If numReg = re.compile(r&#39;\\d+&#39;), what will numRegex.sub(&#39;X&#39;, &#39;11 drummers, 10 pipers, five rings, 4\n",
        "hen&#39;) return?"
      ],
      "metadata": {
        "id": "nerhj0aAHH04"
      }
    },
    {
      "cell_type": "code",
      "source": [
        "import re\n",
        "numReg = re.compile(r'\\d+')\n",
        "numReg.sub('X', '11 drummers, 10 pipers, five rings, 4 hen')"
      ],
      "metadata": {
        "colab": {
          "base_uri": "https://localhost:8080/",
          "height": 35
        },
        "id": "HOjSGfNMFSNc",
        "outputId": "9b41f935-7157-47aa-ac46-bd8b6fdcaca6"
      },
      "execution_count": 3,
      "outputs": [
        {
          "output_type": "execute_result",
          "data": {
            "text/plain": [
              "'X drummers, X pipers, five rings, X hen'"
            ],
            "application/vnd.google.colaboratory.intrinsic+json": {
              "type": "string"
            }
          },
          "metadata": {},
          "execution_count": 3
        }
      ]
    },
    {
      "cell_type": "markdown",
      "source": [
        "19. What does passing re.VERBOSE as the 2nd argument to re.compile() allow to do?"
      ],
      "metadata": {
        "id": "07lcDKNIHTaI"
      }
    },
    {
      "cell_type": "markdown",
      "source": [
        "re.VERBOSE will allow to add whitespace and comments to string passed to re.compile()."
      ],
      "metadata": {
        "id": "_9Q66HazHYNA"
      }
    },
    {
      "cell_type": "markdown",
      "source": [
        "20. How would you write a regex that match a number with comma for every three digits? It must\n",
        "match the given following:\n",
        "&#39;42&#39;\n",
        "&#39;1,234&#39;\n",
        "&#39;6,368,745&#39;\n",
        "\n",
        "but not the following:\n",
        "&#39;12,34,567&#39; (which has only two digits between the commas)\n",
        "&#39;1234&#39; (which lacks commas)"
      ],
      "metadata": {
        "id": "4VJBYYG1Hb6v"
      }
    },
    {
      "cell_type": "code",
      "source": [
        "import re\n",
        "pattern = r'^\\d{1,3}(,\\d{3})*$'\n",
        "pagex = re.compile(pattern)\n",
        "for ele in ['42','1,234', '6,368,745','12,34,567','1234']:\n",
        "    print('Output:',ele, '->', pagex.search(ele))"
      ],
      "metadata": {
        "colab": {
          "base_uri": "https://localhost:8080/"
        },
        "id": "739h_h4IHwwo",
        "outputId": "e7f694d0-c79d-49b3-9b6f-503fb33038c2"
      },
      "execution_count": 4,
      "outputs": [
        {
          "output_type": "stream",
          "name": "stdout",
          "text": [
            "Output: 42 -> <re.Match object; span=(0, 2), match='42'>\n",
            "Output: 1,234 -> <re.Match object; span=(0, 5), match='1,234'>\n",
            "Output: 6,368,745 -> <re.Match object; span=(0, 9), match='6,368,745'>\n",
            "Output: 12,34,567 -> None\n",
            "Output: 1234 -> None\n"
          ]
        }
      ]
    },
    {
      "cell_type": "markdown",
      "source": [
        "21. How would you write a regex that matches the full name of someone whose last name is\n",
        "Watanabe? You can assume that the first name that comes before it will always be one word that\n",
        "begins with a capital letter. The regex must match the following:\n",
        "&#39;Haruto Watanabe&#39;\n",
        "&#39;Alice Watanabe&#39;\n",
        "&#39;RoboCop Watanabe&#39;\n",
        "but not the following:\n",
        "&#39;haruto Watanabe&#39; (where the first name is not capitalized)\n",
        "&#39;Mr. Watanabe&#39; (where the preceding word has a nonletter character)\n",
        "&#39;Watanabe&#39; (which has no first name)\n",
        "&#39;Haruto watanabe&#39; (where Watanabe is not capitalized)"
      ],
      "metadata": {
        "id": "fBedN8mRHgl5"
      }
    },
    {
      "cell_type": "code",
      "source": [
        "import re\n",
        "pattern = r'[A-Z]{1}[a-z]*\\sWatanabe'\n",
        "namex = re.compile(pattern)\n",
        "for name in ['Haruto Watanabe','Alice Watanabe','RoboCop Watanabe','haruto Watanabe','Mr. Watanabe','Watanabe','Haruto watanabe']:\n",
        "    print('Output: ',name,'->',namex.search(name))"
      ],
      "metadata": {
        "colab": {
          "base_uri": "https://localhost:8080/"
        },
        "id": "3UuZc4olHbaj",
        "outputId": "beb2d840-a9f2-43a7-c6e8-367fd21287a3"
      },
      "execution_count": 5,
      "outputs": [
        {
          "output_type": "stream",
          "name": "stdout",
          "text": [
            "Output:  Haruto Watanabe -> <re.Match object; span=(0, 15), match='Haruto Watanabe'>\n",
            "Output:  Alice Watanabe -> <re.Match object; span=(0, 14), match='Alice Watanabe'>\n",
            "Output:  RoboCop Watanabe -> <re.Match object; span=(4, 16), match='Cop Watanabe'>\n",
            "Output:  haruto Watanabe -> None\n",
            "Output:  Mr. Watanabe -> None\n",
            "Output:  Watanabe -> None\n",
            "Output:  Haruto watanabe -> None\n"
          ]
        }
      ]
    },
    {
      "cell_type": "markdown",
      "source": [
        "22. How would you write a regex that matches a sentence where the first word is either Alice, Bob,\n",
        "or Carol; the second word is either eats, pets, or throws; the third word is apples, cats, or baseballs;\n",
        "and the sentence ends with a period? This regex should be case-insensitive. It must match the\n",
        "following:\n",
        "&#39;Alice eats apples.&#39;\n",
        "&#39;Bob pets cats.&#39;\n",
        "&#39;Carol throws baseballs.&#39;\n",
        "&#39;Alice throws Apples.&#39;\n",
        "&#39;BOB EATS CATS.&#39;\n",
        "but not the following:\n",
        "&#39;RoboCop eats apples.&#39;\n",
        "&#39;ALICE THROWS FOOTBALLS.&#39;\n",
        "&#39;Carol eats 7 cats.&#39;"
      ],
      "metadata": {
        "id": "UvXYaYJDIEmM"
      }
    },
    {
      "cell_type": "code",
      "source": [
        "import re\n",
        "pattern = r'(Alice|Bob|Carol)\\s(eats|pets|throws)\\s(apples|cats|baseballs)\\.'\n",
        "casex = re.compile(pattern,re.IGNORECASE)\n",
        "for ele in ['Alice eats apples.','Bob pets cats.','Carol throws baseballs.','Alice throws Apples.','BOB EATS CATS.','RoboCop eats apples.'\n",
        ",'ALICE THROWS FOOTBALLS.','Carol eats 7 cats.']:\n",
        "    print('Output: ',ele,'->',casex.search(ele))"
      ],
      "metadata": {
        "colab": {
          "base_uri": "https://localhost:8080/"
        },
        "id": "B6VdiH4WICje",
        "outputId": "a0a84e68-1567-4a2f-a2e1-0f11776fa51a"
      },
      "execution_count": 6,
      "outputs": [
        {
          "output_type": "stream",
          "name": "stdout",
          "text": [
            "Output:  Alice eats apples. -> <re.Match object; span=(0, 18), match='Alice eats apples.'>\n",
            "Output:  Bob pets cats. -> <re.Match object; span=(0, 14), match='Bob pets cats.'>\n",
            "Output:  Carol throws baseballs. -> <re.Match object; span=(0, 23), match='Carol throws baseballs.'>\n",
            "Output:  Alice throws Apples. -> <re.Match object; span=(0, 20), match='Alice throws Apples.'>\n",
            "Output:  BOB EATS CATS. -> <re.Match object; span=(0, 14), match='BOB EATS CATS.'>\n",
            "Output:  RoboCop eats apples. -> None\n",
            "Output:  ALICE THROWS FOOTBALLS. -> None\n",
            "Output:  Carol eats 7 cats. -> None\n"
          ]
        }
      ]
    },
    {
      "cell_type": "code",
      "source": [],
      "metadata": {
        "id": "3b-ZmiFNILQU"
      },
      "execution_count": null,
      "outputs": []
    }
  ]
}