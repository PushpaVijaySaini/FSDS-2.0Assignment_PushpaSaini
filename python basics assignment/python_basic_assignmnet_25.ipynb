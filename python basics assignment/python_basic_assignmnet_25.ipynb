{
  "nbformat": 4,
  "nbformat_minor": 0,
  "metadata": {
    "colab": {
      "provenance": []
    },
    "kernelspec": {
      "name": "python3",
      "display_name": "Python 3"
    },
    "language_info": {
      "name": "python"
    }
  },
  "cells": [
    {
      "cell_type": "markdown",
      "source": [
        "1) . What is the difference between enclosing a list comprehension in square brackets and\n",
        "parentheses?"
      ],
      "metadata": {
        "id": "ecUK9ZnymE88"
      }
    },
    {
      "cell_type": "markdown",
      "source": [
        "Enclosing a list comprehension in square brackets returns a list.but where as enclosing a list comprehension in parentheses returns a generator object"
      ],
      "metadata": {
        "id": "u2Yj0KFYmlPX"
      }
    },
    {
      "cell_type": "code",
      "execution_count": null,
      "metadata": {
        "colab": {
          "base_uri": "https://localhost:8080/"
        },
        "id": "66Pv1T0AmEIz",
        "outputId": "5b66c370-0487-4a74-ee61-9207858f6906"
      },
      "outputs": [
        {
          "output_type": "stream",
          "name": "stdout",
          "text": [
            "[0, 1, 2, 3, 4, 5, 6, 7, 8, 9] <class 'list'>\n",
            "<generator object <genexpr> at 0x7f8ada2b8900> <class 'generator'>\n"
          ]
        }
      ],
      "source": [
        "l = [ele for ele in range(10)]\n",
        "print(l, type(l))\n",
        "g = (ele for ele in range(10))\n",
        "print(g, type(g))"
      ]
    },
    {
      "cell_type": "markdown",
      "source": [
        "2) What is the relationship between generators and iterators?"
      ],
      "metadata": {
        "id": "Mk7ypc0qm9sj"
      }
    },
    {
      "cell_type": "markdown",
      "source": [
        " An iterator is an object which contains a countable number of values and it is used to iterate over iterable objects like list, tuples etc\n",
        "Using an iterator- iter() keyword is used to create an iterator containing an iterable object. next() keyword is used to call the next element in the iterable object.\n",
        "\n",
        "Generator:\n",
        "\n",
        "It is another way of creating iterators in a simple way where it uses the keyword “yield” instead of returning it in a defined function Generators are implemented using a function Here, the yield function returns the data without affecting or exiting the function. It will return a sequence of data in an iterable format where we need to iterate over the sequence to use the data as they won’t store the entire sequence in the memory By using next() function we can iterate the output of generator function"
      ],
      "metadata": {
        "id": "xSEnpGAInEsm"
      }
    },
    {
      "cell_type": "markdown",
      "source": [
        "3) What are the signs that a function is a generator function?"
      ],
      "metadata": {
        "id": "xmSKpKLxnIaH"
      }
    },
    {
      "cell_type": "markdown",
      "source": [
        " A generator function uses a yield statement instead of a return statement. A generator function will always return a iterable object called generator. where as a normal function can return a string/list/tuple/dict/NoneType ... etc"
      ],
      "metadata": {
        "id": "N7YZjeMdnLYO"
      }
    },
    {
      "cell_type": "markdown",
      "source": [
        "4) What is the purpose of a yield statement?"
      ],
      "metadata": {
        "id": "OrG_rVqbnUtz"
      }
    },
    {
      "cell_type": "markdown",
      "source": [
        "The yield statement suspends function’s execution and sends a value back to the caller, but retains enough state to enable function to resume where it is left off. When resumed, the function continues execution immediately after the last yield run. This allows its code to produce a series of values over time, rather than computing them at once and sending them back like a list."
      ],
      "metadata": {
        "id": "Tn0wODYnnZch"
      }
    },
    {
      "cell_type": "markdown",
      "source": [
        "5) What is the relationship between map calls and list comprehensions? Make a comparison and\n",
        "contrast between the two."
      ],
      "metadata": {
        "id": "M7LRFneCnamZ"
      }
    },
    {
      "cell_type": "markdown",
      "source": [
        "The main differences between map calls and list comprehensiosn are:\n",
        "\n",
        "List comprehension is more concise and easier to read as compared to map.\n",
        "\n",
        "List comprehension allows filtering. In map, we have no such facility. For example, to print all odd numbers in range of 50, we can write [n for n in range(50) if n%2 != 0]. There is no alternate for it in map\n",
        "\n",
        "List comprehension are used when a list of results is required as final output.but map only returns a map object. it needs to be explicitly coverted to desired datatype.\n",
        "\n",
        "List comprehension is faster than map when we need to evaluate expressions that are too long or complicated to express\n",
        "Map is faster in case of calling an already defined function on a set of values."
      ],
      "metadata": {
        "id": "5mTK_W9LnfQz"
      }
    },
    {
      "cell_type": "code",
      "source": [],
      "metadata": {
        "id": "06ReXWxYmoEe"
      },
      "execution_count": null,
      "outputs": []
    }
  ]
}