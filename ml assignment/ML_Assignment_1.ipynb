{
  "nbformat": 4,
  "nbformat_minor": 0,
  "metadata": {
    "colab": {
      "provenance": []
    },
    "kernelspec": {
      "name": "python3",
      "display_name": "Python 3"
    },
    "language_info": {
      "name": "python"
    }
  },
  "cells": [
    {
      "cell_type": "markdown",
      "source": [
        "## ML ASSIGNMENT 1"
      ],
      "metadata": {
        "id": "9Fjp5RIxk8tF"
      }
    },
    {
      "cell_type": "markdown",
      "source": [
        "1.\tWhat does one mean by the term “machine learning”?\n",
        "\n",
        "Ans. Machine learning is defined by programming machine to learn from data to solve a specific problem. Machine learning Popularly known as ML is a branch of Artificial Intelligence (AI) that allows software applications to become more accurate at predicting outcomes without being explicitly programmed to do so. Machine learning algorithms use historical data as input to predict new output values.\n"
      ],
      "metadata": {
        "id": "QZUVZwkClEtt"
      }
    },
    {
      "cell_type": "markdown",
      "source": [
        "2.\tCan you think of 4 distinct types of issues where it shines?\n",
        "\n",
        "Ans. Machine learning is great for problems whose solution requires a great deal of work or     a long list of rules, complex problems that are hard to get a solution of using a traditional method, fluctuating environments and getting insights about complex problems and large data.\n",
        "\n",
        "The following are some of the issues where Machine Learning can be used:\n",
        "\n",
        "•\tImage Recognition: Image recognition is one of the most common applications of machine learning. It is used to identify objects, persons, places, digital images, etc. The popular use case of image recognition and face detection is Automatic friend tagging suggestion.\n",
        "\n",
        "•\tSpeech Recognition: While using Google, we get an option of Search by voice, it comes under speech recognition, and it's a popular application of Machine Learning. Speech recognition is a process of converting voice instructions into text, and it is also known as Speech to text, or Computer based speech recognition.\n",
        "\n",
        "•\tTraffic prediction: It predicts the traffic conditions such as whether traffic is cleared, slow-moving, or heavily congested with the help of two ways: Real Time location of the vehicle form Google Map app and sensors Average time has taken on past days at the same time.\n",
        "\n",
        "•\tProduct recommendations: Machine learning is widely used by various e-commerce and entertainment companies such as Amazon, Netflix, etc., for product recommendation to the user.\n"
      ],
      "metadata": {
        "id": "72IjHpZXlOb5"
      }
    },
    {
      "cell_type": "markdown",
      "source": [
        "3.\tWhat is a labeled training set, and how does it work?\n",
        "\n",
        "Ans. You split up the data containing known response variable values into two pieces. The training set is used to train the algorithm, and then you use the trained model on the test set to predict the response variable values that are already known. Labeled training set is a set of training data which has a solution to the problem or task.\n"
      ],
      "metadata": {
        "id": "DNaEz43vlOVp"
      }
    },
    {
      "cell_type": "markdown",
      "source": [
        "4.\tWhat are the two most important tasks that are supervised?\n",
        "\n",
        "Ans: The two most common supervised learning tasks are Regression and Classification.\n"
      ],
      "metadata": {
        "id": "7CYRKrhflOQM"
      }
    },
    {
      "cell_type": "markdown",
      "source": [
        "5.\tCan you think of four examples of unsupervised tasks?\n",
        "\n",
        "Ans. Four common Unsupervised Tasks included Clustering, Visualization, Dimensionality Reduction, and Association Rule Learning.\n"
      ],
      "metadata": {
        "id": "shaOXEJmlONf"
      }
    },
    {
      "cell_type": "markdown",
      "source": [
        "6.\tState the machine learning model that would be best to make a robot walk through various unfamiliar terrains?\n",
        "\n",
        "Ans. The best Machine Learning algorithm to allow a robot to walk in unfamiliar terrains is Reinforced Learning, where the robot can learn from response of the terrain to optimize itself.\n"
      ],
      "metadata": {
        "id": "zGeARTwClOK5"
      }
    },
    {
      "cell_type": "markdown",
      "source": [
        "7.\tWhich algorithm will you use to divide your customers into different groups?\n",
        "\n",
        "Ans. The Best Algorithm to Segment Customers into different groups is either Supervised Learning (if the groups have known labels) or Unsupervised Learning (if there are no group labels).\n"
      ],
      "metadata": {
        "id": "uMtB8tcvlOIN"
      }
    },
    {
      "cell_type": "markdown",
      "source": [
        "8.\tWill you consider the problem of spam detection to be a supervised or unsupervised learning problem?\n",
        "\n",
        "Ans. Spam detection is a Supervised Machine Learning problem because the labels are known (spam or no spam).\n"
      ],
      "metadata": {
        "id": "xE8LgJFFlOFU"
      }
    },
    {
      "cell_type": "markdown",
      "source": [
        "9.\tWhat is the concept of an online learning system?\n",
        "\n",
        "Ans. Online learning system is a learning system in which the machine learns continuously, as data is given in small streams continuously.\n"
      ],
      "metadata": {
        "id": "62NrlERZlOCh"
      }
    },
    {
      "cell_type": "markdown",
      "source": [
        "10.\tWhat is out-of-core learning, and how does it differ from core learning?\n",
        "\n",
        "Ans: Out-of-core learning system is a system that can handle data that cannot fit into your computer memory. It uses online learning system to feed data in small bits.\n",
        "\n",
        "Core ML applies a machine learning algorithm to a set of training data to create a model. You use a model to make predictions based on new input data. Models can accomplish a wide variety of tasks that would be difficult or impractical to write in code.\n"
      ],
      "metadata": {
        "id": "RfsA8FfPlN-H"
      }
    },
    {
      "cell_type": "markdown",
      "source": [
        "11.\tWhat kind of learning algorithm makes predictions using a similarity measure?\n",
        "\n",
        " Ans. Learning algorithm that relies on a similarity measure to make predictions is Instance Based Algorithm.\n"
      ],
      "metadata": {
        "id": "0hhbWc7NlN6f"
      }
    },
    {
      "cell_type": "markdown",
      "source": [
        "12.\tWhat is the difference between a model parameter and a hyperparameter in a learning\n",
        "algorithm?\n",
        "\n",
        "Ans. Model parameter determines how a model will predict given a new instance. Model usually has more than one parameter (i.e., slope of a linear model). Hyperparameter is a parameter for the learning algorithm, not of a model.\n"
      ],
      "metadata": {
        "id": "gu1Bir_hmL9P"
      }
    },
    {
      "cell_type": "markdown",
      "source": [
        "13.\tWhat are the criteria that model-based learning algorithms look for? What is the most popular\n",
        "method they use to achieve success? What method do they use to make predictions?\n",
        "\n",
        "Ans: Model based learning algorithm search for the optimal value of parameters in a model that will give the best results for the new instances.\n",
        "\n",
        "We often use a cost function or similar to determine what the parameter value has to be in order to minimize the function.\n",
        "The model makes prediction by using the value of the new instance and the parameters in its function.\n"
      ],
      "metadata": {
        "id": "FSq3GcGKmL5Z"
      }
    },
    {
      "cell_type": "markdown",
      "source": [
        "14.\tCan you name four of the most important Machine Learning challenges?\n",
        "\n",
        "Ans. Four main challenges in Machine Learning include the following:\n",
        "\n",
        "1.\tOverfitting the Data (using a model too complicated)\n",
        "2.\tUnderfitting the data (using a simple model)\n",
        "3.\tLacking in Data\n",
        "4.\tNon-Representative Data\n"
      ],
      "metadata": {
        "id": "5QcBZGyJmLn7"
      }
    },
    {
      "cell_type": "markdown",
      "source": [
        "15.\tWhat happens if the model performs well on the training data but fails to generalize the results to new situations? Can you think of three different options?\n",
        "\n",
        " Ans. If the model performs poorly to new instances, then it has overfitted on the training data. To solve this, we can do any of the following three:\n",
        "\n",
        "•\tGet more data\n",
        "\n",
        "•\tImplement a simpler model\n",
        "\n",
        "•\tEliminate outliers or noise from the existing data set\n"
      ],
      "metadata": {
        "id": "yOUT9fvamc1T"
      }
    },
    {
      "cell_type": "markdown",
      "source": [
        "16.\tWhat exactly is a test set, and why would you need one?\n",
        "\n",
        "Ans. Test set is a set to test the model (fit using training data) to see how it performs. Test set is necessary to determine how good (or bad) a model performs.\n"
      ],
      "metadata": {
        "id": "Bsqt078kmk9-"
      }
    },
    {
      "cell_type": "markdown",
      "source": [
        "17.\tWhat is a validation set’s purpose?\n",
        "\n",
        "Ans: Validation set is a set used to compare between different training models. Cross-validation is a tool to compare models without needing a separate validation set. It is preferred over validation set because we can save from breaking of part of the training set to create a validation set, as having more data is valuable regardless.\n"
      ],
      "metadata": {
        "id": "whjdCupKmquW"
      }
    },
    {
      "cell_type": "markdown",
      "source": [
        "\n",
        "18.\tWhat precisely is the train-dev kit, when will you need it, how do you put it to use?\n",
        "\n",
        "Ans. If the training set and dev sets have different distributions, it is good practice to introduce a train-dev set that has the same distribution as the training set. This train-dev set will be used to measure how much the model is overfitting.\n"
      ],
      "metadata": {
        "id": "kgAcWAEHmqgE"
      }
    },
    {
      "cell_type": "markdown",
      "source": [
        "19.\tWhat could go wrong if you use the test set to tune hyperparameters?\n",
        "\n",
        "Ans.  If we tune hyperparameters using the test sets, then it may not perform well on the out-of-sample data because the model is tuned just for that specific set.\n"
      ],
      "metadata": {
        "id": "jItbQ9p1mqSK"
      }
    },
    {
      "cell_type": "markdown",
      "source": [],
      "metadata": {
        "id": "WCTu7JxWmqB-"
      }
    },
    {
      "cell_type": "code",
      "execution_count": null,
      "metadata": {
        "id": "4pUS6j8ik7An"
      },
      "outputs": [],
      "source": []
    }
  ]
}