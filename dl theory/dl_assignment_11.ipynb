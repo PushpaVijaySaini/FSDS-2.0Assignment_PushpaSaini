{
  "nbformat": 4,
  "nbformat_minor": 0,
  "metadata": {
    "colab": {
      "provenance": []
    },
    "kernelspec": {
      "name": "python3",
      "display_name": "Python 3"
    },
    "language_info": {
      "name": "python"
    }
  },
  "cells": [
    {
      "cell_type": "markdown",
      "source": [
        "1. Write the Python code to implement a single neuron."
      ],
      "metadata": {
        "id": "LA5YN8PhhmNB"
      }
    },
    {
      "cell_type": "code",
      "source": [
        "import numpy as np"
      ],
      "metadata": {
        "id": "KuLgEczjhuLz"
      },
      "execution_count": 2,
      "outputs": []
    },
    {
      "cell_type": "code",
      "execution_count": 3,
      "metadata": {
        "colab": {
          "base_uri": "https://localhost:8080/"
        },
        "id": "QKWxhsEQhNS7",
        "outputId": "7fe602ad-29e4-47f3-f5f6-977e906f3066"
      },
      "outputs": [
        {
          "output_type": "stream",
          "name": "stdout",
          "text": [
            "Enter input 1: 45\n",
            "Enter input 2: 34\n",
            "The predicted output is: 0.9872724942757606\n"
          ]
        }
      ],
      "source": [
        "class Neuron:\n",
        "    def __init__(self, input_size):\n",
        "        self.weights = np.random.rand(input_size)\n",
        "        self.bias = np.random.rand()\n",
        "\n",
        "    def forward(self, inputs):\n",
        "        z = np.dot(inputs, self.weights) + self.bias\n",
        "        a = self.activation_function(z)\n",
        "        return a\n",
        "\n",
        "    def activation_function(self, x):\n",
        "        return 1 / (1 + np.exp(-x))\n",
        "# create a neuron with 2 inputs\n",
        "neuron = Neuron(2)\n",
        "# get input values from the user\n",
        "input1 = float(input(\"Enter input 1: \"))\n",
        "input2 = float(input(\"Enter input 2: \"))\n",
        "# make a prediction based on the inputs\n",
        "inputs = np.array([input1, input2])\n",
        "output = neuron.forward(inputs)\n",
        "print(\"The predicted output is:\", output)"
      ]
    },
    {
      "cell_type": "markdown",
      "source": [
        "2. Write the Python code to implement ReLU."
      ],
      "metadata": {
        "id": "bZkyfD6KiAcR"
      }
    },
    {
      "cell_type": "code",
      "source": [
        "import numpy as np\n",
        "def relu(x):\n",
        "    return np.maximum(0, x)\n",
        "# get input value from the user\n",
        "x = float(input(\"Enter a value for x: \"))\n",
        "# apply ReLU to the input value\n",
        "output = relu(x)\n",
        "print(\"The output of ReLU applied to\", x, \"is:\", output)"
      ],
      "metadata": {
        "colab": {
          "base_uri": "https://localhost:8080/"
        },
        "id": "GF1XlFrahzCq",
        "outputId": "5b53efd2-48e0-4c16-9b52-f451d7a53ae2"
      },
      "execution_count": 4,
      "outputs": [
        {
          "output_type": "stream",
          "name": "stdout",
          "text": [
            "Enter a value for x: 3\n",
            "The output of ReLU applied to 3.0 is: 3.0\n"
          ]
        }
      ]
    },
    {
      "cell_type": "markdown",
      "source": [
        "3. Write the Python code for a dense layer in terms of matrix multiplication."
      ],
      "metadata": {
        "id": "x3dtIAvIiKsS"
      }
    },
    {
      "cell_type": "code",
      "source": [
        "import numpy as np\n",
        "class DenseLayer:\n",
        "    def __init__(self, input_size, output_size):\n",
        "        self.weights = np.random.rand(input_size, output_size)\n",
        "        self.bias = np.random.rand(output_size)\n",
        "\n",
        "    def forward(self, inputs):\n",
        "        z = np.dot(inputs, self.weights) + self.bias\n",
        "        return z\n",
        "# create a dense layer with 2 inputs and 3 outputs\n",
        "layer = DenseLayer(2, 3)\n",
        "# get input values from the user\n",
        "input1 = float(input(\"Enter input 1: \"))\n",
        "input2 = float(input(\"Enter input 2: \"))\n",
        "# make a prediction based on the inputs\n",
        "inputs = np.array([input1, input2])\n",
        "output = layer.forward(inputs)\n",
        "print(\"The predicted output is:\", output)"
      ],
      "metadata": {
        "colab": {
          "base_uri": "https://localhost:8080/"
        },
        "id": "Jz4KXGuGiIaM",
        "outputId": "c62e74d9-36f2-451e-ed54-71b06bfd5850"
      },
      "execution_count": 5,
      "outputs": [
        {
          "output_type": "stream",
          "name": "stdout",
          "text": [
            "Enter input 1: 3\n",
            "Enter input 2: 4\n",
            "The predicted output is: [5.77449343 2.16807631 4.5058273 ]\n"
          ]
        }
      ]
    },
    {
      "cell_type": "markdown",
      "source": [
        "4. Write the Python code for a dense layer in plain Python (that is, with list comprehensions and functionality built into Python)."
      ],
      "metadata": {
        "id": "XrdKebpQierB"
      }
    },
    {
      "cell_type": "code",
      "source": [
        "import random\n",
        "class DenseLayer:\n",
        "    def __init__(self, input_size, output_size):\n",
        "        self.weights = [[random.random() for _ in range(output_size)] for _ in range(input_size)]\n",
        "        self.bias = [random.random() for _ in range(output_size)]\n",
        "\n",
        "    def forward(self, inputs):\n",
        "        z = [sum([inputs[i] * self.weights[i][j] for i in range(len(inputs))]) + self.bias[j] for j in range(len(self.bias))]\n",
        "        return z\n",
        "# create a dense layer with 2 inputs and 3 outputs\n",
        "layer = DenseLayer(2, 3)\n",
        "# get input values from the user\n",
        "input1 = float(input(\"Enter input 1: \"))\n",
        "input2 = float(input(\"Enter input 2: \"))\n",
        "# make a prediction based on the inputs\n",
        "inputs = [input1, input2]\n",
        "output = layer.forward(inputs)\n",
        "print(\"The predicted output is:\", output)"
      ],
      "metadata": {
        "colab": {
          "base_uri": "https://localhost:8080/"
        },
        "id": "mfYjdSr_iXgC",
        "outputId": "0e2ae118-9f0b-4d77-f86e-6752a2c30dac"
      },
      "execution_count": 6,
      "outputs": [
        {
          "output_type": "stream",
          "name": "stdout",
          "text": [
            "Enter input 1: 4\n",
            "Enter input 2: 5\n",
            "The predicted output is: [5.500108966096777, 5.983741049940242, 4.492185411007376]\n"
          ]
        }
      ]
    },
    {
      "cell_type": "markdown",
      "source": [
        "5. What is the “hidden size” of a layer?\n",
        "\n",
        "Ans: The \"hidden size\" of a layer refers to the number of neurons in that layer. In other words, it is the number of nodes in the layer that are not directly connected to the input or output layers.\n",
        "\n",
        "For example, in a neural network with an input layer, an output layer, and a single hidden layer, the hidden size of that layer would refer to the number of neurons in the hidden layer. The input and output layers have a fixed size determined by the input and output of the task being performed, but the number of neurons in the hidden layer can vary and is typically chosen by the user based on the complexity of the task.\n",
        "\n",
        "The hidden size of a layer is an important hyperparameter that can affect the performance of a neural network. A larger hidden size may allow the network to learn more complex features, but may also increase the risk of overfitting. On the other hand, a smaller hidden size may simplify the network and reduce the risk of overfitting, but may not be able to learn as complex of features."
      ],
      "metadata": {
        "id": "rczOvToBirEz"
      }
    },
    {
      "cell_type": "markdown",
      "source": [
        "6. What does the t method do in PyTorch?\n",
        "\n",
        "Ans:\n",
        "\n",
        "In PyTorch, the t() method is used to transpose a tensor.\n",
        "\n",
        "A tensor in PyTorch is a multi-dimensional array, similar to a NumPy array. Transposing a tensor means to swap its rows and columns, effectively rotating the tensor. For example, if we have a 2-dimensional tensor t with shape (3, 4), transposing it would result in a tensor with shape (4, 3).\n",
        "\n"
      ],
      "metadata": {
        "id": "jhtUGgQAiyj_"
      }
    },
    {
      "cell_type": "markdown",
      "source": [
        "7. Why is matrix multiplication written in plain Python very slow?\n",
        "\n",
        "Ans: Matrix multiplication involves a large number of arithmetic operations, and performing those operations using the basic Python operations can be slow because Python is an interpreted language, which means that it has to interpret and execute each line of code at runtime. This can lead to a significant overhead when working with large matrices.\n",
        "\n",
        "Moreover, the built-in data structures in Python, such as lists or tuples, are not optimized for numerical operations and lack the efficient memory access patterns that are required for efficient matrix multiplication.\n",
        "\n",
        "In contrast, specialized numerical libraries such as NumPy or TensorFlow are written in optimized C or Fortran code, which allows for much faster execution of numerical operations. They also offer various optimizations such as parallelism, vectorization, and caching, which further improve the performance of matrix multiplication.\n",
        "\n",
        "Therefore, if you need to perform matrix multiplication, it's recommended to use a specialized library such as NumPy, which provides optimized functions for matrix operations and can execute them much faster than plain Python."
      ],
      "metadata": {
        "id": "wvfG80Zyi30D"
      }
    },
    {
      "cell_type": "markdown",
      "source": [
        "8. In matmul, why is ac==br?\n",
        "\n",
        "Ans: In matrix multiplication, two matrices A and B can be multiplied only if the number of columns of A (denoted by 'c') is equal to the number of rows of B (denoted by 'r').\n",
        "\n",
        "When we write matmul(A,B), A is assumed to be a matrix of shape (a, c) and B is assumed to be a matrix of shape (c, b). The resulting matrix C from the matrix multiplication of A and B would have the shape (a, b).\n",
        "\n",
        "The element at row 'i' and column 'j' in C can be calculated by taking the dot product of the i-th row of A and the j-th column of B. This requires that the length of the row in A (i.e., 'c') must be equal to the length of the column in B (also 'c'). Therefore, we have the requirement that ac == br in order to perform matrix multiplication using matmul.\n",
        "\n",
        "In summary, the requirement ac == br ensures that the matrices can be multiplied according to the rules of matrix multiplication, and that the resulting matrix has the expected shape."
      ],
      "metadata": {
        "id": "qHTqQi21jeRR"
      }
    },
    {
      "cell_type": "markdown",
      "source": [
        "9. In Jupyter Notebook, how do you measure the time taken for a single cell to execute?\n",
        "\n",
        "Ans: To measure the time taken for a single cell to execute in a Jupyter Notebook, you can use the %%timeit magic command. This command runs the cell multiple times and provides the average time taken for the cell to execute.\n",
        "\n",
        "To use the %%timeit command, you simply need to add it at the beginning of the cell you want to time. For example:\n",
        "\n",
        "%%timeit\n",
        "\n",
        "# Your code here\n",
        "\n",
        "Once you run the cell with the %%timeit command, Jupyter Notebook will execute the cell multiple times with different inputs and record the time taken for each execution. It will then calculate the average time taken and display it along with other statistics such as standard deviation and confidence intervals.\n",
        "\n",
        "Alternatively, you can also use the %time command to measure the time taken for a single execution of a cell. This command provides more detailed information than %%timeit, but it only runs the cell once. To use %time, simply add it at the beginning of the cell you want to time, like this:\n",
        "\n",
        "%time\n",
        "# Your code here\n",
        "\n",
        "After running the cell with %time, Jupyter Notebook will display the time taken for the cell to execute, along with other detailed information about the execution, such as CPU time and memory usage."
      ],
      "metadata": {
        "id": "SQYLTRMXjf3x"
      }
    },
    {
      "cell_type": "markdown",
      "source": [
        "10. What is elementwise arithmetic?\n",
        "\n",
        "Ans: Elementwise arithmetic refers to performing arithmetic operations on the corresponding elements of two or more arrays or matrices. In elementwise arithmetic, each element of one array is paired with the corresponding element of another array, and the arithmetic operation is performed on those pairs of elements.\n",
        "\n",
        "For example, given two arrays A and B, elementwise addition would involve adding each element of A to the corresponding element of B, resulting in a new array C where each element is the sum of the corresponding elements in A and B.\n",
        "\n",
        "Elementwise arithmetic is commonly used in numerical computations, particularly in linear algebra and machine learning. In Python, libraries such as NumPy provide efficient support for elementwise arithmetic operations on arrays and matrices.\n",
        "\n",
        "Elementwise arithmetic is different from matrix multiplication, where each element in the resulting matrix is the sum of the products of the corresponding elements of two input matrices. In matrix multiplication, the input matrices must have compatible shapes, whereas in elementwise arithmetic, the input arrays must have the same shape."
      ],
      "metadata": {
        "id": "IuLE4poAkPX0"
      }
    },
    {
      "cell_type": "markdown",
      "source": [
        "11. Write the PyTorch code to test whether every element of a is greater than the corresponding element of b."
      ],
      "metadata": {
        "id": "t5kQ-gtekb1O"
      }
    },
    {
      "cell_type": "code",
      "source": [
        "import torch\n",
        "a = torch.tensor([1, 2, 3])\n",
        "b = torch.tensor([0, 2, 2])\n",
        "result = torch.gt(a, b)\n",
        "if torch.all(result):\n",
        "    print(\"All elements of a are greater than b\")\n",
        "else:\n",
        "    print(\"Not all elements of a are greater than b\")\n",
        "    print(\"Indices where the condition fails: \", torch.where(result == False))"
      ],
      "metadata": {
        "colab": {
          "base_uri": "https://localhost:8080/"
        },
        "id": "0K-Vpr5vkU-j",
        "outputId": "3c11be37-6cf6-4d33-87d0-1de0a9685133"
      },
      "execution_count": 7,
      "outputs": [
        {
          "output_type": "stream",
          "name": "stdout",
          "text": [
            "Not all elements of a are greater than b\n",
            "Indices where the condition fails:  (tensor([1]),)\n"
          ]
        }
      ]
    },
    {
      "cell_type": "markdown",
      "source": [
        "12. What is a rank-0 tensor? How do you convert it to a plain Python data type?\n",
        "\n",
        "Ans: A rank-0 tensor is a tensor with zero dimensions, also known as a scalar or a 0-d tensor. It represents a single numerical value, such as an integer or a floating-point number.\n",
        "\n",
        "In PyTorch, a rank-0 tensor is created using the torch.tensor() function with a single argument, which is the scalar value:"
      ],
      "metadata": {
        "id": "LWJh0DqYkiGF"
      }
    },
    {
      "cell_type": "markdown",
      "source": [
        "13. How does elementwise arithmetic help us speed up matmul?\n",
        "\n",
        "Ans: Element-wise arithmetic can help speed up matrix multiplication by reducing the number of operations required to compute the result. Specifically, element-wise arithmetic can be used to implement a faster version of matrix multiplication known as “broadcasting matrix multiplication.”\n",
        "\n",
        "In broadcasting matrix multiplication, the two matrices being multiplied are broadcasted to have the same shape. This allows us to perform element-wise multiplication between the two matrices, followed by a sum along one of the axes to compute the final result.\n",
        "\n",
        "This approach can be much faster than traditional matrix multiplication because it takes advantage of the parallel processing capabilities of modern hardware. By performing many element-wise operations in parallel, we can significantly reduce the time it takes to compute the result of a matrix multiplication.\n",
        "\n",
        "Here’s an example that shows how element-wise arithmetic can be used to implement a faster version of matrix multiplication:\n",
        "\n",
        "14. What are the broadcasting rules?\n",
        "\n",
        "Ans: Broadcasting is a powerful mechanism in NumPy and PyTorch that allows you to perform operations between tensors of different shapes. The broadcasting rules determine how tensors with different shapes are treated during arithmetic operations.\n",
        "\n",
        "Here are the broadcasting rules:\n",
        "\n",
        "If the two tensors have different numbers of dimensions, the shape of the tensor with fewer dimensions is padded with ones on its leading (left) side.\n",
        "\n",
        "If the shape of the two tensors does not match in any dimension, the tensor with shape equal to 1 in that dimension is stretched to match the other shape.\n",
        "\n",
        "If in any dimension the sizes disagree and neither is equal to 1, an error is raised.\n",
        "\n",
        "These rules allow you to perform element-wise operations between tensors of different shapes in a flexible and intuitive manner."
      ],
      "metadata": {
        "id": "hIXyEKRbk4sm"
      }
    },
    {
      "cell_type": "markdown",
      "source": [
        "15. What is expand_as? Show an example of how it can be used to match the results of broadcasting.\n",
        "\n",
        "Ans: expand_as is a PyTorch tensor method that allows you to expand a tensor to the size of another tensor. This can be useful when you want to perform operations between tensors of different sizes that are not broadcastable.\n",
        "\n",
        "Here’s an example that shows how expand_as can be used to match the results of broadcasting:"
      ],
      "metadata": {
        "id": "JXxfLBiilOVr"
      }
    },
    {
      "cell_type": "code",
      "source": [
        "import torch\n",
        "\n",
        "# Create two tensors of different sizes\n",
        "x = torch.tensor([[1], [2], [3]])\n",
        "y = torch.tensor([4, 5, 6])\n",
        "\n",
        "# Use expand_as to expand x to the size of the result of broadcasting x and y\n",
        "x_expanded = x.expand_as(x + y)\n",
        "\n",
        "# Perform element-wise addition between x_expanded and y\n",
        "result = x_expanded + y\n",
        "\n",
        "print(result)"
      ],
      "metadata": {
        "colab": {
          "base_uri": "https://localhost:8080/"
        },
        "id": "ZKJo4YSLjfU5",
        "outputId": "72807509-32db-4337-c8cc-f6e52518f446"
      },
      "execution_count": 8,
      "outputs": [
        {
          "output_type": "stream",
          "name": "stdout",
          "text": [
            "tensor([[5, 6, 7],\n",
            "        [6, 7, 8],\n",
            "        [7, 8, 9]])\n"
          ]
        }
      ]
    },
    {
      "cell_type": "markdown",
      "source": [
        "In this example, x is a 3x1 tensor and y is a 1D tensor of size 3. The expand_as method is used to expand x to the size of the result of broadcasting x and y. This allows us to perform element-wise addition between x_expanded and y, producing the same result as if we had broadcasted x and y."
      ],
      "metadata": {
        "id": "Torz3SQxlWDy"
      }
    },
    {
      "cell_type": "code",
      "source": [],
      "metadata": {
        "id": "83Wf00nUlTKg"
      },
      "execution_count": null,
      "outputs": []
    }
  ]
}